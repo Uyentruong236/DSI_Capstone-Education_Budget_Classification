{
 "cells": [
  {
   "cell_type": "code",
   "execution_count": 1,
   "metadata": {},
   "outputs": [],
   "source": [
    "%run ../__init__.py"
   ]
  },
  {
   "cell_type": "markdown",
   "metadata": {},
   "source": [
    "## Data preprocessing with Tfidf"
   ]
  },
  {
   "cell_type": "code",
   "execution_count": 2,
   "metadata": {},
   "outputs": [],
   "source": [
    "budget_df = pd.read_csv('../data/budget_df_cleaned1.csv', index_col=0)"
   ]
  },
  {
   "cell_type": "code",
   "execution_count": 3,
   "metadata": {},
   "outputs": [],
   "source": [
    "# budget_df.head()"
   ]
  },
  {
   "cell_type": "code",
   "execution_count": 4,
   "metadata": {},
   "outputs": [
    {
     "name": "stderr",
     "output_type": "stream",
     "text": [
      "/opt/conda/lib/python3.6/site-packages/IPython/core/interactiveshell.py:2728: DtypeWarning: Columns (6,12) have mixed types. Specify dtype option on import or set low_memory=False.\n",
      "  interactivity=interactivity, compiler=compiler, result=result)\n"
     ]
    }
   ],
   "source": [
    "budget_test = pd.read_csv('../data/budget_test_clean.csv', index_col=0)"
   ]
  },
  {
   "cell_type": "code",
   "execution_count": 5,
   "metadata": {},
   "outputs": [],
   "source": [
    "for col in budget_test[word_predictors[0:14]]:\n",
    "    budget_test[col] = budget_test[word_predictors[0:14]].loc[:,[col]].fillna(' ')"
   ]
  },
  {
   "cell_type": "code",
   "execution_count": 6,
   "metadata": {},
   "outputs": [],
   "source": [
    "for col in budget_df[word_predictors]:\n",
    "    budget_df[col] = budget_df[word_predictors].loc[:,[col]].fillna(' ')"
   ]
  },
  {
   "cell_type": "code",
   "execution_count": 7,
   "metadata": {},
   "outputs": [],
   "source": [
    "test_cols = ['Object_Description','Text_2','SubFund_Description','Job_Title_Description','Text_3','Text_4',\n",
    "                   'Sub_Object_Description','Location_Description','Function_Description','Facility_or_Department','Position_Extra',\n",
    "                   'Program_Description','Fund_Description','Text_1']"
   ]
  },
  {
   "cell_type": "code",
   "execution_count": 48,
   "metadata": {},
   "outputs": [],
   "source": [
    "def create_tfidf(word_column):\n",
    "    tfidf = TfidfVectorizer(ngram_range=(1,2), token_pattern='(?u)\\\\b\\\\w\\\\w+\\\\b',min_df=100)\n",
    "    col_tfidf = tfidf.fit_transform(budget_df[word_column])\n",
    "    \n",
    "    return col_tfidf"
   ]
  },
  {
   "cell_type": "code",
   "execution_count": 49,
   "metadata": {},
   "outputs": [],
   "source": [
    "Object_Description_tfidf = create_tfidf('Object_Description')\n",
    "Text_2_tfidf= create_tfidf('Text_2')\n",
    "SubFund_Description_tfidf = create_tfidf('SubFund_Description')\n",
    "Job_Title_Description_tfidf = create_tfidf('Job_Title_Description')\n",
    "Text_3_tfidf = create_tfidf('Text_3')\n",
    "Text_4_tfidf= create_tfidf('Text_4')\n",
    "Sub_Object_Description_tfidf= create_tfidf('Sub_Object_Description')\n",
    "Location_Description_tfidf= create_tfidf('Location_Description')\n",
    "Function_Description_tfidf= create_tfidf('Function_Description')\n",
    "Facility_or_Department_tfidf= create_tfidf('Facility_or_Department')\n",
    "Position_Extra_tfidf= create_tfidf('Position_Extra')\n",
    "Program_Description_tfidf= create_tfidf('Program_Description')\n",
    "Fund_Description_tfidf= create_tfidf('Fund_Description')\n",
    "Text_1_tfidf= create_tfidf('Text_1')"
   ]
  },
  {
   "cell_type": "code",
   "execution_count": null,
   "metadata": {},
   "outputs": [],
   "source": []
  },
  {
   "cell_type": "code",
   "execution_count": 10,
   "metadata": {},
   "outputs": [],
   "source": [
    "word_predictors.append('combined_tfidif')"
   ]
  },
  {
   "cell_type": "code",
   "execution_count": 11,
   "metadata": {},
   "outputs": [],
   "source": [
    "from scipy import sparse\n",
    "from scipy.sparse import hstack\n",
    "\n",
    "combined_tfidf = hstack([Object_Description_tfidf, Text_2_tfidf, SubFund_Description_tfidf, Job_Title_Description_tfidf,\n",
    "                         Text_3_tfidf, Text_4_tfidf,Sub_Object_Description_tfidf, Location_Description_tfidf,\n",
    "                         Function_Description_tfidf,Facility_or_Department_tfidf, Position_Extra_tfidf,\n",
    "                         Program_Description_tfidf, Fund_Description_tfidf, Text_1_tfidf])"
   ]
  },
  {
   "cell_type": "code",
   "execution_count": 12,
   "metadata": {},
   "outputs": [],
   "source": [
    "tfidf_list = [Object_Description_tfidf, Text_2_tfidf, SubFund_Description_tfidf, Job_Title_Description_tfidf, Text_3_tfidf,\\\n",
    "              Text_4_tfidf,Sub_Object_Description_tfidf, Location_Description_tfidf, Function_Description_tfidf,\\\n",
    "              Facility_or_Department_tfidf, Position_Extra_tfidf, Program_Description_tfidf,\\\n",
    "              Fund_Description_tfidf, Text_1_tfidf, combined_tfidf]"
   ]
  },
  {
   "cell_type": "code",
   "execution_count": 13,
   "metadata": {
    "scrolled": true
   },
   "outputs": [
    {
     "data": {
      "text/plain": [
       "(15, 15)"
      ]
     },
     "execution_count": 13,
     "metadata": {},
     "output_type": "execute_result"
    }
   ],
   "source": [
    "len(word_predictors), len(tfidf_list)"
   ]
  },
  {
   "cell_type": "markdown",
   "metadata": {},
   "source": [
    "## Model Predictions for Operating_status"
   ]
  },
  {
   "cell_type": "code",
   "execution_count": 14,
   "metadata": {},
   "outputs": [],
   "source": [
    "from sklearn.metrics import log_loss\n",
    "\n",
    "from sklearn.metrics.scorer import make_scorer\n",
    "\n",
    "log_loss_scorer = make_scorer(log_loss)"
   ]
  },
  {
   "cell_type": "code",
   "execution_count": 15,
   "metadata": {},
   "outputs": [],
   "source": [
    "from sklearn.multiclass import OneVsRestClassifier\n",
    "from sklearn.linear_model import LogisticRegression\n",
    "from sklearn.model_selection import train_test_split\n",
    "from sklearn.pipeline import Pipeline\n",
    "from sklearn.preprocessing import LabelEncoder\n",
    "le = LabelEncoder()"
   ]
  },
  {
   "cell_type": "code",
   "execution_count": 16,
   "metadata": {},
   "outputs": [],
   "source": [
    "def nlp_pipe(target_name, predictor_name, X, y):\n",
    "     \n",
    "    X_train, X_val, y_train, y_val = train_test_split(X, \n",
    "                                                    y, \n",
    "                                                    test_size=.2, \n",
    "                                                    random_state=42)\n",
    "        \n",
    "    OVR = OneVsRestClassifier(LogisticRegression(random_state=42))\n",
    "\n",
    "    \n",
    "    model = OVR.fit(X_train, y_train)\n",
    "#     add log_loss here \n",
    "    \n",
    "    results = {'target': target_name,\n",
    "               'predictor': predictor_name,\n",
    "               'train_score': model.score(X_train, y_train),\n",
    "               'val_score': model.score(X_val, y_val)}\n",
    "    \n",
    "    return model, results"
   ]
  },
  {
   "cell_type": "code",
   "execution_count": 17,
   "metadata": {},
   "outputs": [],
   "source": [
    "op_status_results = []\n",
    "for tfidf, predictor in zip(tfidf_list, word_predictors):  \n",
    "    results = nlp_pipe('Operating Status', predictor, tfidf, le.fit_transform(budget_df['Operating_Status']))\n",
    "    op_status_results.append(results)"
   ]
  },
  {
   "cell_type": "code",
   "execution_count": 43,
   "metadata": {},
   "outputs": [
    {
     "data": {
      "text/plain": [
       "Operating_Status__PreK-12 Operating         0.858351\n",
       "Operating_Status__Non-Operating             0.120002\n",
       "Operating_Status__Operating, Not PreK-12    0.021648\n",
       "Name: Operating_Status, dtype: float64"
      ]
     },
     "execution_count": 43,
     "metadata": {},
     "output_type": "execute_result"
    }
   ],
   "source": [
    "budget_df['Operating_Status'].value_counts()/budget_df['Operating_Status'].shape"
   ]
  },
  {
   "cell_type": "code",
   "execution_count": 39,
   "metadata": {},
   "outputs": [],
   "source": [
    "# op_status_results"
   ]
  },
  {
   "cell_type": "code",
   "execution_count": 18,
   "metadata": {},
   "outputs": [],
   "source": [
    "score_list = []\n",
    "for item in op_status_results:\n",
    "    scores = item[1]\n",
    "    score_list.append(scores)"
   ]
  },
  {
   "cell_type": "code",
   "execution_count": 19,
   "metadata": {
    "scrolled": true
   },
   "outputs": [
    {
     "data": {
      "text/html": [
       "<div>\n",
       "<table border=\"1\" class=\"dataframe\">\n",
       "  <thead>\n",
       "    <tr style=\"text-align: right;\">\n",
       "      <th></th>\n",
       "      <th>predictor</th>\n",
       "      <th>target</th>\n",
       "      <th>train_score</th>\n",
       "      <th>val_score</th>\n",
       "    </tr>\n",
       "  </thead>\n",
       "  <tbody>\n",
       "    <tr>\n",
       "      <th>0</th>\n",
       "      <td>Object_Description</td>\n",
       "      <td>Operating Status</td>\n",
       "      <td>0.919721</td>\n",
       "      <td>0.918170</td>\n",
       "    </tr>\n",
       "    <tr>\n",
       "      <th>1</th>\n",
       "      <td>Text_2</td>\n",
       "      <td>Operating Status</td>\n",
       "      <td>0.875876</td>\n",
       "      <td>0.874438</td>\n",
       "    </tr>\n",
       "    <tr>\n",
       "      <th>2</th>\n",
       "      <td>SubFund_Description</td>\n",
       "      <td>Operating Status</td>\n",
       "      <td>0.934002</td>\n",
       "      <td>0.932909</td>\n",
       "    </tr>\n",
       "    <tr>\n",
       "      <th>3</th>\n",
       "      <td>Job_Title_Description</td>\n",
       "      <td>Operating Status</td>\n",
       "      <td>0.865412</td>\n",
       "      <td>0.864245</td>\n",
       "    </tr>\n",
       "    <tr>\n",
       "      <th>4</th>\n",
       "      <td>Text_3</td>\n",
       "      <td>Operating Status</td>\n",
       "      <td>0.858560</td>\n",
       "      <td>0.857512</td>\n",
       "    </tr>\n",
       "    <tr>\n",
       "      <th>5</th>\n",
       "      <td>Text_4</td>\n",
       "      <td>Operating Status</td>\n",
       "      <td>0.858798</td>\n",
       "      <td>0.857862</td>\n",
       "    </tr>\n",
       "    <tr>\n",
       "      <th>6</th>\n",
       "      <td>Sub_Object_Description</td>\n",
       "      <td>Operating Status</td>\n",
       "      <td>0.920036</td>\n",
       "      <td>0.919007</td>\n",
       "    </tr>\n",
       "    <tr>\n",
       "      <th>7</th>\n",
       "      <td>Location_Description</td>\n",
       "      <td>Operating Status</td>\n",
       "      <td>0.878212</td>\n",
       "      <td>0.876924</td>\n",
       "    </tr>\n",
       "    <tr>\n",
       "      <th>8</th>\n",
       "      <td>Function_Description</td>\n",
       "      <td>Operating Status</td>\n",
       "      <td>0.942034</td>\n",
       "      <td>0.940429</td>\n",
       "    </tr>\n",
       "    <tr>\n",
       "      <th>9</th>\n",
       "      <td>Facility_or_Department</td>\n",
       "      <td>Operating Status</td>\n",
       "      <td>0.859519</td>\n",
       "      <td>0.858586</td>\n",
       "    </tr>\n",
       "    <tr>\n",
       "      <th>10</th>\n",
       "      <td>Position_Extra</td>\n",
       "      <td>Operating Status</td>\n",
       "      <td>0.859007</td>\n",
       "      <td>0.857787</td>\n",
       "    </tr>\n",
       "    <tr>\n",
       "      <th>11</th>\n",
       "      <td>Program_Description</td>\n",
       "      <td>Operating Status</td>\n",
       "      <td>0.869278</td>\n",
       "      <td>0.868055</td>\n",
       "    </tr>\n",
       "    <tr>\n",
       "      <th>12</th>\n",
       "      <td>Fund_Description</td>\n",
       "      <td>Operating Status</td>\n",
       "      <td>0.941425</td>\n",
       "      <td>0.940692</td>\n",
       "    </tr>\n",
       "    <tr>\n",
       "      <th>13</th>\n",
       "      <td>Text_1</td>\n",
       "      <td>Operating Status</td>\n",
       "      <td>0.932843</td>\n",
       "      <td>0.932035</td>\n",
       "    </tr>\n",
       "    <tr>\n",
       "      <th>14</th>\n",
       "      <td>combined_tfidif</td>\n",
       "      <td>Operating Status</td>\n",
       "      <td>0.985641</td>\n",
       "      <td>0.984748</td>\n",
       "    </tr>\n",
       "  </tbody>\n",
       "</table>\n",
       "</div>"
      ],
      "text/plain": [
       "                 predictor            target  train_score  val_score\n",
       "0       Object_Description  Operating Status     0.919721   0.918170\n",
       "1                   Text_2  Operating Status     0.875876   0.874438\n",
       "2      SubFund_Description  Operating Status     0.934002   0.932909\n",
       "3    Job_Title_Description  Operating Status     0.865412   0.864245\n",
       "4                   Text_3  Operating Status     0.858560   0.857512\n",
       "5                   Text_4  Operating Status     0.858798   0.857862\n",
       "6   Sub_Object_Description  Operating Status     0.920036   0.919007\n",
       "7     Location_Description  Operating Status     0.878212   0.876924\n",
       "8     Function_Description  Operating Status     0.942034   0.940429\n",
       "9   Facility_or_Department  Operating Status     0.859519   0.858586\n",
       "10          Position_Extra  Operating Status     0.859007   0.857787\n",
       "11     Program_Description  Operating Status     0.869278   0.868055\n",
       "12        Fund_Description  Operating Status     0.941425   0.940692\n",
       "13                  Text_1  Operating Status     0.932843   0.932035\n",
       "14         combined_tfidif  Operating Status     0.985641   0.984748"
      ]
     },
     "execution_count": 19,
     "metadata": {},
     "output_type": "execute_result"
    }
   ],
   "source": [
    "pd.DataFrame(score_list)"
   ]
  },
  {
   "cell_type": "code",
   "execution_count": 20,
   "metadata": {},
   "outputs": [],
   "source": [
    "op_status_ml = op_status_results[14][0]"
   ]
  },
  {
   "cell_type": "code",
   "execution_count": 21,
   "metadata": {},
   "outputs": [],
   "source": [
    "X = combined_tfidf\n",
    "y = le.fit_transform(budget_df['Operating_Status'])\n",
    "X_train, X_val, y_train, y_val = train_test_split(X,y,random_state = 42)"
   ]
  },
  {
   "cell_type": "code",
   "execution_count": 22,
   "metadata": {},
   "outputs": [],
   "source": [
    "predict = op_status_ml.predict(X_val)"
   ]
  },
  {
   "cell_type": "code",
   "execution_count": 23,
   "metadata": {},
   "outputs": [],
   "source": [
    "predict_proba = op_status_ml.predict_proba(X_val)"
   ]
  },
  {
   "cell_type": "code",
   "execution_count": 24,
   "metadata": {},
   "outputs": [
    {
     "data": {
      "text/plain": [
       "0.045826521097084155"
      ]
     },
     "execution_count": 24,
     "metadata": {},
     "output_type": "execute_result"
    }
   ],
   "source": [
    "log_loss(y_val, predict_proba)"
   ]
  },
  {
   "cell_type": "code",
   "execution_count": 25,
   "metadata": {},
   "outputs": [],
   "source": [
    "# log_loss_scorer(op_status_ml, X_val, y_val)"
   ]
  },
  {
   "cell_type": "code",
   "execution_count": 50,
   "metadata": {},
   "outputs": [],
   "source": [
    "test_tfidf = []\n",
    "for col in budget_test[test_cols]:\n",
    "#     tfidf = TfidfVectorizer(ngram_range=(1,2), token_pattern='(?u)\\\\b\\\\w\\\\w+\\\\b',min_df=100)\n",
    "    col_tfidf = tfidf.transform(budget_test[col])\n",
    "    test_tfidf.append(col_tfidf)\n",
    "\n",
    "test_tfidf_combined = hstack(test_tfidf)"
   ]
  },
  {
   "cell_type": "code",
   "execution_count": 51,
   "metadata": {},
   "outputs": [],
   "source": [
    "X_test = test_tfidf_combined"
   ]
  },
  {
   "cell_type": "code",
   "execution_count": 52,
   "metadata": {},
   "outputs": [
    {
     "ename": "ValueError",
     "evalue": "X has 1008 features per sample; expecting 4717",
     "output_type": "error",
     "traceback": [
      "\u001b[0;31m---------------------------------------------------------------------------\u001b[0m",
      "\u001b[0;31mValueError\u001b[0m                                Traceback (most recent call last)",
      "\u001b[0;32m<ipython-input-52-eccc9306faa6>\u001b[0m in \u001b[0;36m<module>\u001b[0;34m()\u001b[0m\n\u001b[0;32m----> 1\u001b[0;31m \u001b[0mop_status_ml\u001b[0m\u001b[0;34m.\u001b[0m\u001b[0mpredict\u001b[0m\u001b[0;34m(\u001b[0m\u001b[0mX_test\u001b[0m\u001b[0;34m)\u001b[0m\u001b[0;34m\u001b[0m\u001b[0m\n\u001b[0m",
      "\u001b[0;32m/opt/conda/lib/python3.6/site-packages/sklearn/multiclass.py\u001b[0m in \u001b[0;36mpredict\u001b[0;34m(self, X)\u001b[0m\n\u001b[1;32m    300\u001b[0m             \u001b[0margmaxima\u001b[0m \u001b[0;34m=\u001b[0m \u001b[0mnp\u001b[0m\u001b[0;34m.\u001b[0m\u001b[0mzeros\u001b[0m\u001b[0;34m(\u001b[0m\u001b[0mn_samples\u001b[0m\u001b[0;34m,\u001b[0m \u001b[0mdtype\u001b[0m\u001b[0;34m=\u001b[0m\u001b[0mint\u001b[0m\u001b[0;34m)\u001b[0m\u001b[0;34m\u001b[0m\u001b[0m\n\u001b[1;32m    301\u001b[0m             \u001b[0;32mfor\u001b[0m \u001b[0mi\u001b[0m\u001b[0;34m,\u001b[0m \u001b[0me\u001b[0m \u001b[0;32min\u001b[0m \u001b[0menumerate\u001b[0m\u001b[0;34m(\u001b[0m\u001b[0mself\u001b[0m\u001b[0;34m.\u001b[0m\u001b[0mestimators_\u001b[0m\u001b[0;34m)\u001b[0m\u001b[0;34m:\u001b[0m\u001b[0;34m\u001b[0m\u001b[0m\n\u001b[0;32m--> 302\u001b[0;31m                 \u001b[0mpred\u001b[0m \u001b[0;34m=\u001b[0m \u001b[0m_predict_binary\u001b[0m\u001b[0;34m(\u001b[0m\u001b[0me\u001b[0m\u001b[0;34m,\u001b[0m \u001b[0mX\u001b[0m\u001b[0;34m)\u001b[0m\u001b[0;34m\u001b[0m\u001b[0m\n\u001b[0m\u001b[1;32m    303\u001b[0m                 \u001b[0mnp\u001b[0m\u001b[0;34m.\u001b[0m\u001b[0mmaximum\u001b[0m\u001b[0;34m(\u001b[0m\u001b[0mmaxima\u001b[0m\u001b[0;34m,\u001b[0m \u001b[0mpred\u001b[0m\u001b[0;34m,\u001b[0m \u001b[0mout\u001b[0m\u001b[0;34m=\u001b[0m\u001b[0mmaxima\u001b[0m\u001b[0;34m)\u001b[0m\u001b[0;34m\u001b[0m\u001b[0m\n\u001b[1;32m    304\u001b[0m                 \u001b[0margmaxima\u001b[0m\u001b[0;34m[\u001b[0m\u001b[0mmaxima\u001b[0m \u001b[0;34m==\u001b[0m \u001b[0mpred\u001b[0m\u001b[0;34m]\u001b[0m \u001b[0;34m=\u001b[0m \u001b[0mi\u001b[0m\u001b[0;34m\u001b[0m\u001b[0m\n",
      "\u001b[0;32m/opt/conda/lib/python3.6/site-packages/sklearn/multiclass.py\u001b[0m in \u001b[0;36m_predict_binary\u001b[0;34m(estimator, X)\u001b[0m\n\u001b[1;32m     93\u001b[0m         \u001b[0;32mreturn\u001b[0m \u001b[0mestimator\u001b[0m\u001b[0;34m.\u001b[0m\u001b[0mpredict\u001b[0m\u001b[0;34m(\u001b[0m\u001b[0mX\u001b[0m\u001b[0;34m)\u001b[0m\u001b[0;34m\u001b[0m\u001b[0m\n\u001b[1;32m     94\u001b[0m     \u001b[0;32mtry\u001b[0m\u001b[0;34m:\u001b[0m\u001b[0;34m\u001b[0m\u001b[0m\n\u001b[0;32m---> 95\u001b[0;31m         \u001b[0mscore\u001b[0m \u001b[0;34m=\u001b[0m \u001b[0mnp\u001b[0m\u001b[0;34m.\u001b[0m\u001b[0mravel\u001b[0m\u001b[0;34m(\u001b[0m\u001b[0mestimator\u001b[0m\u001b[0;34m.\u001b[0m\u001b[0mdecision_function\u001b[0m\u001b[0;34m(\u001b[0m\u001b[0mX\u001b[0m\u001b[0;34m)\u001b[0m\u001b[0;34m)\u001b[0m\u001b[0;34m\u001b[0m\u001b[0m\n\u001b[0m\u001b[1;32m     96\u001b[0m     \u001b[0;32mexcept\u001b[0m \u001b[0;34m(\u001b[0m\u001b[0mAttributeError\u001b[0m\u001b[0;34m,\u001b[0m \u001b[0mNotImplementedError\u001b[0m\u001b[0;34m)\u001b[0m\u001b[0;34m:\u001b[0m\u001b[0;34m\u001b[0m\u001b[0m\n\u001b[1;32m     97\u001b[0m         \u001b[0;31m# probabilities of the positive class\u001b[0m\u001b[0;34m\u001b[0m\u001b[0;34m\u001b[0m\u001b[0m\n",
      "\u001b[0;32m/opt/conda/lib/python3.6/site-packages/sklearn/linear_model/base.py\u001b[0m in \u001b[0;36mdecision_function\u001b[0;34m(self, X)\u001b[0m\n\u001b[1;32m    315\u001b[0m         \u001b[0;32mif\u001b[0m \u001b[0mX\u001b[0m\u001b[0;34m.\u001b[0m\u001b[0mshape\u001b[0m\u001b[0;34m[\u001b[0m\u001b[0;36m1\u001b[0m\u001b[0;34m]\u001b[0m \u001b[0;34m!=\u001b[0m \u001b[0mn_features\u001b[0m\u001b[0;34m:\u001b[0m\u001b[0;34m\u001b[0m\u001b[0m\n\u001b[1;32m    316\u001b[0m             raise ValueError(\"X has %d features per sample; expecting %d\"\n\u001b[0;32m--> 317\u001b[0;31m                              % (X.shape[1], n_features))\n\u001b[0m\u001b[1;32m    318\u001b[0m \u001b[0;34m\u001b[0m\u001b[0m\n\u001b[1;32m    319\u001b[0m         scores = safe_sparse_dot(X, self.coef_.T,\n",
      "\u001b[0;31mValueError\u001b[0m: X has 1008 features per sample; expecting 4717"
     ]
    }
   ],
   "source": [
    "op_status_ml.predict(X_test)"
   ]
  },
  {
   "cell_type": "markdown",
   "metadata": {},
   "source": [
    "## Model predictions for all target columns"
   ]
  },
  {
   "cell_type": "code",
   "execution_count": 28,
   "metadata": {},
   "outputs": [],
   "source": [
    "import itertools"
   ]
  },
  {
   "cell_type": "code",
   "execution_count": 53,
   "metadata": {},
   "outputs": [],
   "source": [
    "model_results = []\n",
    "for target, (tfidf, predictor) in itertools.product(targets, zip(tfidf_list, word_predictors)):\n",
    "    X = tfidf\n",
    "    y = le.fit_transform(budget_df[target])\n",
    "    results = nlp_pipe(target, predictor, X, y)\n",
    "    model_results.append(results)"
   ]
  },
  {
   "cell_type": "code",
   "execution_count": 54,
   "metadata": {},
   "outputs": [],
   "source": [
    "score_results = []\n",
    "for item in model_results:\n",
    "    scores = item[1]\n",
    "    score_results.append(scores)"
   ]
  },
  {
   "cell_type": "code",
   "execution_count": 55,
   "metadata": {},
   "outputs": [],
   "source": [
    "scores_df = pd.DataFrame(score_results)"
   ]
  },
  {
   "cell_type": "code",
   "execution_count": 56,
   "metadata": {},
   "outputs": [
    {
     "data": {
      "text/html": [
       "<div>\n",
       "<table border=\"1\" class=\"dataframe\">\n",
       "  <thead>\n",
       "    <tr style=\"text-align: right;\">\n",
       "      <th></th>\n",
       "      <th>predictor</th>\n",
       "      <th>target</th>\n",
       "      <th>train_score</th>\n",
       "      <th>val_score</th>\n",
       "    </tr>\n",
       "  </thead>\n",
       "  <tbody>\n",
       "    <tr>\n",
       "      <th>119</th>\n",
       "      <td>combined_tfidif</td>\n",
       "      <td>Pre_K</td>\n",
       "      <td>0.990082</td>\n",
       "      <td>0.989395</td>\n",
       "    </tr>\n",
       "    <tr>\n",
       "      <th>134</th>\n",
       "      <td>combined_tfidif</td>\n",
       "      <td>Operating_Status</td>\n",
       "      <td>0.985641</td>\n",
       "      <td>0.984748</td>\n",
       "    </tr>\n",
       "    <tr>\n",
       "      <th>104</th>\n",
       "      <td>combined_tfidif</td>\n",
       "      <td>Object_Type</td>\n",
       "      <td>0.986069</td>\n",
       "      <td>0.984523</td>\n",
       "    </tr>\n",
       "    <tr>\n",
       "      <th>89</th>\n",
       "      <td>combined_tfidif</td>\n",
       "      <td>Position_Type</td>\n",
       "      <td>0.983543</td>\n",
       "      <td>0.981688</td>\n",
       "    </tr>\n",
       "    <tr>\n",
       "      <th>59</th>\n",
       "      <td>combined_tfidif</td>\n",
       "      <td>Reporting</td>\n",
       "      <td>0.981538</td>\n",
       "      <td>0.980813</td>\n",
       "    </tr>\n",
       "    <tr>\n",
       "      <th>74</th>\n",
       "      <td>combined_tfidif</td>\n",
       "      <td>Student_Type</td>\n",
       "      <td>0.978434</td>\n",
       "      <td>0.975954</td>\n",
       "    </tr>\n",
       "    <tr>\n",
       "      <th>44</th>\n",
       "      <td>combined_tfidif</td>\n",
       "      <td>Sharing</td>\n",
       "      <td>0.973094</td>\n",
       "      <td>0.971795</td>\n",
       "    </tr>\n",
       "    <tr>\n",
       "      <th>29</th>\n",
       "      <td>combined_tfidif</td>\n",
       "      <td>Use</td>\n",
       "      <td>0.968937</td>\n",
       "      <td>0.966061</td>\n",
       "    </tr>\n",
       "    <tr>\n",
       "      <th>14</th>\n",
       "      <td>combined_tfidif</td>\n",
       "      <td>Function</td>\n",
       "      <td>0.960271</td>\n",
       "      <td>0.956106</td>\n",
       "    </tr>\n",
       "    <tr>\n",
       "      <th>116</th>\n",
       "      <td>Program_Description</td>\n",
       "      <td>Pre_K</td>\n",
       "      <td>0.954303</td>\n",
       "      <td>0.954294</td>\n",
       "    </tr>\n",
       "    <tr>\n",
       "      <th>117</th>\n",
       "      <td>Fund_Description</td>\n",
       "      <td>Pre_K</td>\n",
       "      <td>0.950303</td>\n",
       "      <td>0.949785</td>\n",
       "    </tr>\n",
       "    <tr>\n",
       "      <th>132</th>\n",
       "      <td>Fund_Description</td>\n",
       "      <td>Operating_Status</td>\n",
       "      <td>0.941425</td>\n",
       "      <td>0.940692</td>\n",
       "    </tr>\n",
       "    <tr>\n",
       "      <th>128</th>\n",
       "      <td>Function_Description</td>\n",
       "      <td>Operating_Status</td>\n",
       "      <td>0.942034</td>\n",
       "      <td>0.940429</td>\n",
       "    </tr>\n",
       "    <tr>\n",
       "      <th>105</th>\n",
       "      <td>Object_Description</td>\n",
       "      <td>Pre_K</td>\n",
       "      <td>0.933405</td>\n",
       "      <td>0.933759</td>\n",
       "    </tr>\n",
       "    <tr>\n",
       "      <th>122</th>\n",
       "      <td>SubFund_Description</td>\n",
       "      <td>Operating_Status</td>\n",
       "      <td>0.934002</td>\n",
       "      <td>0.932909</td>\n",
       "    </tr>\n",
       "    <tr>\n",
       "      <th>133</th>\n",
       "      <td>Text_1</td>\n",
       "      <td>Operating_Status</td>\n",
       "      <td>0.932843</td>\n",
       "      <td>0.932035</td>\n",
       "    </tr>\n",
       "    <tr>\n",
       "      <th>126</th>\n",
       "      <td>Sub_Object_Description</td>\n",
       "      <td>Operating_Status</td>\n",
       "      <td>0.920036</td>\n",
       "      <td>0.919007</td>\n",
       "    </tr>\n",
       "    <tr>\n",
       "      <th>120</th>\n",
       "      <td>Object_Description</td>\n",
       "      <td>Operating_Status</td>\n",
       "      <td>0.919721</td>\n",
       "      <td>0.918170</td>\n",
       "    </tr>\n",
       "    <tr>\n",
       "      <th>115</th>\n",
       "      <td>Position_Extra</td>\n",
       "      <td>Pre_K</td>\n",
       "      <td>0.916067</td>\n",
       "      <td>0.916034</td>\n",
       "    </tr>\n",
       "    <tr>\n",
       "      <th>108</th>\n",
       "      <td>Job_Title_Description</td>\n",
       "      <td>Pre_K</td>\n",
       "      <td>0.888218</td>\n",
       "      <td>0.887366</td>\n",
       "    </tr>\n",
       "  </tbody>\n",
       "</table>\n",
       "</div>"
      ],
      "text/plain": [
       "                  predictor            target  train_score  val_score\n",
       "119         combined_tfidif             Pre_K     0.990082   0.989395\n",
       "134         combined_tfidif  Operating_Status     0.985641   0.984748\n",
       "104         combined_tfidif       Object_Type     0.986069   0.984523\n",
       "89          combined_tfidif     Position_Type     0.983543   0.981688\n",
       "59          combined_tfidif         Reporting     0.981538   0.980813\n",
       "74          combined_tfidif      Student_Type     0.978434   0.975954\n",
       "44          combined_tfidif           Sharing     0.973094   0.971795\n",
       "29          combined_tfidif               Use     0.968937   0.966061\n",
       "14          combined_tfidif          Function     0.960271   0.956106\n",
       "116     Program_Description             Pre_K     0.954303   0.954294\n",
       "117        Fund_Description             Pre_K     0.950303   0.949785\n",
       "132        Fund_Description  Operating_Status     0.941425   0.940692\n",
       "128    Function_Description  Operating_Status     0.942034   0.940429\n",
       "105      Object_Description             Pre_K     0.933405   0.933759\n",
       "122     SubFund_Description  Operating_Status     0.934002   0.932909\n",
       "133                  Text_1  Operating_Status     0.932843   0.932035\n",
       "126  Sub_Object_Description  Operating_Status     0.920036   0.919007\n",
       "120      Object_Description  Operating_Status     0.919721   0.918170\n",
       "115          Position_Extra             Pre_K     0.916067   0.916034\n",
       "108   Job_Title_Description             Pre_K     0.888218   0.887366"
      ]
     },
     "execution_count": 56,
     "metadata": {},
     "output_type": "execute_result"
    }
   ],
   "source": [
    "scores_df.sort_values('val_score', ascending=False)[:20]"
   ]
  },
  {
   "cell_type": "code",
   "execution_count": null,
   "metadata": {},
   "outputs": [],
   "source": [
    "X = combined_tfidf\n",
    "# for col in budget_df[targets]:\n",
    "y = le.fit_transform(budget_df['Operating_Status'])\n",
    "X_train, X_val, y_train, y_val = train_test_split(X,y,random_state = 42)"
   ]
  },
  {
   "cell_type": "code",
   "execution_count": null,
   "metadata": {},
   "outputs": [],
   "source": [
    "model_results[134][0].predict(X_train)"
   ]
  },
  {
   "cell_type": "code",
   "execution_count": null,
   "metadata": {
    "scrolled": true
   },
   "outputs": [],
   "source": [
    "model_results[134][0].predict_proba(X_train)"
   ]
  },
  {
   "cell_type": "code",
   "execution_count": null,
   "metadata": {},
   "outputs": [],
   "source": [
    "print(X_train.shape)\n",
    "print(X_val.shape)\n",
    "print(y_train.shape)\n",
    "print(y_val.shape)"
   ]
  },
  {
   "cell_type": "code",
   "execution_count": 57,
   "metadata": {},
   "outputs": [],
   "source": [
    "pre_K_lr = model_results[119][0]\n",
    "op_stat_lr = model_results[134][0]\n",
    "ob_type_lr = model_results[104][0]\n",
    "pos_type_lr = model_results[89][0]\n",
    "reporting_lr = model_results[59][0]\n",
    "student_lr = model_results[74][0]\n",
    "sharing_lr = model_results[44][0]\n",
    "use_lr = model_results[29][0]\n",
    "func_lr = model_results[14][0]"
   ]
  },
  {
   "cell_type": "code",
   "execution_count": 58,
   "metadata": {},
   "outputs": [],
   "source": [
    "from sklearn.externals import joblib"
   ]
  },
  {
   "cell_type": "code",
   "execution_count": 59,
   "metadata": {},
   "outputs": [
    {
     "data": {
      "text/plain": [
       "['func.pkl']"
      ]
     },
     "execution_count": 59,
     "metadata": {},
     "output_type": "execute_result"
    }
   ],
   "source": [
    "joblib.dump(pre_K_lr, 'pre_K.pkl')\n",
    "joblib.dump(op_stat_lr, 'op_sta.pkl')\n",
    "joblib.dump(ob_type_lr, 'ob_type.pkl')\n",
    "joblib.dump(pos_type_lr, 'pos_type.pkl')\n",
    "joblib.dump(reporting_lr, 'reporting.pkl')\n",
    "joblib.dump(student_lr, 'student.pkl')\n",
    "joblib.dump(sharing_lr, 'sharing.pkl')\n",
    "joblib.dump(use_lr, 'use.pkl')\n",
    "joblib.dump(func_lr, 'func.pkl')"
   ]
  },
  {
   "cell_type": "markdown",
   "metadata": {},
   "source": [
    "## How to test with test set"
   ]
  },
  {
   "cell_type": "code",
   "execution_count": 30,
   "metadata": {},
   "outputs": [],
   "source": [
    "test_tfidf = []a\n",
    "for col in budget_test[test_cols]:\n",
    "    tfidf = TfidfVectorizer(ngram_range=(1,2), token_pattern='(?u)\\\\b\\\\w\\\\w+\\\\b',min_df=100)\n",
    "    col_tfidf = tfidf.fit_transform(budget_test[col])\n",
    "    test_tfidf.append(col_tfidf)\n",
    "\n",
    "test_tfidf_combined = hstack(test_tfidf)"
   ]
  },
  {
   "cell_type": "code",
   "execution_count": 31,
   "metadata": {},
   "outputs": [],
   "source": [
    "X_test = test_tfidf_combined"
   ]
  },
  {
   "cell_type": "code",
   "execution_count": 32,
   "metadata": {},
   "outputs": [
    {
     "data": {
      "text/plain": [
       "(50064, 1484)"
      ]
     },
     "execution_count": 32,
     "metadata": {},
     "output_type": "execute_result"
    }
   ],
   "source": [
    "test_tfidf_combined.get_shape()"
   ]
  },
  {
   "cell_type": "markdown",
   "metadata": {},
   "source": [
    "### stacked test tfidf number of columns different from train"
   ]
  },
  {
   "cell_type": "markdown",
   "metadata": {},
   "source": [
    "## Figure out how to combine model of categorical columns and numerical"
   ]
  },
  {
   "cell_type": "markdown",
   "metadata": {},
   "source": [
    " running into memory issue for get_dummies for the 9 cat"
   ]
  },
  {
   "cell_type": "code",
   "execution_count": null,
   "metadata": {},
   "outputs": [],
   "source": []
  }
 ],
 "metadata": {
  "kernelspec": {
   "display_name": "Python 3",
   "language": "python",
   "name": "python3"
  },
  "language_info": {
   "codemirror_mode": {
    "name": "ipython",
    "version": 3
   },
   "file_extension": ".py",
   "mimetype": "text/x-python",
   "name": "python",
   "nbconvert_exporter": "python",
   "pygments_lexer": "ipython3",
   "version": "3.6.2"
  }
 },
 "nbformat": 4,
 "nbformat_minor": 2
}
