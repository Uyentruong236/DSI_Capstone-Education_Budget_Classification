{
 "cells": [
  {
   "cell_type": "code",
   "execution_count": 1,
   "metadata": {},
   "outputs": [],
   "source": [
    "%run ../__init__.py"
   ]
  },
  {
   "cell_type": "markdown",
   "metadata": {},
   "source": [
    "## Data preprocessing with Tfidf"
   ]
  },
  {
   "cell_type": "code",
   "execution_count": 2,
   "metadata": {},
   "outputs": [
    {
     "name": "stderr",
     "output_type": "stream",
     "text": [
      "/opt/conda/lib/python3.6/site-packages/IPython/core/interactiveshell.py:2728: DtypeWarning: Columns (6,12) have mixed types. Specify dtype option on import or set low_memory=False.\n",
      "  interactivity=interactivity, compiler=compiler, result=result)\n"
     ]
    }
   ],
   "source": [
    "budget_train = pd.read_csv('../data/train_cleaned.csv', index_col=0)\n",
    "budget_test = pd.read_csv('../data/test_clean.csv', index_col=0)"
   ]
  },
  {
   "cell_type": "code",
   "execution_count": 7,
   "metadata": {},
   "outputs": [
    {
     "data": {
      "text/plain": [
       "Function                  0\n",
       "Use                       0\n",
       "Sharing                   0\n",
       "Reporting                 0\n",
       "Student_Type              0\n",
       "Position_Type             0\n",
       "Object_Type               0\n",
       "Pre_K                     0\n",
       "Operating_Status          0\n",
       "Object_Description        0\n",
       "Text_2                    0\n",
       "SubFund_Description       0\n",
       "Job_Title_Description     0\n",
       "Text_3                    0\n",
       "Text_4                    0\n",
       "Sub_Object_Description    0\n",
       "Location_Description      0\n",
       "FTE                       0\n",
       "Function_Description      0\n",
       "Facility_or_Department    0\n",
       "Position_Extra            0\n",
       "Total                     0\n",
       "Program_Description       0\n",
       "Fund_Description          0\n",
       "Text_1                    0\n",
       "combined_text             0\n",
       "dtype: int64"
      ]
     },
     "execution_count": 7,
     "metadata": {},
     "output_type": "execute_result"
    }
   ],
   "source": [
    "budget_train.isnull().sum()"
   ]
  },
  {
   "cell_type": "code",
   "execution_count": 8,
   "metadata": {},
   "outputs": [
    {
     "data": {
      "text/plain": [
       "ID                        0\n",
       "Object_Description        0\n",
       "Program_Description       0\n",
       "SubFund_Description       0\n",
       "Job_Title_Description     0\n",
       "Facility_or_Department    0\n",
       "Sub_Object_Description    0\n",
       "Location_Description      0\n",
       "FTE                       0\n",
       "Function_Description      0\n",
       "Position_Extra            0\n",
       "Text_4                    0\n",
       "Total                     0\n",
       "Text_2                    0\n",
       "Text_3                    0\n",
       "Fund_Description          0\n",
       "Text_1                    0\n",
       "dtype: int64"
      ]
     },
     "execution_count": 8,
     "metadata": {},
     "output_type": "execute_result"
    }
   ],
   "source": [
    "budget_test.isnull().sum()"
   ]
  },
  {
   "cell_type": "code",
   "execution_count": 5,
   "metadata": {},
   "outputs": [],
   "source": [
    "for col in budget_test[word_predictors]:\n",
    "    budget_test[col] = budget_test[word_predictors].loc[:,[col]].fillna(' ')"
   ]
  },
  {
   "cell_type": "code",
   "execution_count": 6,
   "metadata": {},
   "outputs": [],
   "source": [
    "for col in budget_train[word_predictors]:\n",
    "    budget_train[col] = budget_train[word_predictors].loc[:,[col]].fillna(' ')"
   ]
  },
  {
   "cell_type": "code",
   "execution_count": 9,
   "metadata": {},
   "outputs": [],
   "source": [
    "label = LabelEncoder()"
   ]
  },
  {
   "cell_type": "code",
   "execution_count": 10,
   "metadata": {},
   "outputs": [],
   "source": [
    "class ItemSelector(BaseEstimator, TransformerMixin):\n",
    "    \"\"\"For data grouped by feature, select subset of data at a provided key.\n",
    "\n",
    "    The data is expected to be stored in a 2D data structure, where the first\n",
    "    index is over features and the second is over samples.  i.e.\n",
    "\n",
    "    >> len(data[key]) == n_samples\n",
    "\n",
    "    Please note that this is the opposite convention to scikit-learn feature\n",
    "    matrixes (where the first index corresponds to sample).\n",
    "\n",
    "    ItemSelector only requires that the collection implement getitem\n",
    "    (data[key]).  Examples include: a dict of lists, 2D numpy array, Pandas\n",
    "    DataFrame, numpy record array, etc.\n",
    "\n",
    "    >> data = {'a': [1, 5, 2, 5, 2, 8],\n",
    "               'b': [9, 4, 1, 4, 1, 3]}\n",
    "    >> ds = ItemSelector(key='a')\n",
    "    >> data['a'] == ds.transform(data)\n",
    "\n",
    "    Parameters\n",
    "     ----------\n",
    "    key : hashable, required\n",
    "        The key corresponding to the desired value in a mappable.\n",
    "    \"\"\"\n",
    "    def __init__(self, key):\n",
    "        self.key = key\n",
    "\n",
    "    def fit(self, x, y=None):\n",
    "        return self\n",
    "\n",
    "    def transform(self, data_dict):\n",
    "        return data_dict[self.key]\n",
    "    "
   ]
  },
  {
   "cell_type": "code",
   "execution_count": 11,
   "metadata": {},
   "outputs": [],
   "source": [
    "class ArrayCaster(BaseEstimator, TransformerMixin):\n",
    "    def fit(self, x, y=None):\n",
    "        return self\n",
    "\n",
    "    def transform(self, data):\n",
    "        return np.transpose(np.matrix(data))"
   ]
  },
  {
   "cell_type": "code",
   "execution_count": 12,
   "metadata": {},
   "outputs": [
    {
     "data": {
      "text/plain": [
       "['Function',\n",
       " 'Use',\n",
       " 'Sharing',\n",
       " 'Reporting',\n",
       " 'Student_Type',\n",
       " 'Position_Type',\n",
       " 'Object_Type',\n",
       " 'Pre_K',\n",
       " 'Operating_Status']"
      ]
     },
     "execution_count": 12,
     "metadata": {},
     "output_type": "execute_result"
    }
   ],
   "source": [
    "targets"
   ]
  },
  {
   "cell_type": "code",
   "execution_count": 13,
   "metadata": {},
   "outputs": [],
   "source": [
    "# 400,000+ examples, 14 features\n",
    "X = budget_train[predictors] \n",
    "y = label.fit_transform(budget_train['Position_Type'])\n",
    "\n",
    "X_train, X_val, y_train, y_val = train_test_split(X, y, test_size = .2, random_state=42)\n",
    "                                                "
   ]
  },
  {
   "cell_type": "code",
   "execution_count": 14,
   "metadata": {},
   "outputs": [],
   "source": [
    "# feature union transformer list \n",
    "transformer_list = [\n",
    "    ('Object_Description', Pipeline([\n",
    "                ('selector', ItemSelector(key='Object_Description')),\n",
    "                ('tfidf', TfidfVectorizer(ngram_range=(1,2), token_pattern='(?u)\\\\b\\\\w\\\\w+\\\\b',min_df=100)),\n",
    "            ])),\n",
    "    ('Text_2', Pipeline([\n",
    "                ('selector', ItemSelector(key='Text_2')),\n",
    "                ('tfidf', TfidfVectorizer(ngram_range=(1,2), token_pattern='(?u)\\\\b\\\\w\\\\w+\\\\b',min_df=100)),\n",
    "            ])),\n",
    "    ('SubFund_Description', Pipeline([\n",
    "                ('selector', ItemSelector(key='SubFund_Description')),\n",
    "                ('tfidf', TfidfVectorizer(ngram_range=(1,2), token_pattern='(?u)\\\\b\\\\w\\\\w+\\\\b',min_df=100)),\n",
    "            ])),\n",
    "    ('Job_Title_Description', Pipeline([\n",
    "                ('selector', ItemSelector(key='Job_Title_Description')),\n",
    "                ('tfidf', TfidfVectorizer(ngram_range=(1,2), token_pattern='(?u)\\\\b\\\\w\\\\w+\\\\b',min_df=100)),\n",
    "            ])),\n",
    "    ('Text_3', Pipeline([\n",
    "                ('selector', ItemSelector(key='Text_3')),\n",
    "                ('tfidf', TfidfVectorizer(ngram_range=(1,2), token_pattern='(?u)\\\\b\\\\w\\\\w+\\\\b',min_df=100)),\n",
    "            ])),\n",
    "    ('Text_4', Pipeline([\n",
    "                ('selector', ItemSelector(key='Text_4')),\n",
    "                ('tfidf', TfidfVectorizer(ngram_range=(1,2), token_pattern='(?u)\\\\b\\\\w\\\\w+\\\\b',min_df=100)),\n",
    "            ])),\n",
    "    ('Sub_Object_Description', Pipeline([\n",
    "                ('selector', ItemSelector(key='Sub_Object_Description')),\n",
    "                ('tfidf', TfidfVectorizer(ngram_range=(1,2), token_pattern='(?u)\\\\b\\\\w\\\\w+\\\\b',min_df=100)),\n",
    "            ])),\n",
    "    ('Location_Description', Pipeline([\n",
    "                ('selector', ItemSelector(key='Location_Description')),\n",
    "                ('tfidf', TfidfVectorizer(ngram_range=(1,2), token_pattern='(?u)\\\\b\\\\w\\\\w+\\\\b',min_df=100)),\n",
    "            ])),\n",
    "    ('Function_Description', Pipeline([\n",
    "                ('selector', ItemSelector(key='Function_Description')),\n",
    "                ('tfidf', TfidfVectorizer(ngram_range=(1,2), token_pattern='(?u)\\\\b\\\\w\\\\w+\\\\b',min_df=100)),\n",
    "            ])),\n",
    "    ('Facility_or_Department', Pipeline([\n",
    "                ('selector', ItemSelector(key='Facility_or_Department')),\n",
    "                ('tfidf', TfidfVectorizer(ngram_range=(1,2), token_pattern='(?u)\\\\b\\\\w\\\\w+\\\\b',min_df=100)),\n",
    "            ])),\n",
    "    ('Position_Extra', Pipeline([\n",
    "                ('selector', ItemSelector(key='Position_Extra')),\n",
    "                ('tfidf', TfidfVectorizer(ngram_range=(1,2), token_pattern='(?u)\\\\b\\\\w\\\\w+\\\\b',min_df=100)),\n",
    "            ])),\n",
    "    ('Program_Description', Pipeline([\n",
    "                ('selector', ItemSelector(key='Program_Description')),\n",
    "                ('tfidf', TfidfVectorizer(ngram_range=(1,2), token_pattern='(?u)\\\\b\\\\w\\\\w+\\\\b',min_df=100)),\n",
    "            ])),\n",
    "    ('Fund_Description', Pipeline([\n",
    "                ('selector', ItemSelector(key='Fund_Description')),\n",
    "                ('tfidf', TfidfVectorizer(ngram_range=(1,2), token_pattern='(?u)\\\\b\\\\w\\\\w+\\\\b',min_df=100)),\n",
    "            ])),\n",
    "    ('Text_1', Pipeline([\n",
    "                ('selector', ItemSelector(key='Text_1')),\n",
    "                ('tfidf', TfidfVectorizer(ngram_range=(1,2), token_pattern='(?u)\\\\b\\\\w\\\\w+\\\\b',min_df=100)),\n",
    "            ])),\n",
    "#     ('FTE', Pipeline([\n",
    "#                 ('selector', ItemSelector(key='FTE')),\n",
    "#                 ('scaler', StandardScaler()),\n",
    "#                 ('caster', ArrayCaster()),\n",
    "#             ])),\n",
    "#     ('Total', Pipeline([\n",
    "#                 ('selector', ItemSelector(key='Total')),\n",
    "#                 ('scaler', StandardScaler()),\n",
    "#                 ('caster', ArrayCaster()),\n",
    "#             ])),\n",
    "]"
   ]
  },
  {
   "cell_type": "markdown",
   "metadata": {},
   "source": [
    "### Don't include numerical columns in final feature union since it decreased scores and increased log loss- in general, in the original data, numerical features had a lot of missing values and some incorrect values for data that were there"
   ]
  },
  {
   "cell_type": "code",
   "execution_count": 17,
   "metadata": {},
   "outputs": [],
   "source": [
    "# create pipeline\n",
    "model_pipeline = Pipeline([\n",
    "    (\"union\", FeatureUnion(transformer_list=transformer_list)),\n",
    "    (\"clf\", LogisticRegression()),\n",
    "])"
   ]
  },
  {
   "cell_type": "code",
   "execution_count": 18,
   "metadata": {},
   "outputs": [],
   "source": [
    "X_test = budget_test"
   ]
  },
  {
   "cell_type": "code",
   "execution_count": 19,
   "metadata": {},
   "outputs": [],
   "source": [
    "position_model = model_pipeline.fit(X_train, y_train)"
   ]
  },
  {
   "cell_type": "code",
   "execution_count": 20,
   "metadata": {},
   "outputs": [
    {
     "data": {
      "text/plain": [
       "0.98308980360438569"
      ]
     },
     "execution_count": 20,
     "metadata": {},
     "output_type": "execute_result"
    }
   ],
   "source": [
    "position_model.score(X_train, y_train)"
   ]
  },
  {
   "cell_type": "code",
   "execution_count": 21,
   "metadata": {},
   "outputs": [],
   "source": [
    "val_proba = position_model.predict_proba(X_val)"
   ]
  },
  {
   "cell_type": "code",
   "execution_count": 22,
   "metadata": {},
   "outputs": [],
   "source": [
    "predict_proba = position_model.predict_proba(X_test)"
   ]
  },
  {
   "cell_type": "code",
   "execution_count": 32,
   "metadata": {},
   "outputs": [
    {
     "data": {
      "text/plain": [
       "array(['Position_Type__(Exec) Director', 'Position_Type__Area Officers',\n",
       "       'Position_Type__Club Advisor/Coach',\n",
       "       'Position_Type__Coordinator/Manager', 'Position_Type__Custodian',\n",
       "       'Position_Type__Guidance Counselor',\n",
       "       'Position_Type__Instructional Coach', 'Position_Type__Librarian',\n",
       "       'Position_Type__NO_LABEL', 'Position_Type__Non-Position',\n",
       "       'Position_Type__Nurse', 'Position_Type__Nurse Aide',\n",
       "       'Position_Type__Occupational Therapist', 'Position_Type__Other',\n",
       "       'Position_Type__Physical Therapist', 'Position_Type__Principal',\n",
       "       'Position_Type__Psychologist',\n",
       "       'Position_Type__School Monitor/Security',\n",
       "       'Position_Type__Sec/Clerk/Other Admin',\n",
       "       'Position_Type__Social Worker', 'Position_Type__Speech Therapist',\n",
       "       'Position_Type__Substitute', 'Position_Type__TA',\n",
       "       'Position_Type__Teacher', 'Position_Type__Vice Principal'], dtype=object)"
      ]
     },
     "execution_count": 32,
     "metadata": {},
     "output_type": "execute_result"
    }
   ],
   "source": [
    "label.classes_"
   ]
  },
  {
   "cell_type": "code",
   "execution_count": 24,
   "metadata": {},
   "outputs": [
    {
     "data": {
      "text/plain": [
       "0.070038377162151499"
      ]
     },
     "execution_count": 24,
     "metadata": {},
     "output_type": "execute_result"
    }
   ],
   "source": [
    "log_loss(y_val, val_proba)"
   ]
  },
  {
   "cell_type": "code",
   "execution_count": 26,
   "metadata": {},
   "outputs": [],
   "source": [
    "from sklearn.externals import joblib"
   ]
  },
  {
   "cell_type": "code",
   "execution_count": 27,
   "metadata": {},
   "outputs": [
    {
     "data": {
      "text/plain": [
       "['position_model.pkl']"
      ]
     },
     "execution_count": 27,
     "metadata": {},
     "output_type": "execute_result"
    }
   ],
   "source": [
    "joblib.dump(position_model, 'position_model.pkl')"
   ]
  },
  {
   "cell_type": "code",
   "execution_count": 28,
   "metadata": {},
   "outputs": [],
   "source": [
    "def score_eval(model, X_val, y_val):\n",
    "    preds = model.predict(X_val)\n",
    "    proba = model.predict_proba(X_val)\n",
    "    return {\n",
    "        'log_loss': log_loss(y_val, proba),\n",
    "        'accuracy': accuracy_score(y_val, preds),\n",
    "        'confmat': confusion_matrix(y_val, preds),\n",
    "        'clf_rep': classification_report(y_val, preds)\n",
    "    }"
   ]
  },
  {
   "cell_type": "code",
   "execution_count": 29,
   "metadata": {},
   "outputs": [
    {
     "name": "stdout",
     "output_type": "stream",
     "text": [
      "------------------------------------------------------------\n",
      "log_loss\n",
      "0.0700383771622\n",
      "------------------------------------------------------------\n",
      "accuracy\n",
      "0.981138203258\n",
      "------------------------------------------------------------\n",
      "confmat\n",
      "[[  104     0     1     6     0     0     1     1     4     0     0     0\n",
      "      0     6     0     0     0     0     2     0     0     0     1     0\n",
      "      0]\n",
      " [    0    18     0     0     0     0     0     0     3     0     0     0\n",
      "      0     0     0     0     0     0     0     0     0     0     0     2\n",
      "      0]\n",
      " [    1     0   779     1     0     0     2     0     0     2     0     0\n",
      "      0     3     0     0     0     0     0     0     0     0     1     2\n",
      "      0]\n",
      " [    2     0     0  1383     0     0     1     1    15     0     0     0\n",
      "      0    45     0     0     0     3     2     0     0     0     0     4\n",
      "      0]\n",
      " [    0     0     0     0  1935     0     0     0     1     0     0     0\n",
      "      0     8     0     0     0     0     1     0     0     1     0     0\n",
      "      0]\n",
      " [    0     0     0     0     0   561     0     0     2     0     0     0\n",
      "      0     1     0     0     0     0     0     0     0     0     0     2\n",
      "      0]\n",
      " [    0     0     1     1     0     0   940     0     1     1     0     0\n",
      "      0     9     0     0     0     0     1     0     0     0     0    39\n",
      "      1]\n",
      " [    0     0     0     0     0     0     0   371     0     0     0     0\n",
      "      0     1     0     0     0     0     0     0     0     0     0    11\n",
      "      0]\n",
      " [    1     0     1    17    22     4     3     0 19202   243     0     0\n",
      "      1    58     1     1     2     0     8     0     2     6    11    47\n",
      "      1]\n",
      " [    0     0    39     0     0     0     1     0   296  3910     0     0\n",
      "      0     2     0     0     2     0     0     0     0     0     4    94\n",
      "      1]\n",
      " [    0     0     0     0     0     0     0     0     0     0   353     0\n",
      "      0     2     0     0     0     0     0     0     0     0     0     0\n",
      "      0]\n",
      " [    0     0     0     0     0     0     0     0     1     0     0    13\n",
      "      0     0     0     0     0     0     0     0     0     0     0     0\n",
      "      0]\n",
      " [    0     0     0     0     0     0     0     0     0     0     0     0\n",
      "    109     0     0     0     0     0     1     0     0     0     0     0\n",
      "      0]\n",
      " [    1     0    10    26    12     5    13     1    43     8     0     0\n",
      "      0  7431     0     1     2     1     6     2     0     9    12    46\n",
      "      1]\n",
      " [    0     0     0     0     0     0     0     0     0     0     0     0\n",
      "      2     0    51     0     0     0     0     0     0     0     0     0\n",
      "      0]\n",
      " [    0     0     0     0     0     0     0     0     0     0     0     0\n",
      "      0     0     0   433     0     0     0     0     0     0     0     0\n",
      "      0]\n",
      " [    0     0     0     0     0     0     0     0     1     0     0     0\n",
      "      0     3     0     0   344     0     0     0     0     0     0     2\n",
      "      0]\n",
      " [    1     0     0     0     0     0     0     0     0     0     0     0\n",
      "      0     6     0     0     0   401     0     0     0     1     2     0\n",
      "      0]\n",
      " [    1     0     0     0     1     0     0     0     3     1     0     0\n",
      "      0    22     0     0     0     0  1652     0     0     2     2     4\n",
      "      1]\n",
      " [    0     0     0     0     0     0     0     0     0     0     0     0\n",
      "      0     2     0     0     1     0     0   356     0     0     0     3\n",
      "      0]\n",
      " [    0     0     0     0     0     0     0     0     0     0     0     0\n",
      "      0     7     0     0     1     0     0     0   400     0     0     1\n",
      "      0]\n",
      " [    0     0     0     0     0     0     0     0     3     0     0     0\n",
      "      0     3     0     0     0     0     0     0     0 12567     0     8\n",
      "      1]\n",
      " [    0     0     0     1     0     0     0     0     2    16     0     0\n",
      "      0    26     0     0     0     0     2     0     0     8  4464     9\n",
      "      0]\n",
      " [    0     0     0     1     0     0    16     0     7    17     0     0\n",
      "      0    29     0     0     0     0     1     0     1     2    10 20310\n",
      "      1]\n",
      " [    0     0     0     0     0     0     2     0     0     0     0     0\n",
      "      0     2     0     1     0     0     0     0     0     0     3     3\n",
      "    459]]\n",
      "------------------------------------------------------------\n",
      "clf_rep\n",
      "             precision    recall  f1-score   support\n",
      "\n",
      "          0       0.94      0.83      0.88       126\n",
      "          1       1.00      0.78      0.88        23\n",
      "          2       0.94      0.98      0.96       791\n",
      "          3       0.96      0.95      0.96      1456\n",
      "          4       0.98      0.99      0.99      1946\n",
      "          5       0.98      0.99      0.99       566\n",
      "          6       0.96      0.95      0.95       994\n",
      "          7       0.99      0.97      0.98       383\n",
      "          8       0.98      0.98      0.98     19631\n",
      "          9       0.93      0.90      0.91      4349\n",
      "         10       1.00      0.99      1.00       355\n",
      "         11       1.00      0.93      0.96        14\n",
      "         12       0.97      0.99      0.98       110\n",
      "         13       0.97      0.97      0.97      7630\n",
      "         14       0.98      0.96      0.97        53\n",
      "         15       0.99      1.00      1.00       433\n",
      "         16       0.98      0.98      0.98       350\n",
      "         17       0.99      0.98      0.98       411\n",
      "         18       0.99      0.98      0.98      1689\n",
      "         19       0.99      0.98      0.99       362\n",
      "         20       0.99      0.98      0.99       409\n",
      "         21       1.00      1.00      1.00     12582\n",
      "         22       0.99      0.99      0.99      4528\n",
      "         23       0.99      1.00      0.99     20395\n",
      "         24       0.98      0.98      0.98       470\n",
      "\n",
      "avg / total       0.98      0.98      0.98     80056\n",
      "\n",
      "------------------------------------------------------------\n"
     ]
    }
   ],
   "source": [
    "results = score_eval(position_model, X_val, y_val)\n",
    "\n",
    "print('-'*60)\n",
    "for key, value in results.items():\n",
    "    print(key)\n",
    "    print(value)\n",
    "    print('-'*60)"
   ]
  },
  {
   "cell_type": "code",
   "execution_count": 33,
   "metadata": {},
   "outputs": [],
   "source": [
    "classes = label.classes_"
   ]
  },
  {
   "cell_type": "code",
   "execution_count": 34,
   "metadata": {},
   "outputs": [],
   "source": [
    "position_probability = pd.DataFrame(predict_proba, columns=classes)"
   ]
  },
  {
   "cell_type": "code",
   "execution_count": 35,
   "metadata": {},
   "outputs": [
    {
     "data": {
      "text/html": [
       "<div>\n",
       "<table border=\"1\" class=\"dataframe\">\n",
       "  <thead>\n",
       "    <tr style=\"text-align: right;\">\n",
       "      <th></th>\n",
       "      <th>Position_Type__(Exec) Director</th>\n",
       "      <th>Position_Type__Area Officers</th>\n",
       "      <th>Position_Type__Club Advisor/Coach</th>\n",
       "      <th>Position_Type__Coordinator/Manager</th>\n",
       "      <th>Position_Type__Custodian</th>\n",
       "      <th>Position_Type__Guidance Counselor</th>\n",
       "      <th>Position_Type__Instructional Coach</th>\n",
       "      <th>Position_Type__Librarian</th>\n",
       "      <th>Position_Type__NO_LABEL</th>\n",
       "      <th>Position_Type__Non-Position</th>\n",
       "      <th>...</th>\n",
       "      <th>Position_Type__Principal</th>\n",
       "      <th>Position_Type__Psychologist</th>\n",
       "      <th>Position_Type__School Monitor/Security</th>\n",
       "      <th>Position_Type__Sec/Clerk/Other Admin</th>\n",
       "      <th>Position_Type__Social Worker</th>\n",
       "      <th>Position_Type__Speech Therapist</th>\n",
       "      <th>Position_Type__Substitute</th>\n",
       "      <th>Position_Type__TA</th>\n",
       "      <th>Position_Type__Teacher</th>\n",
       "      <th>Position_Type__Vice Principal</th>\n",
       "    </tr>\n",
       "  </thead>\n",
       "  <tbody>\n",
       "    <tr>\n",
       "      <th>0</th>\n",
       "      <td>0.000313</td>\n",
       "      <td>0.000021</td>\n",
       "      <td>0.000030</td>\n",
       "      <td>0.000328</td>\n",
       "      <td>0.000447</td>\n",
       "      <td>0.000531</td>\n",
       "      <td>0.001439</td>\n",
       "      <td>0.000113</td>\n",
       "      <td>0.981297</td>\n",
       "      <td>0.000211</td>\n",
       "      <td>...</td>\n",
       "      <td>0.000148</td>\n",
       "      <td>0.000019</td>\n",
       "      <td>0.000027</td>\n",
       "      <td>0.001145</td>\n",
       "      <td>0.000026</td>\n",
       "      <td>0.000213</td>\n",
       "      <td>0.000073</td>\n",
       "      <td>0.004121</td>\n",
       "      <td>0.003660</td>\n",
       "      <td>0.000201</td>\n",
       "    </tr>\n",
       "    <tr>\n",
       "      <th>1</th>\n",
       "      <td>0.007064</td>\n",
       "      <td>0.000064</td>\n",
       "      <td>0.000115</td>\n",
       "      <td>0.222818</td>\n",
       "      <td>0.000942</td>\n",
       "      <td>0.000944</td>\n",
       "      <td>0.001216</td>\n",
       "      <td>0.000246</td>\n",
       "      <td>0.693340</td>\n",
       "      <td>0.000007</td>\n",
       "      <td>...</td>\n",
       "      <td>0.000159</td>\n",
       "      <td>0.000065</td>\n",
       "      <td>0.000146</td>\n",
       "      <td>0.002461</td>\n",
       "      <td>0.000053</td>\n",
       "      <td>0.000311</td>\n",
       "      <td>0.000047</td>\n",
       "      <td>0.000323</td>\n",
       "      <td>0.010356</td>\n",
       "      <td>0.000561</td>\n",
       "    </tr>\n",
       "    <tr>\n",
       "      <th>2</th>\n",
       "      <td>0.000055</td>\n",
       "      <td>0.000015</td>\n",
       "      <td>0.000026</td>\n",
       "      <td>0.000065</td>\n",
       "      <td>0.000125</td>\n",
       "      <td>0.000274</td>\n",
       "      <td>0.000547</td>\n",
       "      <td>0.000101</td>\n",
       "      <td>0.976942</td>\n",
       "      <td>0.000032</td>\n",
       "      <td>...</td>\n",
       "      <td>0.000066</td>\n",
       "      <td>0.000012</td>\n",
       "      <td>0.000013</td>\n",
       "      <td>0.000236</td>\n",
       "      <td>0.000020</td>\n",
       "      <td>0.000167</td>\n",
       "      <td>0.000152</td>\n",
       "      <td>0.011840</td>\n",
       "      <td>0.007274</td>\n",
       "      <td>0.000137</td>\n",
       "    </tr>\n",
       "    <tr>\n",
       "      <th>3</th>\n",
       "      <td>0.000055</td>\n",
       "      <td>0.000015</td>\n",
       "      <td>0.000026</td>\n",
       "      <td>0.000065</td>\n",
       "      <td>0.000125</td>\n",
       "      <td>0.000274</td>\n",
       "      <td>0.000544</td>\n",
       "      <td>0.000101</td>\n",
       "      <td>0.977053</td>\n",
       "      <td>0.000032</td>\n",
       "      <td>...</td>\n",
       "      <td>0.000066</td>\n",
       "      <td>0.000012</td>\n",
       "      <td>0.000013</td>\n",
       "      <td>0.000235</td>\n",
       "      <td>0.000020</td>\n",
       "      <td>0.000167</td>\n",
       "      <td>0.000151</td>\n",
       "      <td>0.011977</td>\n",
       "      <td>0.007027</td>\n",
       "      <td>0.000137</td>\n",
       "    </tr>\n",
       "    <tr>\n",
       "      <th>4</th>\n",
       "      <td>0.000150</td>\n",
       "      <td>0.000027</td>\n",
       "      <td>0.000013</td>\n",
       "      <td>0.000899</td>\n",
       "      <td>0.000557</td>\n",
       "      <td>0.000560</td>\n",
       "      <td>0.000349</td>\n",
       "      <td>0.000035</td>\n",
       "      <td>0.180779</td>\n",
       "      <td>0.000003</td>\n",
       "      <td>...</td>\n",
       "      <td>0.000027</td>\n",
       "      <td>0.000012</td>\n",
       "      <td>0.000055</td>\n",
       "      <td>0.811160</td>\n",
       "      <td>0.000008</td>\n",
       "      <td>0.000029</td>\n",
       "      <td>0.000009</td>\n",
       "      <td>0.000773</td>\n",
       "      <td>0.000174</td>\n",
       "      <td>0.001100</td>\n",
       "    </tr>\n",
       "  </tbody>\n",
       "</table>\n",
       "<p>5 rows × 25 columns</p>\n",
       "</div>"
      ],
      "text/plain": [
       "   Position_Type__(Exec) Director  Position_Type__Area Officers  \\\n",
       "0                        0.000313                      0.000021   \n",
       "1                        0.007064                      0.000064   \n",
       "2                        0.000055                      0.000015   \n",
       "3                        0.000055                      0.000015   \n",
       "4                        0.000150                      0.000027   \n",
       "\n",
       "   Position_Type__Club Advisor/Coach  Position_Type__Coordinator/Manager  \\\n",
       "0                           0.000030                            0.000328   \n",
       "1                           0.000115                            0.222818   \n",
       "2                           0.000026                            0.000065   \n",
       "3                           0.000026                            0.000065   \n",
       "4                           0.000013                            0.000899   \n",
       "\n",
       "   Position_Type__Custodian  Position_Type__Guidance Counselor  \\\n",
       "0                  0.000447                           0.000531   \n",
       "1                  0.000942                           0.000944   \n",
       "2                  0.000125                           0.000274   \n",
       "3                  0.000125                           0.000274   \n",
       "4                  0.000557                           0.000560   \n",
       "\n",
       "   Position_Type__Instructional Coach  Position_Type__Librarian  \\\n",
       "0                            0.001439                  0.000113   \n",
       "1                            0.001216                  0.000246   \n",
       "2                            0.000547                  0.000101   \n",
       "3                            0.000544                  0.000101   \n",
       "4                            0.000349                  0.000035   \n",
       "\n",
       "   Position_Type__NO_LABEL  Position_Type__Non-Position  \\\n",
       "0                 0.981297                     0.000211   \n",
       "1                 0.693340                     0.000007   \n",
       "2                 0.976942                     0.000032   \n",
       "3                 0.977053                     0.000032   \n",
       "4                 0.180779                     0.000003   \n",
       "\n",
       "               ...                Position_Type__Principal  \\\n",
       "0              ...                                0.000148   \n",
       "1              ...                                0.000159   \n",
       "2              ...                                0.000066   \n",
       "3              ...                                0.000066   \n",
       "4              ...                                0.000027   \n",
       "\n",
       "   Position_Type__Psychologist  Position_Type__School Monitor/Security  \\\n",
       "0                     0.000019                                0.000027   \n",
       "1                     0.000065                                0.000146   \n",
       "2                     0.000012                                0.000013   \n",
       "3                     0.000012                                0.000013   \n",
       "4                     0.000012                                0.000055   \n",
       "\n",
       "   Position_Type__Sec/Clerk/Other Admin  Position_Type__Social Worker  \\\n",
       "0                              0.001145                      0.000026   \n",
       "1                              0.002461                      0.000053   \n",
       "2                              0.000236                      0.000020   \n",
       "3                              0.000235                      0.000020   \n",
       "4                              0.811160                      0.000008   \n",
       "\n",
       "   Position_Type__Speech Therapist  Position_Type__Substitute  \\\n",
       "0                         0.000213                   0.000073   \n",
       "1                         0.000311                   0.000047   \n",
       "2                         0.000167                   0.000152   \n",
       "3                         0.000167                   0.000151   \n",
       "4                         0.000029                   0.000009   \n",
       "\n",
       "   Position_Type__TA  Position_Type__Teacher  Position_Type__Vice Principal  \n",
       "0           0.004121                0.003660                       0.000201  \n",
       "1           0.000323                0.010356                       0.000561  \n",
       "2           0.011840                0.007274                       0.000137  \n",
       "3           0.011977                0.007027                       0.000137  \n",
       "4           0.000773                0.000174                       0.001100  \n",
       "\n",
       "[5 rows x 25 columns]"
      ]
     },
     "execution_count": 35,
     "metadata": {},
     "output_type": "execute_result"
    }
   ],
   "source": [
    "position_probability.head()"
   ]
  },
  {
   "cell_type": "code",
   "execution_count": 36,
   "metadata": {},
   "outputs": [],
   "source": [
    "position_probability.to_csv('position_probability.csv')"
   ]
  },
  {
   "cell_type": "code",
   "execution_count": null,
   "metadata": {},
   "outputs": [],
   "source": []
  }
 ],
 "metadata": {
  "kernelspec": {
   "display_name": "Python 3",
   "language": "python",
   "name": "python3"
  },
  "language_info": {
   "codemirror_mode": {
    "name": "ipython",
    "version": 3
   },
   "file_extension": ".py",
   "mimetype": "text/x-python",
   "name": "python",
   "nbconvert_exporter": "python",
   "pygments_lexer": "ipython3",
   "version": "3.6.2"
  }
 },
 "nbformat": 4,
 "nbformat_minor": 2
}
