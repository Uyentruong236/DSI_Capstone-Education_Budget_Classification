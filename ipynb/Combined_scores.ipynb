{
 "cells": [
  {
   "cell_type": "code",
   "execution_count": 1,
   "metadata": {},
   "outputs": [],
   "source": [
    "%run ../__init__.py"
   ]
  },
  {
   "cell_type": "code",
   "execution_count": 2,
   "metadata": {},
   "outputs": [
    {
     "data": {
      "text/plain": [
       "['Function',\n",
       " 'Use',\n",
       " 'Sharing',\n",
       " 'Reporting',\n",
       " 'Student_Type',\n",
       " 'Position_Type',\n",
       " 'Object_Type',\n",
       " 'Pre_K',\n",
       " 'Operating_Status']"
      ]
     },
     "execution_count": 2,
     "metadata": {},
     "output_type": "execute_result"
    }
   ],
   "source": [
    "targets"
   ]
  },
  {
   "cell_type": "code",
   "execution_count": 2,
   "metadata": {},
   "outputs": [
    {
     "name": "stderr",
     "output_type": "stream",
     "text": [
      "/opt/conda/lib/python3.6/site-packages/IPython/core/interactiveshell.py:2728: DtypeWarning: Columns (5,11) have mixed types. Specify dtype option on import or set low_memory=False.\n",
      "  interactivity=interactivity, compiler=compiler, result=result)\n"
     ]
    }
   ],
   "source": [
    "budget_test = pd.read_csv('../data/budget_test.csv')"
   ]
  },
  {
   "cell_type": "code",
   "execution_count": 4,
   "metadata": {
    "scrolled": true
   },
   "outputs": [
    {
     "data": {
      "text/html": [
       "<div>\n",
       "<table border=\"1\" class=\"dataframe\">\n",
       "  <thead>\n",
       "    <tr style=\"text-align: right;\">\n",
       "      <th></th>\n",
       "      <th>Unnamed: 0</th>\n",
       "      <th>Object_Description</th>\n",
       "      <th>Program_Description</th>\n",
       "      <th>SubFund_Description</th>\n",
       "      <th>Job_Title_Description</th>\n",
       "      <th>Facility_or_Department</th>\n",
       "      <th>Sub_Object_Description</th>\n",
       "      <th>Location_Description</th>\n",
       "      <th>FTE</th>\n",
       "      <th>Function_Description</th>\n",
       "      <th>Position_Extra</th>\n",
       "      <th>Text_4</th>\n",
       "      <th>Total</th>\n",
       "      <th>Text_2</th>\n",
       "      <th>Text_3</th>\n",
       "      <th>Fund_Description</th>\n",
       "      <th>Text_1</th>\n",
       "    </tr>\n",
       "  </thead>\n",
       "  <tbody>\n",
       "    <tr>\n",
       "      <th>0</th>\n",
       "      <td>180042</td>\n",
       "      <td>Student Meals/Room/Other</td>\n",
       "      <td>Basic Educational Services</td>\n",
       "      <td>NaN</td>\n",
       "      <td>NaN</td>\n",
       "      <td>NaN</td>\n",
       "      <td>Line Item that is paid with Campus' money</td>\n",
       "      <td>School</td>\n",
       "      <td>NaN</td>\n",
       "      <td>Instruction</td>\n",
       "      <td>NaN</td>\n",
       "      <td>NaN</td>\n",
       "      <td>3999.910000</td>\n",
       "      <td>NaN</td>\n",
       "      <td>NaN</td>\n",
       "      <td>General Fund</td>\n",
       "      <td>NaN</td>\n",
       "    </tr>\n",
       "    <tr>\n",
       "      <th>1</th>\n",
       "      <td>28872</td>\n",
       "      <td>Extra Duty/Signing Bonus Pay</td>\n",
       "      <td>Undistributed</td>\n",
       "      <td>NaN</td>\n",
       "      <td>CHEERLEADER DIR</td>\n",
       "      <td>NaN</td>\n",
       "      <td>General</td>\n",
       "      <td>School</td>\n",
       "      <td>NaN</td>\n",
       "      <td>Cocurricular &amp; Extra Curricular Activities</td>\n",
       "      <td>NaN</td>\n",
       "      <td>NaN</td>\n",
       "      <td>3447.320213</td>\n",
       "      <td>NaN</td>\n",
       "      <td>NaN</td>\n",
       "      <td>General Fund</td>\n",
       "      <td>NaN</td>\n",
       "    </tr>\n",
       "    <tr>\n",
       "      <th>2</th>\n",
       "      <td>186915</td>\n",
       "      <td>Professional Salaries</td>\n",
       "      <td>Bilingual Education</td>\n",
       "      <td>NaN</td>\n",
       "      <td>T-EL 1ST BIL</td>\n",
       "      <td>NaN</td>\n",
       "      <td>General</td>\n",
       "      <td>School</td>\n",
       "      <td>1.0</td>\n",
       "      <td>Instruction</td>\n",
       "      <td>NaN</td>\n",
       "      <td>NaN</td>\n",
       "      <td>52738.780869</td>\n",
       "      <td>NaN</td>\n",
       "      <td>NaN</td>\n",
       "      <td>General Fund</td>\n",
       "      <td>NaN</td>\n",
       "    </tr>\n",
       "    <tr>\n",
       "      <th>3</th>\n",
       "      <td>412396</td>\n",
       "      <td>Professional Salaries</td>\n",
       "      <td>Bilingual Education</td>\n",
       "      <td>NaN</td>\n",
       "      <td>T-EL 2ND BIL</td>\n",
       "      <td>NaN</td>\n",
       "      <td>General</td>\n",
       "      <td>School</td>\n",
       "      <td>1.0</td>\n",
       "      <td>Instruction</td>\n",
       "      <td>NaN</td>\n",
       "      <td>NaN</td>\n",
       "      <td>69729.263191</td>\n",
       "      <td>NaN</td>\n",
       "      <td>NaN</td>\n",
       "      <td>General Fund</td>\n",
       "      <td>NaN</td>\n",
       "    </tr>\n",
       "    <tr>\n",
       "      <th>4</th>\n",
       "      <td>427740</td>\n",
       "      <td>Salaries for Support Personnel</td>\n",
       "      <td>Undistributed</td>\n",
       "      <td>NaN</td>\n",
       "      <td>CLERK III- SCH</td>\n",
       "      <td>NaN</td>\n",
       "      <td>General</td>\n",
       "      <td>School</td>\n",
       "      <td>1.0</td>\n",
       "      <td>School Leadership</td>\n",
       "      <td>NaN</td>\n",
       "      <td>NaN</td>\n",
       "      <td>29492.834215</td>\n",
       "      <td>NaN</td>\n",
       "      <td>NaN</td>\n",
       "      <td>General Fund</td>\n",
       "      <td>NaN</td>\n",
       "    </tr>\n",
       "  </tbody>\n",
       "</table>\n",
       "</div>"
      ],
      "text/plain": [
       "   Unnamed: 0              Object_Description         Program_Description  \\\n",
       "0      180042        Student Meals/Room/Other  Basic Educational Services   \n",
       "1       28872    Extra Duty/Signing Bonus Pay               Undistributed   \n",
       "2      186915           Professional Salaries         Bilingual Education   \n",
       "3      412396           Professional Salaries         Bilingual Education   \n",
       "4      427740  Salaries for Support Personnel               Undistributed   \n",
       "\n",
       "  SubFund_Description Job_Title_Description Facility_or_Department  \\\n",
       "0                 NaN                   NaN                    NaN   \n",
       "1                 NaN       CHEERLEADER DIR                    NaN   \n",
       "2                 NaN          T-EL 1ST BIL                    NaN   \n",
       "3                 NaN          T-EL 2ND BIL                    NaN   \n",
       "4                 NaN        CLERK III- SCH                    NaN   \n",
       "\n",
       "                      Sub_Object_Description Location_Description  FTE  \\\n",
       "0  Line Item that is paid with Campus' money              School   NaN   \n",
       "1                                    General              School   NaN   \n",
       "2                                    General              School   1.0   \n",
       "3                                    General              School   1.0   \n",
       "4                                    General              School   1.0   \n",
       "\n",
       "                         Function_Description Position_Extra Text_4  \\\n",
       "0                                 Instruction            NaN    NaN   \n",
       "1  Cocurricular & Extra Curricular Activities            NaN    NaN   \n",
       "2                                 Instruction            NaN    NaN   \n",
       "3                                 Instruction            NaN    NaN   \n",
       "4                           School Leadership            NaN    NaN   \n",
       "\n",
       "          Total Text_2 Text_3 Fund_Description Text_1  \n",
       "0   3999.910000    NaN    NaN     General Fund    NaN  \n",
       "1   3447.320213    NaN    NaN     General Fund    NaN  \n",
       "2  52738.780869    NaN    NaN     General Fund    NaN  \n",
       "3  69729.263191    NaN    NaN     General Fund    NaN  \n",
       "4  29492.834215    NaN    NaN     General Fund    NaN  "
      ]
     },
     "execution_count": 4,
     "metadata": {},
     "output_type": "execute_result"
    }
   ],
   "source": [
    "budget_test.head()"
   ]
  },
  {
   "cell_type": "code",
   "execution_count": 4,
   "metadata": {},
   "outputs": [],
   "source": [
    "Function = pd.read_csv('../ipynb/func_proba.csv', index_col=0)\n",
    "Use = pd.read_csv('../ipynb/use_proba.csv', index_col=0)\n",
    "Sharing = pd.read_csv('../ipynb/sharing_proba.csv', index_col=0)\n",
    "Reporting = pd.read_csv('../ipynb/reporting_proba.csv', index_col=0)\n",
    "Student_Type = pd.read_csv('../ipynb/student_proba.csv', index_col=0)\n",
    "Position_Type = pd.read_csv('../ipynb/pos_proba.csv', index_col=0)\n",
    "Object_Type = pd.read_csv('../ipynb/object_proba.csv', index_col=0)\n",
    "Pre_K = pd.read_csv('../ipynb/pre_k_proba.csv', index_col=0)\n",
    "Operating_Status = pd.read_csv('../ipynb/op_stat_proba.csv', index_col=0)"
   ]
  },
  {
   "cell_type": "code",
   "execution_count": 5,
   "metadata": {},
   "outputs": [],
   "source": [
    "results = pd.concat([budget_test, Function, Object_Type, Operating_Status, Position_Type, Pre_K, Reporting,\\\n",
    "                     Sharing, Student_Type, Use], axis = 1)"
   ]
  },
  {
   "cell_type": "code",
   "execution_count": 6,
   "metadata": {},
   "outputs": [
    {
     "data": {
      "text/plain": [
       "(50064, 121)"
      ]
     },
     "execution_count": 6,
     "metadata": {},
     "output_type": "execute_result"
    }
   ],
   "source": [
    "results.shape"
   ]
  },
  {
   "cell_type": "code",
   "execution_count": 7,
   "metadata": {},
   "outputs": [],
   "source": [
    "results = results.drop(predictors, axis=1)"
   ]
  },
  {
   "cell_type": "code",
   "execution_count": 8,
   "metadata": {},
   "outputs": [
    {
     "data": {
      "text/plain": [
       "(50064, 105)"
      ]
     },
     "execution_count": 8,
     "metadata": {},
     "output_type": "execute_result"
    }
   ],
   "source": [
    "results.shape"
   ]
  },
  {
   "cell_type": "code",
   "execution_count": 10,
   "metadata": {},
   "outputs": [],
   "source": [
    "results.to_csv('submission2.csv')"
   ]
  },
  {
   "cell_type": "code",
   "execution_count": null,
   "metadata": {},
   "outputs": [],
   "source": []
  }
 ],
 "metadata": {
  "kernelspec": {
   "display_name": "Python 3",
   "language": "python",
   "name": "python3"
  },
  "language_info": {
   "codemirror_mode": {
    "name": "ipython",
    "version": 3
   },
   "file_extension": ".py",
   "mimetype": "text/x-python",
   "name": "python",
   "nbconvert_exporter": "python",
   "pygments_lexer": "ipython3",
   "version": "3.6.2"
  }
 },
 "nbformat": 4,
 "nbformat_minor": 2
}
