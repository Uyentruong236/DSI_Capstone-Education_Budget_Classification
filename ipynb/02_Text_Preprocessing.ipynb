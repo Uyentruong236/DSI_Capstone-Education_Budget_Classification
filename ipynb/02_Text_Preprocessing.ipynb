{
 "cells": [
  {
   "cell_type": "code",
   "execution_count": 1,
   "metadata": {},
   "outputs": [],
   "source": [
    "%run ../__init__.py"
   ]
  },
  {
   "cell_type": "markdown",
   "metadata": {},
   "source": [
    "## Data preprocessing with Tfidf"
   ]
  },
  {
   "cell_type": "code",
   "execution_count": 2,
   "metadata": {},
   "outputs": [],
   "source": [
    "budget_df = pd.read_csv('../data/budget_df_cleaned1.csv', index_col=0)"
   ]
  },
  {
   "cell_type": "code",
   "execution_count": 18,
   "metadata": {},
   "outputs": [
    {
     "data": {
      "text/html": [
       "<div>\n",
       "<table border=\"1\" class=\"dataframe\">\n",
       "  <thead>\n",
       "    <tr style=\"text-align: right;\">\n",
       "      <th></th>\n",
       "      <th>Function</th>\n",
       "      <th>Use</th>\n",
       "      <th>Sharing</th>\n",
       "      <th>Reporting</th>\n",
       "      <th>Student_Type</th>\n",
       "      <th>Position_Type</th>\n",
       "      <th>Object_Type</th>\n",
       "      <th>Pre_K</th>\n",
       "      <th>Operating_Status</th>\n",
       "      <th>Object_Description</th>\n",
       "      <th>...</th>\n",
       "      <th>Location_Description</th>\n",
       "      <th>FTE</th>\n",
       "      <th>Function_Description</th>\n",
       "      <th>Facility_or_Department</th>\n",
       "      <th>Position_Extra</th>\n",
       "      <th>Total</th>\n",
       "      <th>Program_Description</th>\n",
       "      <th>Fund_Description</th>\n",
       "      <th>Text_1</th>\n",
       "      <th>combined_text</th>\n",
       "    </tr>\n",
       "  </thead>\n",
       "  <tbody>\n",
       "    <tr>\n",
       "      <th>0</th>\n",
       "      <td>Function__Teacher Compensation</td>\n",
       "      <td>Use__Instruction</td>\n",
       "      <td>Sharing__School Reported</td>\n",
       "      <td>Reporting__School</td>\n",
       "      <td>Student_Type__NO_LABEL</td>\n",
       "      <td>Position_Type__Teacher</td>\n",
       "      <td>Object_Type__NO_LABEL</td>\n",
       "      <td>Pre_K__NO_LABEL</td>\n",
       "      <td>Operating_Status__PreK-12 Operating</td>\n",
       "      <td></td>\n",
       "      <td>...</td>\n",
       "      <td></td>\n",
       "      <td>1.000000</td>\n",
       "      <td></td>\n",
       "      <td></td>\n",
       "      <td>kindergarten</td>\n",
       "      <td>50471.810</td>\n",
       "      <td>kindergarten</td>\n",
       "      <td>general fund</td>\n",
       "      <td></td>\n",
       "      <td>teacher elementary             kindergar...</td>\n",
       "    </tr>\n",
       "    <tr>\n",
       "      <th>1</th>\n",
       "      <td>Function__NO_LABEL</td>\n",
       "      <td>Use__NO_LABEL</td>\n",
       "      <td>Sharing__NO_LABEL</td>\n",
       "      <td>Reporting__NO_LABEL</td>\n",
       "      <td>Student_Type__NO_LABEL</td>\n",
       "      <td>Position_Type__NO_LABEL</td>\n",
       "      <td>Object_Type__NO_LABEL</td>\n",
       "      <td>Pre_K__NO_LABEL</td>\n",
       "      <td>Operating_Status__Non-Operating</td>\n",
       "      <td>contractor service</td>\n",
       "      <td>...</td>\n",
       "      <td></td>\n",
       "      <td>0.420663</td>\n",
       "      <td>rgn gob</td>\n",
       "      <td></td>\n",
       "      <td>undesignated</td>\n",
       "      <td>3477.860</td>\n",
       "      <td>building improvement service</td>\n",
       "      <td></td>\n",
       "      <td>building improvement service</td>\n",
       "      <td>contractor service bond expenditure building f...</td>\n",
       "    </tr>\n",
       "    <tr>\n",
       "      <th>2</th>\n",
       "      <td>Function__Teacher Compensation</td>\n",
       "      <td>Use__Instruction</td>\n",
       "      <td>Sharing__School Reported</td>\n",
       "      <td>Reporting__School</td>\n",
       "      <td>Student_Type__Unspecified</td>\n",
       "      <td>Position_Type__Teacher</td>\n",
       "      <td>Object_Type__Base Salary/Compensation</td>\n",
       "      <td>Pre_K__Non PreK</td>\n",
       "      <td>Operating_Status__PreK-12 Operating</td>\n",
       "      <td>personal service teacher</td>\n",
       "      <td>...</td>\n",
       "      <td></td>\n",
       "      <td>1.000000</td>\n",
       "      <td></td>\n",
       "      <td></td>\n",
       "      <td>teacher</td>\n",
       "      <td>62237.130</td>\n",
       "      <td>instruction regular</td>\n",
       "      <td>general purpose school</td>\n",
       "      <td></td>\n",
       "      <td>personal service teacher     tcher 2nd grade  ...</td>\n",
       "    </tr>\n",
       "    <tr>\n",
       "      <th>3</th>\n",
       "      <td>Function__Substitute Compensation</td>\n",
       "      <td>Use__Instruction</td>\n",
       "      <td>Sharing__School Reported</td>\n",
       "      <td>Reporting__School</td>\n",
       "      <td>Student_Type__Unspecified</td>\n",
       "      <td>Position_Type__Substitute</td>\n",
       "      <td>Object_Type__Benefits</td>\n",
       "      <td>Pre_K__NO_LABEL</td>\n",
       "      <td>Operating_Status__PreK-12 Operating</td>\n",
       "      <td>employee benefit</td>\n",
       "      <td>...</td>\n",
       "      <td></td>\n",
       "      <td>0.420663</td>\n",
       "      <td>unalloc budget school</td>\n",
       "      <td></td>\n",
       "      <td>professional instructional</td>\n",
       "      <td>22.300</td>\n",
       "      <td>general middle junior high sch</td>\n",
       "      <td></td>\n",
       "      <td>regular instruction</td>\n",
       "      <td>employee benefit teacher sub general fund teac...</td>\n",
       "    </tr>\n",
       "    <tr>\n",
       "      <th>4</th>\n",
       "      <td>Function__Substitute Compensation</td>\n",
       "      <td>Use__Instruction</td>\n",
       "      <td>Sharing__School Reported</td>\n",
       "      <td>Reporting__School</td>\n",
       "      <td>Student_Type__Unspecified</td>\n",
       "      <td>Position_Type__Teacher</td>\n",
       "      <td>Object_Type__Substitute Compensation</td>\n",
       "      <td>Pre_K__NO_LABEL</td>\n",
       "      <td>Operating_Status__PreK-12 Operating</td>\n",
       "      <td>teacher coverage teacher</td>\n",
       "      <td>...</td>\n",
       "      <td></td>\n",
       "      <td>0.420663</td>\n",
       "      <td>non project</td>\n",
       "      <td></td>\n",
       "      <td>professional instructional</td>\n",
       "      <td>54.166</td>\n",
       "      <td>general high school education</td>\n",
       "      <td></td>\n",
       "      <td>regular instruction</td>\n",
       "      <td>teacher coverage teacher teacher sub general f...</td>\n",
       "    </tr>\n",
       "  </tbody>\n",
       "</table>\n",
       "<p>5 rows × 26 columns</p>\n",
       "</div>"
      ],
      "text/plain": [
       "                            Function               Use  \\\n",
       "0     Function__Teacher Compensation  Use__Instruction   \n",
       "1                 Function__NO_LABEL     Use__NO_LABEL   \n",
       "2     Function__Teacher Compensation  Use__Instruction   \n",
       "3  Function__Substitute Compensation  Use__Instruction   \n",
       "4  Function__Substitute Compensation  Use__Instruction   \n",
       "\n",
       "                    Sharing            Reporting               Student_Type  \\\n",
       "0  Sharing__School Reported    Reporting__School     Student_Type__NO_LABEL   \n",
       "1         Sharing__NO_LABEL  Reporting__NO_LABEL     Student_Type__NO_LABEL   \n",
       "2  Sharing__School Reported    Reporting__School  Student_Type__Unspecified   \n",
       "3  Sharing__School Reported    Reporting__School  Student_Type__Unspecified   \n",
       "4  Sharing__School Reported    Reporting__School  Student_Type__Unspecified   \n",
       "\n",
       "               Position_Type                            Object_Type  \\\n",
       "0     Position_Type__Teacher                  Object_Type__NO_LABEL   \n",
       "1    Position_Type__NO_LABEL                  Object_Type__NO_LABEL   \n",
       "2     Position_Type__Teacher  Object_Type__Base Salary/Compensation   \n",
       "3  Position_Type__Substitute                  Object_Type__Benefits   \n",
       "4     Position_Type__Teacher   Object_Type__Substitute Compensation   \n",
       "\n",
       "             Pre_K                     Operating_Status  \\\n",
       "0  Pre_K__NO_LABEL  Operating_Status__PreK-12 Operating   \n",
       "1  Pre_K__NO_LABEL      Operating_Status__Non-Operating   \n",
       "2  Pre_K__Non PreK  Operating_Status__PreK-12 Operating   \n",
       "3  Pre_K__NO_LABEL  Operating_Status__PreK-12 Operating   \n",
       "4  Pre_K__NO_LABEL  Operating_Status__PreK-12 Operating   \n",
       "\n",
       "         Object_Description  \\\n",
       "0                             \n",
       "1        contractor service   \n",
       "2  personal service teacher   \n",
       "3          employee benefit   \n",
       "4  teacher coverage teacher   \n",
       "\n",
       "                         ...                         Location_Description  \\\n",
       "0                        ...                                                \n",
       "1                        ...                                                \n",
       "2                        ...                                                \n",
       "3                        ...                                                \n",
       "4                        ...                                                \n",
       "\n",
       "        FTE   Function_Description Facility_or_Department  \\\n",
       "0  1.000000                                                 \n",
       "1  0.420663                rgn gob                          \n",
       "2  1.000000                                                 \n",
       "3  0.420663  unalloc budget school                          \n",
       "4  0.420663            non project                          \n",
       "\n",
       "               Position_Extra      Total             Program_Description  \\\n",
       "0                kindergarten  50471.810                    kindergarten   \n",
       "1                undesignated   3477.860    building improvement service   \n",
       "2                     teacher  62237.130             instruction regular   \n",
       "3  professional instructional     22.300  general middle junior high sch   \n",
       "4  professional instructional     54.166   general high school education   \n",
       "\n",
       "         Fund_Description                        Text_1  \\\n",
       "0            general fund                                 \n",
       "1                          building improvement service   \n",
       "2  general purpose school                                 \n",
       "3                                   regular instruction   \n",
       "4                                   regular instruction   \n",
       "\n",
       "                                       combined_text  \n",
       "0        teacher elementary             kindergar...  \n",
       "1  contractor service bond expenditure building f...  \n",
       "2  personal service teacher     tcher 2nd grade  ...  \n",
       "3  employee benefit teacher sub general fund teac...  \n",
       "4  teacher coverage teacher teacher sub general f...  \n",
       "\n",
       "[5 rows x 26 columns]"
      ]
     },
     "execution_count": 18,
     "metadata": {},
     "output_type": "execute_result"
    }
   ],
   "source": [
    "budget_df.head()"
   ]
  },
  {
   "cell_type": "code",
   "execution_count": 4,
   "metadata": {},
   "outputs": [],
   "source": [
    "for col in budget_df[word_predictors]:\n",
    "    budget_df[col] = budget_df[word_predictors].loc[:,[col]].fillna(' ')"
   ]
  },
  {
   "cell_type": "code",
   "execution_count": 5,
   "metadata": {},
   "outputs": [],
   "source": [
    "def create_tfidf(word_column):\n",
    "    tfidf = TfidfVectorizer(ngram_range=(1,2), token_pattern='(?u)\\\\b\\\\w\\\\w+\\\\b',min_df=100)\n",
    "    col_tfidf = tfidf.fit_transform(budget_df[word_column])\n",
    "    \n",
    "    return col_tfidf"
   ]
  },
  {
   "cell_type": "code",
   "execution_count": 6,
   "metadata": {},
   "outputs": [],
   "source": [
    "SubFund_Description_tfidf = create_tfidf('SubFund_Description')\n",
    "Job_Title_Description_tfidf = create_tfidf('Job_Title_Description')\n",
    "Text_3_tfidf = create_tfidf('Text_3')\n",
    "Text_4_tfidf= create_tfidf('Text_4')\n",
    "Sub_Object_Description_tfidf= create_tfidf('Sub_Object_Description')\n",
    "Location_Description_tfidf= create_tfidf('Location_Description')\n",
    "Function_Description_tfidf= create_tfidf('Function_Description')\n",
    "Facility_or_Department_tfidf= create_tfidf('Facility_or_Department')\n",
    "Position_Extra_tfidf= create_tfidf('Position_Extra')\n",
    "Program_Description_tfidf= create_tfidf('Program_Description')\n",
    "Fund_Description_tfidf= create_tfidf('Fund_Description')\n",
    "Text_1_tfidf= create_tfidf('Text_1')\n",
    "Text_2_tfidf= create_tfidf('Text_2')\n",
    "Object_Description = create_tfidf('Object_Description')"
   ]
  },
  {
   "cell_type": "code",
   "execution_count": 7,
   "metadata": {},
   "outputs": [],
   "source": [
    "# combined_text_tfidf= create_tfidf('combined_text')\n",
    "\n",
    "# combined_text_tfidf.get_shape()"
   ]
  },
  {
   "cell_type": "code",
   "execution_count": 9,
   "metadata": {},
   "outputs": [],
   "source": [
    "tfidf_list = [SubFund_Description_tfidf, Job_Title_Description_tfidf, Text_3_tfidf, Text_4_tfidf,\\\n",
    "                      Sub_Object_Description_tfidf, Location_Description_tfidf, Function_Description_tfidf,\\\n",
    "                       Facility_or_Department_tfidf, Position_Extra_tfidf, Program_Description_tfidf,\\\n",
    "                      Fund_Description_tfidf, Text_1_tfidf, Text_2_tfidf, Object_Description]"
   ]
  },
  {
   "cell_type": "code",
   "execution_count": 10,
   "metadata": {},
   "outputs": [],
   "source": [
    "from scipy import sparse\n",
    "from scipy.sparse import hstack\n",
    "\n",
    "budget_tfidf = hstack([SubFund_Description_tfidf, Job_Title_Description_tfidf, Text_3_tfidf, Text_4_tfidf,\\\n",
    "                      Sub_Object_Description_tfidf, Location_Description_tfidf, Function_Description_tfidf,\\\n",
    "                       Facility_or_Department_tfidf, Position_Extra_tfidf, Program_Description_tfidf,\\\n",
    "                      Fund_Description_tfidf, Text_1_tfidf, Text_2_tfidf, Object_Description])"
   ]
  },
  {
   "cell_type": "code",
   "execution_count": 11,
   "metadata": {
    "scrolled": true
   },
   "outputs": [
    {
     "data": {
      "text/plain": [
       "(400277, 4717)"
      ]
     },
     "execution_count": 11,
     "metadata": {},
     "output_type": "execute_result"
    }
   ],
   "source": [
    "budget_tfidf.get_shape()"
   ]
  },
  {
   "cell_type": "code",
   "execution_count": 12,
   "metadata": {},
   "outputs": [
    {
     "data": {
      "text/plain": [
       "['Function',\n",
       " 'Use',\n",
       " 'Sharing',\n",
       " 'Reporting',\n",
       " 'Student_Type',\n",
       " 'Position_Type',\n",
       " 'Object_Type',\n",
       " 'Pre_K',\n",
       " 'Operating_Status']"
      ]
     },
     "execution_count": 12,
     "metadata": {},
     "output_type": "execute_result"
    }
   ],
   "source": [
    "targets"
   ]
  },
  {
   "cell_type": "markdown",
   "metadata": {},
   "source": [
    "## Model Prediction for Operating_status"
   ]
  },
  {
   "cell_type": "code",
   "execution_count": 19,
   "metadata": {},
   "outputs": [],
   "source": [
    "from sklearn.linear_model import LogisticRegression\n",
    "from sklearn.model_selection import train_test_split\n",
    "from sklearn.pipeline import Pipeline\n",
    "from sklearn.preprocessing import LabelEncoder\n",
    "le = LabelEncoder()"
   ]
  },
  {
   "cell_type": "code",
   "execution_count": 14,
   "metadata": {},
   "outputs": [],
   "source": [
    "def nlp_pipe(X, y, col):\n",
    "     \n",
    "    X_train, X_val, y_train, y_val = train_test_split(X, \n",
    "                                                    y, \n",
    "                                                    test_size=.2, \n",
    "                                                    random_state=42)\n",
    "    \n",
    "    nlp_pipe = Pipeline([\n",
    "    ('clf', LogisticRegression(random_state=42, multi_class='ovr'))])\n",
    "\n",
    "    \n",
    "    model = nlp_pipe.fit(X_train, y_train)\n",
    "    \n",
    "    results = {'target': col,\n",
    "               'train_score': nlp_pipe.score(X_train, y_train),\n",
    "               'test_score': nlp_pipe.score(X_val, y_val)}\n",
    "    \n",
    "    return model, results"
   ]
  },
  {
   "cell_type": "code",
   "execution_count": null,
   "metadata": {},
   "outputs": [],
   "source": [
    "op_status = nlp_pipe(Text_1_tfidf, le.fit_transform(budget_df['Operating_Status']), 'Operating Status')"
   ]
  },
  {
   "cell_type": "code",
   "execution_count": 17,
   "metadata": {},
   "outputs": [
    {
     "name": "stdout",
     "output_type": "stream",
     "text": [
      "Object_Description\n",
      "Text_2\n",
      "SubFund_Description\n",
      "Job_Title_Description\n",
      "Text_3\n",
      "Text_4\n",
      "Sub_Object_Description\n",
      "Location_Description\n",
      "Function_Description\n",
      "Facility_or_Department\n",
      "Position_Extra\n",
      "Program_Description\n",
      "Fund_Description\n",
      "Text_1\n",
      "\n"
     ]
    },
    {
     "ename": "KeyboardInterrupt",
     "evalue": "",
     "output_type": "error",
     "traceback": [
      "\u001b[0;31m---------------------------------------------------------------------------\u001b[0m",
      "\u001b[0;31mKeyboardInterrupt\u001b[0m                         Traceback (most recent call last)",
      "\u001b[0;32m<ipython-input-17-bbeb44bbd21f>\u001b[0m in \u001b[0;36m<module>\u001b[0;34m()\u001b[0m\n\u001b[1;32m      8\u001b[0m     \u001b[0mcol\u001b[0m \u001b[0;34m=\u001b[0m \u001b[0mcol\u001b[0m\u001b[0;34m\u001b[0m\u001b[0m\n\u001b[1;32m      9\u001b[0m     \u001b[0mprint\u001b[0m\u001b[0;34m(\u001b[0m\u001b[0;34m)\u001b[0m\u001b[0;34m\u001b[0m\u001b[0m\n\u001b[0;32m---> 10\u001b[0;31m     \u001b[0mresults\u001b[0m \u001b[0;34m=\u001b[0m \u001b[0mnlp_pipe\u001b[0m\u001b[0;34m(\u001b[0m\u001b[0mX\u001b[0m\u001b[0;34m,\u001b[0m \u001b[0my\u001b[0m\u001b[0;34m,\u001b[0m \u001b[0mcol\u001b[0m\u001b[0;34m)\u001b[0m\u001b[0;34m\u001b[0m\u001b[0m\n\u001b[0m\u001b[1;32m     11\u001b[0m     \u001b[0mmodel_results\u001b[0m\u001b[0;34m.\u001b[0m\u001b[0mappend\u001b[0m\u001b[0;34m(\u001b[0m\u001b[0mresults\u001b[0m\u001b[0;34m)\u001b[0m\u001b[0;34m\u001b[0m\u001b[0m\n",
      "\u001b[0;32m<ipython-input-14-61e331c5cd92>\u001b[0m in \u001b[0;36mnlp_pipe\u001b[0;34m(X, y, col)\u001b[0m\n\u001b[1;32m     10\u001b[0m \u001b[0;34m\u001b[0m\u001b[0m\n\u001b[1;32m     11\u001b[0m \u001b[0;34m\u001b[0m\u001b[0m\n\u001b[0;32m---> 12\u001b[0;31m     \u001b[0mmodel\u001b[0m \u001b[0;34m=\u001b[0m \u001b[0mnlp_pipe\u001b[0m\u001b[0;34m.\u001b[0m\u001b[0mfit\u001b[0m\u001b[0;34m(\u001b[0m\u001b[0mX_train\u001b[0m\u001b[0;34m,\u001b[0m \u001b[0my_train\u001b[0m\u001b[0;34m)\u001b[0m\u001b[0;34m\u001b[0m\u001b[0m\n\u001b[0m\u001b[1;32m     13\u001b[0m \u001b[0;34m\u001b[0m\u001b[0m\n\u001b[1;32m     14\u001b[0m     results = {'target': col,\n",
      "\u001b[0;32m/opt/conda/lib/python3.6/site-packages/sklearn/pipeline.py\u001b[0m in \u001b[0;36mfit\u001b[0;34m(self, X, y, **fit_params)\u001b[0m\n\u001b[1;32m    268\u001b[0m         \u001b[0mXt\u001b[0m\u001b[0;34m,\u001b[0m \u001b[0mfit_params\u001b[0m \u001b[0;34m=\u001b[0m \u001b[0mself\u001b[0m\u001b[0;34m.\u001b[0m\u001b[0m_fit\u001b[0m\u001b[0;34m(\u001b[0m\u001b[0mX\u001b[0m\u001b[0;34m,\u001b[0m \u001b[0my\u001b[0m\u001b[0;34m,\u001b[0m \u001b[0;34m**\u001b[0m\u001b[0mfit_params\u001b[0m\u001b[0;34m)\u001b[0m\u001b[0;34m\u001b[0m\u001b[0m\n\u001b[1;32m    269\u001b[0m         \u001b[0;32mif\u001b[0m \u001b[0mself\u001b[0m\u001b[0;34m.\u001b[0m\u001b[0m_final_estimator\u001b[0m \u001b[0;32mis\u001b[0m \u001b[0;32mnot\u001b[0m \u001b[0;32mNone\u001b[0m\u001b[0;34m:\u001b[0m\u001b[0;34m\u001b[0m\u001b[0m\n\u001b[0;32m--> 270\u001b[0;31m             \u001b[0mself\u001b[0m\u001b[0;34m.\u001b[0m\u001b[0m_final_estimator\u001b[0m\u001b[0;34m.\u001b[0m\u001b[0mfit\u001b[0m\u001b[0;34m(\u001b[0m\u001b[0mXt\u001b[0m\u001b[0;34m,\u001b[0m \u001b[0my\u001b[0m\u001b[0;34m,\u001b[0m \u001b[0;34m**\u001b[0m\u001b[0mfit_params\u001b[0m\u001b[0;34m)\u001b[0m\u001b[0;34m\u001b[0m\u001b[0m\n\u001b[0m\u001b[1;32m    271\u001b[0m         \u001b[0;32mreturn\u001b[0m \u001b[0mself\u001b[0m\u001b[0;34m\u001b[0m\u001b[0m\n\u001b[1;32m    272\u001b[0m \u001b[0;34m\u001b[0m\u001b[0m\n",
      "\u001b[0;32m/opt/conda/lib/python3.6/site-packages/sklearn/linear_model/logistic.py\u001b[0m in \u001b[0;36mfit\u001b[0;34m(self, X, y, sample_weight)\u001b[0m\n\u001b[1;32m   1184\u001b[0m                 \u001b[0mself\u001b[0m\u001b[0;34m.\u001b[0m\u001b[0mclass_weight\u001b[0m\u001b[0;34m,\u001b[0m \u001b[0mself\u001b[0m\u001b[0;34m.\u001b[0m\u001b[0mpenalty\u001b[0m\u001b[0;34m,\u001b[0m \u001b[0mself\u001b[0m\u001b[0;34m.\u001b[0m\u001b[0mdual\u001b[0m\u001b[0;34m,\u001b[0m \u001b[0mself\u001b[0m\u001b[0;34m.\u001b[0m\u001b[0mverbose\u001b[0m\u001b[0;34m,\u001b[0m\u001b[0;34m\u001b[0m\u001b[0m\n\u001b[1;32m   1185\u001b[0m                 \u001b[0mself\u001b[0m\u001b[0;34m.\u001b[0m\u001b[0mmax_iter\u001b[0m\u001b[0;34m,\u001b[0m \u001b[0mself\u001b[0m\u001b[0;34m.\u001b[0m\u001b[0mtol\u001b[0m\u001b[0;34m,\u001b[0m \u001b[0mself\u001b[0m\u001b[0;34m.\u001b[0m\u001b[0mrandom_state\u001b[0m\u001b[0;34m,\u001b[0m\u001b[0;34m\u001b[0m\u001b[0m\n\u001b[0;32m-> 1186\u001b[0;31m                 sample_weight=sample_weight)\n\u001b[0m\u001b[1;32m   1187\u001b[0m             \u001b[0mself\u001b[0m\u001b[0;34m.\u001b[0m\u001b[0mn_iter_\u001b[0m \u001b[0;34m=\u001b[0m \u001b[0mnp\u001b[0m\u001b[0;34m.\u001b[0m\u001b[0marray\u001b[0m\u001b[0;34m(\u001b[0m\u001b[0;34m[\u001b[0m\u001b[0mn_iter_\u001b[0m\u001b[0;34m]\u001b[0m\u001b[0;34m)\u001b[0m\u001b[0;34m\u001b[0m\u001b[0m\n\u001b[1;32m   1188\u001b[0m             \u001b[0;32mreturn\u001b[0m \u001b[0mself\u001b[0m\u001b[0;34m\u001b[0m\u001b[0m\n",
      "\u001b[0;32m/opt/conda/lib/python3.6/site-packages/sklearn/svm/base.py\u001b[0m in \u001b[0;36m_fit_liblinear\u001b[0;34m(X, y, C, fit_intercept, intercept_scaling, class_weight, penalty, dual, verbose, max_iter, tol, random_state, multi_class, loss, epsilon, sample_weight)\u001b[0m\n\u001b[1;32m    910\u001b[0m         \u001b[0mX\u001b[0m\u001b[0;34m,\u001b[0m \u001b[0my_ind\u001b[0m\u001b[0;34m,\u001b[0m \u001b[0msp\u001b[0m\u001b[0;34m.\u001b[0m\u001b[0misspmatrix\u001b[0m\u001b[0;34m(\u001b[0m\u001b[0mX\u001b[0m\u001b[0;34m)\u001b[0m\u001b[0;34m,\u001b[0m \u001b[0msolver_type\u001b[0m\u001b[0;34m,\u001b[0m \u001b[0mtol\u001b[0m\u001b[0;34m,\u001b[0m \u001b[0mbias\u001b[0m\u001b[0;34m,\u001b[0m \u001b[0mC\u001b[0m\u001b[0;34m,\u001b[0m\u001b[0;34m\u001b[0m\u001b[0m\n\u001b[1;32m    911\u001b[0m         \u001b[0mclass_weight_\u001b[0m\u001b[0;34m,\u001b[0m \u001b[0mmax_iter\u001b[0m\u001b[0;34m,\u001b[0m \u001b[0mrnd\u001b[0m\u001b[0;34m.\u001b[0m\u001b[0mrandint\u001b[0m\u001b[0;34m(\u001b[0m\u001b[0mnp\u001b[0m\u001b[0;34m.\u001b[0m\u001b[0miinfo\u001b[0m\u001b[0;34m(\u001b[0m\u001b[0;34m'i'\u001b[0m\u001b[0;34m)\u001b[0m\u001b[0;34m.\u001b[0m\u001b[0mmax\u001b[0m\u001b[0;34m)\u001b[0m\u001b[0;34m,\u001b[0m\u001b[0;34m\u001b[0m\u001b[0m\n\u001b[0;32m--> 912\u001b[0;31m         epsilon, sample_weight)\n\u001b[0m\u001b[1;32m    913\u001b[0m     \u001b[0;31m# Regarding rnd.randint(..) in the above signature:\u001b[0m\u001b[0;34m\u001b[0m\u001b[0;34m\u001b[0m\u001b[0m\n\u001b[1;32m    914\u001b[0m     \u001b[0;31m# seed for srand in range [0..INT_MAX); due to limitations in Numpy\u001b[0m\u001b[0;34m\u001b[0m\u001b[0;34m\u001b[0m\u001b[0m\n",
      "\u001b[0;31mKeyboardInterrupt\u001b[0m: "
     ]
    }
   ],
   "source": [
    "model_results = []\n",
    "for predictor in word_predictors:  \n",
    "    y = le.fit_transform(budget_df[predictor])\n",
    "    print(predictor)\n",
    "for item in tfidf_list:\n",
    "    X = item\n",
    "for col in targets:\n",
    "    col = col\n",
    "    print()\n",
    "    results = nlp_pipe(X, y, col)\n",
    "    model_results.append(results)"
   ]
  },
  {
   "cell_type": "code",
   "execution_count": 40,
   "metadata": {},
   "outputs": [],
   "source": [
    "op_status = nlp_pipe(Text_1_tfidf, le.fit_transform(budget_df['Operating_Status']), 'Operating Status')"
   ]
  },
  {
   "cell_type": "code",
   "execution_count": null,
   "metadata": {},
   "outputs": [],
   "source": [
    "op_status"
   ]
  },
  {
   "cell_type": "markdown",
   "metadata": {},
   "source": [
    "## Model with combined sparse matrix"
   ]
  },
  {
   "cell_type": "code",
   "execution_count": null,
   "metadata": {},
   "outputs": [],
   "source": [
    "# le = LabelEncoder()\n",
    "# budget_df['Operating_status_num'] = le.fit_transform(budget_df['Operating_Status'])"
   ]
  },
  {
   "cell_type": "code",
   "execution_count": null,
   "metadata": {},
   "outputs": [],
   "source": [
    "X = budget_tfidf\n",
    "y = le.fit_transform(budget_df['Operating_Status'])\n",
    "X_train, X_val, y_train, y_val = train_test_split(X,y,random_state = 42)"
   ]
  },
  {
   "cell_type": "code",
   "execution_count": 21,
   "metadata": {},
   "outputs": [
    {
     "data": {
      "text/plain": [
       "0.98564657053299887"
      ]
     },
     "execution_count": 21,
     "metadata": {},
     "output_type": "execute_result"
    }
   ],
   "source": [
    "logreg.score(X_train,y_train)"
   ]
  },
  {
   "cell_type": "code",
   "execution_count": null,
   "metadata": {},
   "outputs": [],
   "source": [
    "logreg.score(X_test,y_test)"
   ]
  },
  {
   "cell_type": "code",
   "execution_count": 23,
   "metadata": {},
   "outputs": [],
   "source": [
    "y_predicted = logreg.predict(X_test)"
   ]
  },
  {
   "cell_type": "code",
   "execution_count": 24,
   "metadata": {},
   "outputs": [
    {
     "data": {
      "text/plain": [
       "array([2, 2, 2, 2, 2, 2, 2, 0, 2, 2, 2, 2, 2, 2, 2, 2, 2, 2, 0, 2, 2, 2, 2,\n",
       "       0, 2, 2, 2, 2, 2, 2, 2, 0, 2, 2, 2, 2, 0, 2, 0, 2, 2, 2, 2, 2, 2, 2,\n",
       "       2, 0, 2, 2])"
      ]
     },
     "execution_count": 24,
     "metadata": {},
     "output_type": "execute_result"
    }
   ],
   "source": [
    "y_predicted[:50]"
   ]
  },
  {
   "cell_type": "code",
   "execution_count": 25,
   "metadata": {
    "scrolled": true
   },
   "outputs": [
    {
     "data": {
      "text/plain": [
       "['Operating_Status__PreK-12 Operating',\n",
       " 'Operating_Status__Non-Operating',\n",
       " 'Operating_Status__Operating, Not PreK-12']"
      ]
     },
     "execution_count": 25,
     "metadata": {},
     "output_type": "execute_result"
    }
   ],
   "source": [
    "list(le.classes_)\n",
    "list(le.inverse_transform([2, 0, 1]))"
   ]
  },
  {
   "cell_type": "markdown",
   "metadata": {},
   "source": [
    "## Figure out how to combine model of categorical columns and numerical"
   ]
  },
  {
   "cell_type": "markdown",
   "metadata": {},
   "source": [
    "### running into memory issue for get_dummies for the 9 cat"
   ]
  },
  {
   "cell_type": "code",
   "execution_count": null,
   "metadata": {},
   "outputs": [],
   "source": [
    "pl = Pipeline([\n",
    "        ('union', FeatureUnion(\n",
    "            transformer_list = [\n",
    "                ('numeric_features', Pipeline([\n",
    "                    ('selector', get_numeric_data),\n",
    "                    ('imputer', Imputer())\n",
    "                ])),\n",
    "                ('text_features', Pipeline([\n",
    "                    ('selector', get_text_data),\n",
    "                    ('vectorizer', HashingVectorizer(token_pattern=TOKENS_ALPHANUMERIC,\n",
    "                                                     non_negative=True, norm=None, binary=False,\n",
    "                                                     ngram_range=(1, 2))),\n",
    "                    ('dim_red', SelectKBest(chi2, chi_k))\n",
    "                ]))\n",
    "             ]\n",
    "        )),\n",
    "        ('int', SparseInteractions(degree=2)),\n",
    "        ('scale', MaxAbsScaler()),\n",
    "        ('clf', OneVsRestClassifier(LogisticRegression()))\n",
    "    ])\n"
   ]
  }
 ],
 "metadata": {
  "kernelspec": {
   "display_name": "Python 3",
   "language": "python",
   "name": "python3"
  },
  "language_info": {
   "codemirror_mode": {
    "name": "ipython",
    "version": 3
   },
   "file_extension": ".py",
   "mimetype": "text/x-python",
   "name": "python",
   "nbconvert_exporter": "python",
   "pygments_lexer": "ipython3",
   "version": "3.6.2"
  }
 },
 "nbformat": 4,
 "nbformat_minor": 2
}
