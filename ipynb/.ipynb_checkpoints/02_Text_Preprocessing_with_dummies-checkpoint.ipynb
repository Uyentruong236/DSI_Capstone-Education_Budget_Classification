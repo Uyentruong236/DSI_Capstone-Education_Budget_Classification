{
 "cells": [
  {
   "cell_type": "code",
   "execution_count": 2,
   "metadata": {},
   "outputs": [],
   "source": [
    "%run ../__init__.py"
   ]
  },
  {
   "cell_type": "markdown",
   "metadata": {},
   "source": [
    "## Data preprocessing with Tfidf"
   ]
  },
  {
   "cell_type": "code",
   "execution_count": 3,
   "metadata": {},
   "outputs": [],
   "source": [
    "budget_df = pd.read_csv('../data/budget_df_cleaned1.csv', index_col=0)"
   ]
  },
  {
   "cell_type": "code",
   "execution_count": 4,
   "metadata": {},
   "outputs": [
    {
     "data": {
      "text/html": [
       "<div>\n",
       "<table border=\"1\" class=\"dataframe\">\n",
       "  <thead>\n",
       "    <tr style=\"text-align: right;\">\n",
       "      <th></th>\n",
       "      <th>Function</th>\n",
       "      <th>Use</th>\n",
       "      <th>Sharing</th>\n",
       "      <th>Reporting</th>\n",
       "      <th>Student_Type</th>\n",
       "      <th>Position_Type</th>\n",
       "      <th>Object_Type</th>\n",
       "      <th>Pre_K</th>\n",
       "      <th>Operating_Status</th>\n",
       "      <th>Object_Description</th>\n",
       "      <th>...</th>\n",
       "      <th>Location_Description</th>\n",
       "      <th>FTE</th>\n",
       "      <th>Function_Description</th>\n",
       "      <th>Facility_or_Department</th>\n",
       "      <th>Position_Extra</th>\n",
       "      <th>Total</th>\n",
       "      <th>Program_Description</th>\n",
       "      <th>Fund_Description</th>\n",
       "      <th>Text_1</th>\n",
       "      <th>combined_text</th>\n",
       "    </tr>\n",
       "  </thead>\n",
       "  <tbody>\n",
       "    <tr>\n",
       "      <th>0</th>\n",
       "      <td>Function__Teacher Compensation</td>\n",
       "      <td>Use__Instruction</td>\n",
       "      <td>Sharing__School Reported</td>\n",
       "      <td>Reporting__School</td>\n",
       "      <td>Student_Type__NO_LABEL</td>\n",
       "      <td>Position_Type__Teacher</td>\n",
       "      <td>Object_Type__NO_LABEL</td>\n",
       "      <td>Pre_K__NO_LABEL</td>\n",
       "      <td>Operating_Status__PreK-12 Operating</td>\n",
       "      <td></td>\n",
       "      <td>...</td>\n",
       "      <td></td>\n",
       "      <td>1.000000</td>\n",
       "      <td></td>\n",
       "      <td></td>\n",
       "      <td>kindergarten</td>\n",
       "      <td>50471.810</td>\n",
       "      <td>kindergarten</td>\n",
       "      <td>general fund</td>\n",
       "      <td></td>\n",
       "      <td>teacher elementary             kindergar...</td>\n",
       "    </tr>\n",
       "    <tr>\n",
       "      <th>1</th>\n",
       "      <td>Function__NO_LABEL</td>\n",
       "      <td>Use__NO_LABEL</td>\n",
       "      <td>Sharing__NO_LABEL</td>\n",
       "      <td>Reporting__NO_LABEL</td>\n",
       "      <td>Student_Type__NO_LABEL</td>\n",
       "      <td>Position_Type__NO_LABEL</td>\n",
       "      <td>Object_Type__NO_LABEL</td>\n",
       "      <td>Pre_K__NO_LABEL</td>\n",
       "      <td>Operating_Status__Non-Operating</td>\n",
       "      <td>contractor service</td>\n",
       "      <td>...</td>\n",
       "      <td></td>\n",
       "      <td>0.420663</td>\n",
       "      <td>rgn gob</td>\n",
       "      <td></td>\n",
       "      <td>undesignated</td>\n",
       "      <td>3477.860</td>\n",
       "      <td>building improvement service</td>\n",
       "      <td></td>\n",
       "      <td>building improvement service</td>\n",
       "      <td>contractor service bond expenditure building f...</td>\n",
       "    </tr>\n",
       "    <tr>\n",
       "      <th>2</th>\n",
       "      <td>Function__Teacher Compensation</td>\n",
       "      <td>Use__Instruction</td>\n",
       "      <td>Sharing__School Reported</td>\n",
       "      <td>Reporting__School</td>\n",
       "      <td>Student_Type__Unspecified</td>\n",
       "      <td>Position_Type__Teacher</td>\n",
       "      <td>Object_Type__Base Salary/Compensation</td>\n",
       "      <td>Pre_K__Non PreK</td>\n",
       "      <td>Operating_Status__PreK-12 Operating</td>\n",
       "      <td>personal service teacher</td>\n",
       "      <td>...</td>\n",
       "      <td></td>\n",
       "      <td>1.000000</td>\n",
       "      <td></td>\n",
       "      <td></td>\n",
       "      <td>teacher</td>\n",
       "      <td>62237.130</td>\n",
       "      <td>instruction regular</td>\n",
       "      <td>general purpose school</td>\n",
       "      <td></td>\n",
       "      <td>personal service teacher     tcher 2nd grade  ...</td>\n",
       "    </tr>\n",
       "    <tr>\n",
       "      <th>3</th>\n",
       "      <td>Function__Substitute Compensation</td>\n",
       "      <td>Use__Instruction</td>\n",
       "      <td>Sharing__School Reported</td>\n",
       "      <td>Reporting__School</td>\n",
       "      <td>Student_Type__Unspecified</td>\n",
       "      <td>Position_Type__Substitute</td>\n",
       "      <td>Object_Type__Benefits</td>\n",
       "      <td>Pre_K__NO_LABEL</td>\n",
       "      <td>Operating_Status__PreK-12 Operating</td>\n",
       "      <td>employee benefit</td>\n",
       "      <td>...</td>\n",
       "      <td></td>\n",
       "      <td>0.420663</td>\n",
       "      <td>unalloc budget school</td>\n",
       "      <td></td>\n",
       "      <td>professional instructional</td>\n",
       "      <td>22.300</td>\n",
       "      <td>general middle junior high sch</td>\n",
       "      <td></td>\n",
       "      <td>regular instruction</td>\n",
       "      <td>employee benefit teacher sub general fund teac...</td>\n",
       "    </tr>\n",
       "    <tr>\n",
       "      <th>4</th>\n",
       "      <td>Function__Substitute Compensation</td>\n",
       "      <td>Use__Instruction</td>\n",
       "      <td>Sharing__School Reported</td>\n",
       "      <td>Reporting__School</td>\n",
       "      <td>Student_Type__Unspecified</td>\n",
       "      <td>Position_Type__Teacher</td>\n",
       "      <td>Object_Type__Substitute Compensation</td>\n",
       "      <td>Pre_K__NO_LABEL</td>\n",
       "      <td>Operating_Status__PreK-12 Operating</td>\n",
       "      <td>teacher coverage teacher</td>\n",
       "      <td>...</td>\n",
       "      <td></td>\n",
       "      <td>0.420663</td>\n",
       "      <td>non project</td>\n",
       "      <td></td>\n",
       "      <td>professional instructional</td>\n",
       "      <td>54.166</td>\n",
       "      <td>general high school education</td>\n",
       "      <td></td>\n",
       "      <td>regular instruction</td>\n",
       "      <td>teacher coverage teacher teacher sub general f...</td>\n",
       "    </tr>\n",
       "  </tbody>\n",
       "</table>\n",
       "<p>5 rows × 26 columns</p>\n",
       "</div>"
      ],
      "text/plain": [
       "                            Function               Use  \\\n",
       "0     Function__Teacher Compensation  Use__Instruction   \n",
       "1                 Function__NO_LABEL     Use__NO_LABEL   \n",
       "2     Function__Teacher Compensation  Use__Instruction   \n",
       "3  Function__Substitute Compensation  Use__Instruction   \n",
       "4  Function__Substitute Compensation  Use__Instruction   \n",
       "\n",
       "                    Sharing            Reporting               Student_Type  \\\n",
       "0  Sharing__School Reported    Reporting__School     Student_Type__NO_LABEL   \n",
       "1         Sharing__NO_LABEL  Reporting__NO_LABEL     Student_Type__NO_LABEL   \n",
       "2  Sharing__School Reported    Reporting__School  Student_Type__Unspecified   \n",
       "3  Sharing__School Reported    Reporting__School  Student_Type__Unspecified   \n",
       "4  Sharing__School Reported    Reporting__School  Student_Type__Unspecified   \n",
       "\n",
       "               Position_Type                            Object_Type  \\\n",
       "0     Position_Type__Teacher                  Object_Type__NO_LABEL   \n",
       "1    Position_Type__NO_LABEL                  Object_Type__NO_LABEL   \n",
       "2     Position_Type__Teacher  Object_Type__Base Salary/Compensation   \n",
       "3  Position_Type__Substitute                  Object_Type__Benefits   \n",
       "4     Position_Type__Teacher   Object_Type__Substitute Compensation   \n",
       "\n",
       "             Pre_K                     Operating_Status  \\\n",
       "0  Pre_K__NO_LABEL  Operating_Status__PreK-12 Operating   \n",
       "1  Pre_K__NO_LABEL      Operating_Status__Non-Operating   \n",
       "2  Pre_K__Non PreK  Operating_Status__PreK-12 Operating   \n",
       "3  Pre_K__NO_LABEL  Operating_Status__PreK-12 Operating   \n",
       "4  Pre_K__NO_LABEL  Operating_Status__PreK-12 Operating   \n",
       "\n",
       "         Object_Description  \\\n",
       "0                             \n",
       "1        contractor service   \n",
       "2  personal service teacher   \n",
       "3          employee benefit   \n",
       "4  teacher coverage teacher   \n",
       "\n",
       "                         ...                         Location_Description  \\\n",
       "0                        ...                                                \n",
       "1                        ...                                                \n",
       "2                        ...                                                \n",
       "3                        ...                                                \n",
       "4                        ...                                                \n",
       "\n",
       "        FTE   Function_Description Facility_or_Department  \\\n",
       "0  1.000000                                                 \n",
       "1  0.420663                rgn gob                          \n",
       "2  1.000000                                                 \n",
       "3  0.420663  unalloc budget school                          \n",
       "4  0.420663            non project                          \n",
       "\n",
       "               Position_Extra      Total             Program_Description  \\\n",
       "0                kindergarten  50471.810                    kindergarten   \n",
       "1                undesignated   3477.860    building improvement service   \n",
       "2                     teacher  62237.130             instruction regular   \n",
       "3  professional instructional     22.300  general middle junior high sch   \n",
       "4  professional instructional     54.166   general high school education   \n",
       "\n",
       "         Fund_Description                        Text_1  \\\n",
       "0            general fund                                 \n",
       "1                          building improvement service   \n",
       "2  general purpose school                                 \n",
       "3                                   regular instruction   \n",
       "4                                   regular instruction   \n",
       "\n",
       "                                       combined_text  \n",
       "0        teacher elementary             kindergar...  \n",
       "1  contractor service bond expenditure building f...  \n",
       "2  personal service teacher     tcher 2nd grade  ...  \n",
       "3  employee benefit teacher sub general fund teac...  \n",
       "4  teacher coverage teacher teacher sub general f...  \n",
       "\n",
       "[5 rows x 26 columns]"
      ]
     },
     "execution_count": 4,
     "metadata": {},
     "output_type": "execute_result"
    }
   ],
   "source": [
    "budget_df.head()"
   ]
  },
  {
   "cell_type": "code",
   "execution_count": 5,
   "metadata": {},
   "outputs": [],
   "source": [
    "for col in budget_df[word_predictors]:\n",
    "    budget_df[col] = budget_df[word_predictors].loc[:,[col]].fillna(' ')"
   ]
  },
  {
   "cell_type": "code",
   "execution_count": 6,
   "metadata": {},
   "outputs": [],
   "source": [
    "for col in budget_df[targets]:\n",
    "    budget_df[col] = budget_df[col].astype(str)"
   ]
  },
  {
   "cell_type": "code",
   "execution_count": 5,
   "metadata": {},
   "outputs": [],
   "source": [
    "def create_tfidf(word_column):\n",
    "    tfidf = TfidfVectorizer(ngram_range=(1,2), token_pattern='(?u)\\\\b\\\\w\\\\w+\\\\b',min_df=100)\n",
    "    col_tfidf = tfidf.fit_transform(budget_df[word_column])\n",
    "    \n",
    "    return col_tfidf"
   ]
  },
  {
   "cell_type": "code",
   "execution_count": 6,
   "metadata": {},
   "outputs": [],
   "source": [
    "SubFund_Description_tfidf = create_tfidf('SubFund_Description')\n",
    "Job_Title_Description_tfidf = create_tfidf('Job_Title_Description')\n",
    "Text_3_tfidf = create_tfidf('Text_3')\n",
    "Text_4_tfidf= create_tfidf('Text_4')\n",
    "Sub_Object_Description_tfidf= create_tfidf('Sub_Object_Description')\n",
    "Location_Description_tfidf= create_tfidf('Location_Description')\n",
    "Function_Description_tfidf= create_tfidf('Function_Description')\n",
    "Facility_or_Department_tfidf= create_tfidf('Facility_or_Department')\n",
    "Position_Extra_tfidf= create_tfidf('Position_Extra')\n",
    "Program_Description_tfidf= create_tfidf('Program_Description')\n",
    "Fund_Description_tfidf= create_tfidf('Fund_Description')\n",
    "Text_1_tfidf= create_tfidf('Text_1')\n",
    "Text_2_tfidf= create_tfidf('Text_2')\n",
    "Object_Description = create_tfidf('Object_Description')"
   ]
  },
  {
   "cell_type": "code",
   "execution_count": 48,
   "metadata": {},
   "outputs": [],
   "source": [
    "combined_text_tfidf= create_tfidf('combined_text')"
   ]
  },
  {
   "cell_type": "code",
   "execution_count": 49,
   "metadata": {},
   "outputs": [
    {
     "data": {
      "text/plain": [
       "(400277, 5296)"
      ]
     },
     "execution_count": 49,
     "metadata": {},
     "output_type": "execute_result"
    }
   ],
   "source": [
    "combined_text_tfidf.get_shape()"
   ]
  },
  {
   "cell_type": "code",
   "execution_count": 11,
   "metadata": {},
   "outputs": [],
   "source": [
    "from scipy import sparse\n",
    "from scipy.sparse import hstack\n",
    "\n",
    "budget_tfidf = hstack([SubFund_Description_tfidf, Job_Title_Description_tfidf, Text_3_tfidf, Text_4_tfidf,\\\n",
    "                      Sub_Object_Description_tfidf, Location_Description_tfidf, Function_Description_tfidf,\\\n",
    "                       Facility_or_Department_tfidf, Position_Extra_tfidf, Program_Description_tfidf,\\\n",
    "                      Fund_Description_tfidf, Text_1_tfidf, Text_2_tfidf, Object_Description])"
   ]
  },
  {
   "cell_type": "code",
   "execution_count": 12,
   "metadata": {
    "scrolled": true
   },
   "outputs": [
    {
     "data": {
      "text/plain": [
       "(400277, 4717)"
      ]
     },
     "execution_count": 12,
     "metadata": {},
     "output_type": "execute_result"
    }
   ],
   "source": [
    "budget_tfidf.get_shape()"
   ]
  },
  {
   "cell_type": "code",
   "execution_count": 68,
   "metadata": {},
   "outputs": [
    {
     "data": {
      "text/plain": [
       "['Function',\n",
       " 'Use',\n",
       " 'Sharing',\n",
       " 'Reporting',\n",
       " 'Student_Type',\n",
       " 'Position_Type',\n",
       " 'Object_Type',\n",
       " 'Pre_K',\n",
       " 'Operating_Status']"
      ]
     },
     "execution_count": 68,
     "metadata": {},
     "output_type": "execute_result"
    }
   ],
   "source": [
    "targets"
   ]
  },
  {
   "cell_type": "markdown",
   "metadata": {},
   "source": [
    "## Model Prediction for Operating_status"
   ]
  },
  {
   "cell_type": "code",
   "execution_count": 13,
   "metadata": {},
   "outputs": [],
   "source": [
    "from sklearn.preprocessing import LabelEncoder"
   ]
  },
  {
   "cell_type": "code",
   "execution_count": 14,
   "metadata": {},
   "outputs": [],
   "source": [
    "le = LabelEncoder()\n",
    "budget_df['Operating_status_num'] = le.fit_transform(budget_df['Operating_Status'])"
   ]
  },
  {
   "cell_type": "code",
   "execution_count": 15,
   "metadata": {},
   "outputs": [],
   "source": [
    "from sklearn.linear_model import LogisticRegression\n",
    "from sklearn.model_selection import train_test_split"
   ]
  },
  {
   "cell_type": "code",
   "execution_count": 16,
   "metadata": {},
   "outputs": [],
   "source": [
    "logreg = LogisticRegression(random_state=42, multi_class='ovr')"
   ]
  },
  {
   "cell_type": "code",
   "execution_count": 19,
   "metadata": {},
   "outputs": [],
   "source": [
    "from tqdm import tqdm"
   ]
  },
  {
   "cell_type": "code",
   "execution_count": 18,
   "metadata": {},
   "outputs": [],
   "source": [
    "X = budget_tfidf\n",
    "y = budget_df['Operating_status_num']\n",
    "X_train, X_test, y_train, y_test = train_test_split(X,y,random_state = 42)"
   ]
  },
  {
   "cell_type": "code",
   "execution_count": 20,
   "metadata": {},
   "outputs": [
    {
     "name": "stderr",
     "output_type": "stream",
     "text": [
      "\r",
      "0it [00:00, ?it/s]"
     ]
    },
    {
     "data": {
      "text/plain": [
       "0it [00:00, ?it/s]"
      ]
     },
     "execution_count": 20,
     "metadata": {},
     "output_type": "execute_result"
    }
   ],
   "source": [
    "logreg.fit(X_train, y_train)"
   ]
  },
  {
   "cell_type": "code",
   "execution_count": 21,
   "metadata": {},
   "outputs": [
    {
     "data": {
      "text/plain": [
       "0.98564657053299887"
      ]
     },
     "execution_count": 21,
     "metadata": {},
     "output_type": "execute_result"
    }
   ],
   "source": [
    "logreg.score(X_train,y_train)"
   ]
  },
  {
   "cell_type": "code",
   "execution_count": null,
   "metadata": {},
   "outputs": [],
   "source": [
    "logreg.score(X_test,y_test)"
   ]
  },
  {
   "cell_type": "code",
   "execution_count": 23,
   "metadata": {},
   "outputs": [],
   "source": [
    "y_predicted = logreg.predict(X_test)"
   ]
  },
  {
   "cell_type": "code",
   "execution_count": 24,
   "metadata": {},
   "outputs": [
    {
     "data": {
      "text/plain": [
       "array([2, 2, 2, 2, 2, 2, 2, 0, 2, 2, 2, 2, 2, 2, 2, 2, 2, 2, 0, 2, 2, 2, 2,\n",
       "       0, 2, 2, 2, 2, 2, 2, 2, 0, 2, 2, 2, 2, 0, 2, 0, 2, 2, 2, 2, 2, 2, 2,\n",
       "       2, 0, 2, 2])"
      ]
     },
     "execution_count": 24,
     "metadata": {},
     "output_type": "execute_result"
    }
   ],
   "source": [
    "y_predicted[:50]"
   ]
  },
  {
   "cell_type": "code",
   "execution_count": 25,
   "metadata": {
    "scrolled": true
   },
   "outputs": [
    {
     "data": {
      "text/plain": [
       "['Operating_Status__PreK-12 Operating',\n",
       " 'Operating_Status__Non-Operating',\n",
       " 'Operating_Status__Operating, Not PreK-12']"
      ]
     },
     "execution_count": 25,
     "metadata": {},
     "output_type": "execute_result"
    }
   ],
   "source": [
    "list(le.classes_)\n",
    "list(le.inverse_transform([2, 0, 1]))"
   ]
  },
  {
   "cell_type": "markdown",
   "metadata": {},
   "source": [
    "## Try model for all categorical columns"
   ]
  },
  {
   "cell_type": "code",
   "execution_count": 29,
   "metadata": {},
   "outputs": [],
   "source": [
    "def target_model(target_col):\n",
    "    le = LabelEncoder()\n",
    "    \n",
    "    model = LogisticRegression(random_state=42, multi_class='ovr')\n",
    "    \n",
    "    X = budget_tfidf\n",
    "    y = le.fit_transform(budget_df[target_col])\n",
    "    X_train, X_test, y_train, y_test = train_test_split(X,y,random_state = 42)\n",
    "    \n",
    "    model.fit(X_train, y_train)\n",
    "    \n",
    "    return model "
   ]
  },
  {
   "cell_type": "code",
   "execution_count": null,
   "metadata": {},
   "outputs": [],
   "source": [
    "pl = Pipeline([\n",
    "        ('union', FeatureUnion(\n",
    "            transformer_list = [\n",
    "                ('numeric_features', Pipeline([\n",
    "                    ('selector', get_numeric_data),\n",
    "                    ('imputer', Imputer())\n",
    "                ])),\n",
    "                ('text_features', Pipeline([\n",
    "                    ('selector', get_text_data),\n",
    "                    ('vectorizer', HashingVectorizer(token_pattern=TOKENS_ALPHANUMERIC,\n",
    "                                                     non_negative=True, norm=None, binary=False,\n",
    "                                                     ngram_range=(1, 2))),\n",
    "                    ('dim_red', SelectKBest(chi2, chi_k))\n",
    "                ]))\n",
    "             ]\n",
    "        )),\n",
    "        ('int', SparseInteractions(degree=2)),\n",
    "        ('scale', MaxAbsScaler()),\n",
    "        ('clf', OneVsRestClassifier(LogisticRegression()))\n",
    "    ])\n"
   ]
  }
 ],
 "metadata": {
  "kernelspec": {
   "display_name": "Python 3",
   "language": "python",
   "name": "python3"
  },
  "language_info": {
   "codemirror_mode": {
    "name": "ipython",
    "version": 3
   },
   "file_extension": ".py",
   "mimetype": "text/x-python",
   "name": "python",
   "nbconvert_exporter": "python",
   "pygments_lexer": "ipython3",
   "version": "3.6.2"
  }
 },
 "nbformat": 4,
 "nbformat_minor": 2
}
