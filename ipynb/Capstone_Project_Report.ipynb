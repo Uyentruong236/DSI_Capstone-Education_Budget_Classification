{
 "cells": [
  {
   "cell_type": "markdown",
   "metadata": {},
   "source": [
    "# DSI Capstone Project\n",
    "## DrivenData: Box-Plots for Education\n",
    "\n",
    "Uyen Truong"
   ]
  },
  {
   "cell_type": "markdown",
   "metadata": {},
   "source": [
    "## Goal of the Competition:\n",
    "The task is a multi-class-multi-label classification problem with the goal of attaching labels to the freeform text in budget line items. Each row in the budget has mostly free-form text features, except for two that are noted as float. Any of the fields may or may not be empty.\n",
    "\n",
    "**Goal**: The goal is to predict a probability for each possible label in the dataset given a row of new data. Each of these probabilities goes in a separate column in the submission file. The submission must be 50064x104 where 50064 is the number of rows in the test dataset (excluding the header) and 104 is the number of columns (excluding a first column of row ids). The columns in the submission have the format : ColumnName__PossibleLabel\n",
    "\n",
    "**Features/Predictors**:\n",
    "\n",
    "- FTE (float) - If an employee, the percentage of full-time that the employee works.\n",
    "- Facility_or_Department - If expenditure is tied to a department/facility, that department/facility.\n",
    "- Function_Description - A description of the function the expenditure was serving.\n",
    "- Fund_Description - A description of the source of the funds.\n",
    "- Job_Title_Description - If this is an employee, a description of that employee's job title.\n",
    "- Location_Description - A description of where the funds were spent.\n",
    "- Object_Description - A description of what the funds were used for.\n",
    "- Position_Extra - Any extra information about the position that we have.\n",
    "- Program_Description - A description of the program that the funds were used for.\n",
    "- SubFund_Description - More detail on Fund_Description\n",
    "- Sub_Object_Description - More detail on Object_Description\n",
    "- Text_1 - Any additional text supplied by the district.\n",
    "- Text_2 - Any additional text supplied by the district.\n",
    "- Text_3 - Any additional text supplied by the district.\n",
    "- Text_4 - Any additional text supplied by the district.\n",
    "- Total (float) - The total cost of the expenditure.\n",
    "\n",
    "**Labels/Targets**\n",
    "\n",
    "\n",
    "**Function**\n",
    "Aides Compensation, Career & Academic Counseling, Communications, Curriculum Development, Data Processing & Information Services, Development & Fundraising, Enrichment, Extended Time & Tutoring, Facilities & Maintenance, Facilities Planning, Finance, Budget, Purchasing & Distribution, Food Services, Governance, Human Resources, Instructional Materials & Supplies, Insurance, Legal, Library & Media, NO_LABEL, Other Compensation, Other Non-Compensation, Parent & Community Relations, Physical Health & Services, Professional Development, Recruitment, Research & Accountability, School Administration, School Supervision, Security & Safety, Social & Emotional, Special Population Program Management & Support, Student Assignment, Student Transportation, Substitute Compensation, Teacher Compensation, Untracked Budget Set-Aside, Utilities\n",
    "\n",
    "**Object_Type:**\n",
    "Base Salary/Compensation,\n",
    "Benefits,\n",
    "Contracted Services,\n",
    "Equipment & Equipment Lease,\n",
    "NO_LABEL,\n",
    "Other Compensation/Stipend,\n",
    "Other Non-Compensation,\n",
    "Rent/Utilities,\n",
    "Substitute Compensation,\n",
    "Supplies/Materials,\n",
    "Travel & Conferences,\n",
    "\n",
    "**Operating_Status:**\n",
    "Non-Operating (If Non-Operating, all other labels must be NO LABEL),\n",
    "Operating, Not PreK-12,\n",
    "PreK-12 Operating,\n",
    "\n",
    "**Position_Type:**\n",
    "(Exec) Director,\n",
    "Area Officers,\n",
    "Club Advisor/Coach,\n",
    "Coordinator/Manager,\n",
    "Custodian,\n",
    "Guidance Counselor,\n",
    "Instructional Coach,\n",
    "Librarian,\n",
    "NO_LABEL,\n",
    "Non-Position,\n",
    "Nurse,\n",
    "Nurse Aide,\n",
    "Occupational Therapist,\n",
    "Other,\n",
    "Physical Therapist,\n",
    "Principal,\n",
    "Psychologist,\n",
    "School Monitor/Security,\n",
    "Sec/Clerk/Other Admin,\n",
    "Social Worker,\n",
    "Speech Therapist,\n",
    "Substitute,\n",
    "TA,\n",
    "Teacher,\n",
    "Vice Principal\n",
    "\n",
    "**Pre_K:**\n",
    "NO_LABEL,\n",
    "Non PreK,\n",
    "PreK,\n",
    "\n",
    "**Reporting:**\n",
    "NO_LABEL,\n",
    "Non-School,\n",
    "School,\n",
    "\n",
    "**Sharing:**\n",
    "Leadership & Management,\n",
    "NO_LABEL,\n",
    "School Reported,\n",
    "School on Central Budgets,\n",
    "Shared Services,\n",
    "\n",
    "**Student_Type:**\n",
    "Alternative,\n",
    "At Risk,\n",
    "ELL,\n",
    "Gifted,\n",
    "NO_LABEL,\n",
    "Poverty,\n",
    "PreK,\n",
    "Special Education,\n",
    "Unspecified,\n",
    "\n",
    "**Use:**\n",
    "Business Services,\n",
    "ISPD,\n",
    "Instruction,\n",
    "Leadership,\n",
    "NO_LABEL,\n",
    "O&M,\n",
    "Pupil Services & Enrichment,\n",
    "Untracked Budget Set-Aside"
   ]
  },
  {
   "cell_type": "markdown",
   "metadata": {},
   "source": [
    "## Part 1: EDA & Data Preprocessing "
   ]
  },
  {
   "cell_type": "code",
   "execution_count": 17,
   "metadata": {
    "collapsed": true
   },
   "outputs": [],
   "source": [
    "budget_train = pd.read_csv('../data/school_budget_train.csv')"
   ]
  },
  {
   "cell_type": "markdown",
   "metadata": {},
   "source": [
    "The training dataset consists of many null values. The graph below shows the percentage of missing values in each predictor column."
   ]
  },
  {
   "cell_type": "code",
   "execution_count": 29,
   "metadata": {
    "collapsed": true
   },
   "outputs": [],
   "source": [
    "% %matplotlib inline"
   ]
  },
  {
   "cell_type": "code",
   "execution_count": 31,
   "metadata": {},
   "outputs": [
    {
     "data": {
      "text/plain": [
       "<matplotlib.text.Text at 0x7ff8d6649d30>"
      ]
     },
     "execution_count": 31,
     "metadata": {},
     "output_type": "execute_result"
    },
    {
     "data": {
      "image/png": "[encoded data removed]",
      "text/plain": [
       "<matplotlib.figure.Figure at 0x7ff8d6b04d30>"
      ]
     },
     "metadata": {},
     "output_type": "display_data"
    }
   ],
   "source": [
    "_ = (budget_train[predictors].isnull().sum()/budget_train[predictors].shape[0]*100).plot(kind='barh')\n",
    "plt.xlabel('Percentage of missing values')"
   ]
  },
  {
   "cell_type": "markdown",
   "metadata": {},
   "source": [
    "**For non-numerical columns:**\n",
    "I decided to replace Null values in the columns with words with empty strings because this is a NLP classification problem, I thought that empty strings were the best replacements for nulls. In addition to null values, many columns also had \"n/a\" as values so I also replaced those with empty strings as well."
   ]
  },
  {
   "cell_type": "code",
   "execution_count": null,
   "metadata": {
    "collapsed": true
   },
   "outputs": [],
   "source": [
    "for col in budget_df[word_predictors]:\n",
    "    budget_df[col] = budget_df[word_predictors].loc[:,[col]].fillna(' ')\n",
    "    \n",
    "for col in budget_df[word_predictors]:\n",
    "    budget_df[col] = budget_df[col].replace({\"n/a\": ' '})"
   ]
  },
  {
   "cell_type": "markdown",
   "metadata": {},
   "source": [
    "**For numerical columns:**\n",
    "I decided to replace Null values in the 'Total' column with the mean since there weren't many missing values.\n",
    "\n",
    "For the 'FTE' column, almost 70% of the data were null values and some of the existing values were incorrect values since this column is only supposed to have values between 0-1. I found that there were more than 3000 values not in this range and was skewing the mean. Therefore, I used the np.clip function so that all values less than 0 becomes 0 and values greater than 1 becomes 1. After that, I filled in the missing values with the mean. "
   ]
  },
  {
   "cell_type": "code",
   "execution_count": null,
   "metadata": {
    "collapsed": true
   },
   "outputs": [],
   "source": [
    "budget_df['Total'] = budget_df.loc[:,['Total']].fillna(budget_df['Total'].mean())\n",
    "\n",
    "budget_df['FTE'] = np.clip(budget_df['FTE'],0,1)\n",
    "budget_df['FTE'] = budget_df.loc[:,['FTE']].fillna(budget_df['FTE'].mean())"
   ]
  },
  {
   "cell_type": "markdown",
   "metadata": {},
   "source": [
    "### EDA of target columns"
   ]
  },
  {
   "cell_type": "markdown",
   "metadata": {},
   "source": [
    "Since this is a multi-class classication problem, I wanted to look at the class balance for each label/target column."
   ]
  },
  {
   "cell_type": "code",
   "execution_count": 32,
   "metadata": {},
   "outputs": [
    {
     "data": {
      "image/png": "[encoded data removed]",
      "text/plain": [
       "<matplotlib.figure.Figure at 0x7ff8c83c3b00>"
      ]
     },
     "metadata": {},
     "output_type": "display_data"
    },
    {
     "data": {
      "image/png": "[encoded data removed]",
      "text/plain": [
       "<matplotlib.figure.Figure at 0x7ff8d66b23c8>"
      ]
     },
     "metadata": {},
     "output_type": "display_data"
    },
    {
     "data": {
      "image/png": "[encoded data removed]",
      "text/plain": [
       "<matplotlib.figure.Figure at 0x7ff8c84ad2e8>"
      ]
     },
     "metadata": {},
     "output_type": "display_data"
    },
    {
     "data": {
      "image/png": "[encoded data removed]",
      "text/plain": [
       "<matplotlib.figure.Figure at 0x7ff8d70a4be0>"
      ]
     },
     "metadata": {},
     "output_type": "display_data"
    },
    {
     "data": {
      "image/png": "[encoded data removed]",
      "text/plain": [
       "<matplotlib.figure.Figure at 0x7ff8c81fcfd0>"
      ]
     },
     "metadata": {},
     "output_type": "display_data"
    },
    {
     "data": {
      "image/png": "[encoded data removed]",
      "text/plain": [
       "<matplotlib.figure.Figure at 0x7ff8d6eb6c50>"
      ]
     },
     "metadata": {},
     "output_type": "display_data"
    },
    {
     "data": {
      "image/png": "[encoded data removed]",
      "text/plain": [
       "<matplotlib.figure.Figure at 0x7ff8d70cce48>"
      ]
     },
     "metadata": {},
     "output_type": "display_data"
    },
    {
     "data": {
      "image/png": "[encoded data removed]",
      "text/plain": [
       "<matplotlib.figure.Figure at 0x7ff8c67c0518>"
      ]
     },
     "metadata": {},
     "output_type": "display_data"
    },
    {
     "data": {
      "image/png": "[encoded data removed]",
      "text/plain": [
       "<matplotlib.figure.Figure at 0x7ff8c8342240>"
      ]
     },
     "metadata": {},
     "output_type": "display_data"
    }
   ],
   "source": [
    "def value_counts(col):\n",
    "    counts = budget_train[col].value_counts()\n",
    "    percent = budget_train[col].value_counts(normalize=True)\n",
    "    return pd.DataFrame({'percent': percent})\n",
    "\n",
    "for i, col in enumerate(budget_train[targets]):\n",
    "    col = value_counts(col)\n",
    "    col.plot(kind='bar', subplots=True)"
   ]
  },
  {
   "cell_type": "markdown",
   "metadata": {},
   "source": [
    "The target percentages/graphs show that there is high class inbalance within each of the label so accuracy scores would not be sufficient to measure model predictions. The competition uses log_loss score to evaluate models so that is what I will use for models."
   ]
  },
  {
   "cell_type": "markdown",
   "metadata": {},
   "source": [
    "### Text Cleaning"
   ]
  },
  {
   "cell_type": "markdown",
   "metadata": {},
   "source": [
    "Since this is treated as an NLP problem, some text cleaning were required before preprocessing the data for modeling. "
   ]
  },
  {
   "cell_type": "code",
   "execution_count": null,
   "metadata": {
    "collapsed": true
   },
   "outputs": [],
   "source": [
    "# turns all capitalized leter to lower\n",
    "for col in budget_df[word_predictors]:\n",
    "    budget_df[col] = budget_df[col].str.lower()\n",
    "    \n",
    "# use regex to remove any non alphanumeric characters and extra spaces\n",
    "def cleaner(text):\n",
    "    text = re.sub('[^a-zA-Z0-9]',' ',text)\n",
    "    text = re.sub(\"\\\\s+\", \" \", text)\n",
    "    text = ' '.join(i.lemma_ for i in nlp(text)\n",
    "                    if i.orth_ not in STOP_WORDS)\n",
    "    return text\n",
    "#apply function to all the word predictor columns\n",
    "\n",
    "for col in budget_df[word_predictors]:\n",
    "    budget_df[col] = budget_df[col].apply(cleaner)"
   ]
  },
  {
   "cell_type": "markdown",
   "metadata": {},
   "source": [
    "## Part 2: Create Baseline Model Pipeline"
   ]
  },
  {
   "cell_type": "code",
   "execution_count": 2,
   "metadata": {
    "collapsed": true
   },
   "outputs": [],
   "source": [
    "%run ../__init__.py"
   ]
  },
  {
   "cell_type": "markdown",
   "metadata": {},
   "source": [
    "To create a model pipeline, I used feature union to combine 14 text columns with TfiDIF Vectorizor with ngrams of (1,2) and min_df of 10. I built 9 model pipelines, one for each label and treated each target problem as its own multi-class classification problem.\n",
    "\n",
    "WhenI ran the model with all features including the numeric columns, the accuracy scores decreased and the log_loss increased. Therefore, I decided to not include numeric columns in the final model."
   ]
  },
  {
   "cell_type": "code",
   "execution_count": 6,
   "metadata": {
    "collapsed": true
   },
   "outputs": [],
   "source": [
    "class ItemSelector(BaseEstimator, TransformerMixin):\n",
    "    \"\"\"For data grouped by feature, select subset of data at a provided key.\n",
    "\n",
    "    The data is expected to be stored in a 2D data structure, where the first\n",
    "    index is over features and the second is over samples.  i.e.\n",
    "\n",
    "    >> len(data[key]) == n_samples\n",
    "\n",
    "    ItemSelector only requires that the collection implement getitem\n",
    "    (data[key]).  Examples include: a dict of lists, 2D numpy array, Pandas\n",
    "    DataFrame, numpy record array, etc.\n",
    "\n",
    "    >> data = {'a': [1, 5, 2, 5, 2, 8],\n",
    "               'b': [9, 4, 1, 4, 1, 3]}\n",
    "    >> ds = ItemSelector(key='a')\n",
    "    >> data['a'] == ds.transform(data)\n",
    "\n",
    "    Parameters\n",
    "     ----------\n",
    "    key : hashable, required\n",
    "        The key corresponding to the desired value in a mappable.\n",
    "    \"\"\"\n",
    "    def __init__(self, key):\n",
    "        self.key = key\n",
    "\n",
    "    def fit(self, x, y=None):\n",
    "        return self\n",
    "\n",
    "    def transform(self, data_dict):\n",
    "        return data_dict[self.key]\n",
    "\n",
    "# feature union transformer list \n",
    "\n",
    "transformer_list = [\n",
    "    ('Object_Description', Pipeline([\n",
    "                ('selector', ItemSelector(key='Object_Description')),\n",
    "                ('tfidf', TfidfVectorizer(ngram_range=(1,2), token_pattern='(?u)\\\\b\\\\w\\\\w+\\\\b',min_df=10)),\n",
    "            ])),\n",
    "    ('Text_2', Pipeline([\n",
    "                ('selector', ItemSelector(key='Text_2')),\n",
    "                ('tfidf', TfidfVectorizer(ngram_range=(1,2), token_pattern='(?u)\\\\b\\\\w\\\\w+\\\\b',min_df=10)),\n",
    "            ])),\n",
    "    ('SubFund_Description', Pipeline([\n",
    "                ('selector', ItemSelector(key='SubFund_Description')),\n",
    "                ('tfidf', TfidfVectorizer(ngram_range=(1,2), token_pattern='(?u)\\\\b\\\\w\\\\w+\\\\b',min_df=10)),\n",
    "            ])),\n",
    "    ('Job_Title_Description', Pipeline([\n",
    "                ('selector', ItemSelector(key='Job_Title_Description')),\n",
    "                ('tfidf', TfidfVectorizer(ngram_range=(1,2), token_pattern='(?u)\\\\b\\\\w\\\\w+\\\\b',min_df=10)),\n",
    "            ])),\n",
    "    ('Text_3', Pipeline([\n",
    "                ('selector', ItemSelector(key='Text_3')),\n",
    "                ('tfidf', TfidfVectorizer(ngram_range=(1,2), token_pattern='(?u)\\\\b\\\\w\\\\w+\\\\b',min_df=10)),\n",
    "            ])),\n",
    "    ('Text_4', Pipeline([\n",
    "                ('selector', ItemSelector(key='Text_4')),\n",
    "                ('tfidf', TfidfVectorizer(ngram_range=(1,2), token_pattern='(?u)\\\\b\\\\w\\\\w+\\\\b',min_df=10)),\n",
    "            ])),\n",
    "    ('Sub_Object_Description', Pipeline([\n",
    "                ('selector', ItemSelector(key='Sub_Object_Description')),\n",
    "                ('tfidf', TfidfVectorizer(ngram_range=(1,2), token_pattern='(?u)\\\\b\\\\w\\\\w+\\\\b',min_df=10)),\n",
    "            ])),\n",
    "    ('Location_Description', Pipeline([\n",
    "                ('selector', ItemSelector(key='Location_Description')),\n",
    "                ('tfidf', TfidfVectorizer(ngram_range=(1,2), token_pattern='(?u)\\\\b\\\\w\\\\w+\\\\b',min_df=10)),\n",
    "            ])),\n",
    "    ('Function_Description', Pipeline([\n",
    "                ('selector', ItemSelector(key='Function_Description')),\n",
    "                ('tfidf', TfidfVectorizer(ngram_range=(1,2), token_pattern='(?u)\\\\b\\\\w\\\\w+\\\\b',min_df=10)),\n",
    "            ])),\n",
    "    ('Facility_or_Department', Pipeline([\n",
    "                ('selector', ItemSelector(key='Facility_or_Department')),\n",
    "                ('tfidf', TfidfVectorizer(ngram_range=(1,2), token_pattern='(?u)\\\\b\\\\w\\\\w+\\\\b',min_df=10)),\n",
    "            ])),\n",
    "    ('Position_Extra', Pipeline([\n",
    "                ('selector', ItemSelector(key='Position_Extra')),\n",
    "                ('tfidf', TfidfVectorizer(ngram_range=(1,2), token_pattern='(?u)\\\\b\\\\w\\\\w+\\\\b',min_df=10)),\n",
    "            ])),\n",
    "    ('Program_Description', Pipeline([\n",
    "                ('selector', ItemSelector(key='Program_Description')),\n",
    "                ('tfidf', TfidfVectorizer(ngram_range=(1,2), token_pattern='(?u)\\\\b\\\\w\\\\w+\\\\b',min_df=10)),\n",
    "            ])),\n",
    "    ('Fund_Description', Pipeline([\n",
    "                ('selector', ItemSelector(key='Fund_Description')),\n",
    "                ('tfidf', TfidfVectorizer(ngram_range=(1,2), token_pattern='(?u)\\\\b\\\\w\\\\w+\\\\b',min_df=10)),\n",
    "            ])),\n",
    "    ('Text_1', Pipeline([\n",
    "                ('selector', ItemSelector(key='Text_1')),\n",
    "                ('tfidf', TfidfVectorizer(ngram_range=(1,2), token_pattern='(?u)\\\\b\\\\w\\\\w+\\\\b',min_df=10)),\n",
    "            ]))\n",
    "]"
   ]
  },
  {
   "cell_type": "code",
   "execution_count": null,
   "metadata": {
    "collapsed": true
   },
   "outputs": [],
   "source": [
    "def nlp_pipe(target_name,X, y):\n",
    "     \n",
    "    X_train, X_val, y_train, y_val = train_test_split(X, \n",
    "                                                    y, \n",
    "                                                    test_size=.2, \n",
    "                                                    random_state=42)\n",
    "        \n",
    "    pipeline = Pipeline([\n",
    "    (\"union\", FeatureUnion(transformer_list=transformer_list)),\n",
    "    (\"clf\", LogisticRegression())])\n",
    "\n",
    "    \n",
    "    model = pipeline.fit(X_train, y_train)\n",
    "  \n",
    "    val_proba = model.predict_proba(X_val)\n",
    "    \n",
    "    log_loss_score = log_loss(y_val, val_proba)\n",
    "    \n",
    "    results = {'target': target_name,\n",
    "               'train_score': model.score(X_train, y_train),\n",
    "               'val_score': model.score(X_val, y_val),\n",
    "              'log_loss': log_loss_score}\n",
    "    \n",
    "    return model, results"
   ]
  },
  {
   "cell_type": "code",
   "execution_count": null,
   "metadata": {
    "collapsed": true
   },
   "outputs": [],
   "source": [
    "# for loop to run multiple models at once\n",
    "model_results = []\n",
    "for target in budget_train[targets]:\n",
    "    X = budget_train[word_predictors] \n",
    "    y = label.fit_transform(budget_train[target])\n",
    "    results = nlp_pipe(target,X, y)\n",
    "    print(target)\n",
    "    model_results.append(results)"
   ]
  },
  {
   "cell_type": "markdown",
   "metadata": {},
   "source": [
    "Using pipeline that included FeatureUnion and Logistic Regression, I found the baseline scores for all models below: "
   ]
  },
  {
   "cell_type": "code",
   "execution_count": 3,
   "metadata": {
    "scrolled": true
   },
   "outputs": [
    {
     "data": {
      "text/html": [
       "<div>\n",
       "<table border=\"1\" class=\"dataframe\">\n",
       "  <thead>\n",
       "    <tr style=\"text-align: right;\">\n",
       "      <th></th>\n",
       "      <th>log_loss</th>\n",
       "      <th>target</th>\n",
       "      <th>train_score</th>\n",
       "      <th>val_score</th>\n",
       "    </tr>\n",
       "  </thead>\n",
       "  <tbody>\n",
       "    <tr>\n",
       "      <th>0</th>\n",
       "      <td>0.162338</td>\n",
       "      <td>Function</td>\n",
       "      <td>0.959334</td>\n",
       "      <td>0.955106</td>\n",
       "    </tr>\n",
       "    <tr>\n",
       "      <th>1</th>\n",
       "      <td>0.122412</td>\n",
       "      <td>Use</td>\n",
       "      <td>0.967894</td>\n",
       "      <td>0.965187</td>\n",
       "    </tr>\n",
       "    <tr>\n",
       "      <th>2</th>\n",
       "      <td>0.098230</td>\n",
       "      <td>Sharing</td>\n",
       "      <td>0.972385</td>\n",
       "      <td>0.971095</td>\n",
       "    </tr>\n",
       "    <tr>\n",
       "      <th>3</th>\n",
       "      <td>0.064400</td>\n",
       "      <td>Reporting</td>\n",
       "      <td>0.981047</td>\n",
       "      <td>0.980301</td>\n",
       "    </tr>\n",
       "    <tr>\n",
       "      <th>4</th>\n",
       "      <td>0.079315</td>\n",
       "      <td>Student_Type</td>\n",
       "      <td>0.977956</td>\n",
       "      <td>0.975405</td>\n",
       "    </tr>\n",
       "    <tr>\n",
       "      <th>5</th>\n",
       "      <td>0.070038</td>\n",
       "      <td>Position_Type</td>\n",
       "      <td>0.983090</td>\n",
       "      <td>0.981138</td>\n",
       "    </tr>\n",
       "    <tr>\n",
       "      <th>6</th>\n",
       "      <td>0.055530</td>\n",
       "      <td>Object_Type</td>\n",
       "      <td>0.985635</td>\n",
       "      <td>0.983949</td>\n",
       "    </tr>\n",
       "    <tr>\n",
       "      <th>7</th>\n",
       "      <td>0.032124</td>\n",
       "      <td>Pre_K</td>\n",
       "      <td>0.989944</td>\n",
       "      <td>0.989183</td>\n",
       "    </tr>\n",
       "    <tr>\n",
       "      <th>8</th>\n",
       "      <td>0.047490</td>\n",
       "      <td>Operating_Status</td>\n",
       "      <td>0.985282</td>\n",
       "      <td>0.984461</td>\n",
       "    </tr>\n",
       "  </tbody>\n",
       "</table>\n",
       "</div>"
      ],
      "text/plain": [
       "   log_loss            target  train_score  val_score\n",
       "0  0.162338          Function     0.959334   0.955106\n",
       "1  0.122412               Use     0.967894   0.965187\n",
       "2  0.098230           Sharing     0.972385   0.971095\n",
       "3  0.064400         Reporting     0.981047   0.980301\n",
       "4  0.079315      Student_Type     0.977956   0.975405\n",
       "5  0.070038     Position_Type     0.983090   0.981138\n",
       "6  0.055530       Object_Type     0.985635   0.983949\n",
       "7  0.032124             Pre_K     0.989944   0.989183\n",
       "8  0.047490  Operating_Status     0.985282   0.984461"
      ]
     },
     "execution_count": 3,
     "metadata": {},
     "output_type": "execute_result"
    }
   ],
   "source": [
    "pd.read_pickle('../ipynb/baseline_results.pkl')"
   ]
  },
  {
   "cell_type": "code",
   "execution_count": 14,
   "metadata": {
    "scrolled": true
   },
   "outputs": [
    {
     "data": {
      "text/html": [
       "<div>\n",
       "<table border=\"1\" class=\"dataframe\">\n",
       "  <thead>\n",
       "    <tr style=\"text-align: right;\">\n",
       "      <th></th>\n",
       "      <th>Unnamed: 0</th>\n",
       "      <th>Function__Aides Compensation</th>\n",
       "      <th>Function__Career &amp; Academic Counseling</th>\n",
       "      <th>Function__Communications</th>\n",
       "      <th>Function__Curriculum Development</th>\n",
       "      <th>Function__Data Processing &amp; Information Services</th>\n",
       "      <th>Function__Development &amp; Fundraising</th>\n",
       "      <th>Function__Enrichment</th>\n",
       "      <th>Function__Extended Time &amp; Tutoring</th>\n",
       "      <th>Function__Facilities &amp; Maintenance</th>\n",
       "      <th>...</th>\n",
       "      <th>Student_Type__Special Education</th>\n",
       "      <th>Student_Type__Unspecified</th>\n",
       "      <th>Use__Business Services</th>\n",
       "      <th>Use__ISPD</th>\n",
       "      <th>Use__Instruction</th>\n",
       "      <th>Use__Leadership</th>\n",
       "      <th>Use__NO_LABEL</th>\n",
       "      <th>Use__O&amp;M</th>\n",
       "      <th>Use__Pupil Services &amp; Enrichment</th>\n",
       "      <th>Use__Untracked Budget Set-Aside</th>\n",
       "    </tr>\n",
       "  </thead>\n",
       "  <tbody>\n",
       "    <tr>\n",
       "      <th>0</th>\n",
       "      <td>180042</td>\n",
       "      <td>0.003283</td>\n",
       "      <td>0.000518</td>\n",
       "      <td>0.000011</td>\n",
       "      <td>0.000254</td>\n",
       "      <td>0.000604</td>\n",
       "      <td>0.000052</td>\n",
       "      <td>0.003436</td>\n",
       "      <td>0.000141</td>\n",
       "      <td>0.006110</td>\n",
       "      <td>...</td>\n",
       "      <td>0.001721</td>\n",
       "      <td>0.924427</td>\n",
       "      <td>0.000143</td>\n",
       "      <td>0.000068</td>\n",
       "      <td>6.153240e-02</td>\n",
       "      <td>0.001846</td>\n",
       "      <td>0.008714</td>\n",
       "      <td>0.926854</td>\n",
       "      <td>0.000552</td>\n",
       "      <td>0.000291</td>\n",
       "    </tr>\n",
       "    <tr>\n",
       "      <th>1</th>\n",
       "      <td>28872</td>\n",
       "      <td>0.000119</td>\n",
       "      <td>0.001974</td>\n",
       "      <td>0.000316</td>\n",
       "      <td>0.002526</td>\n",
       "      <td>0.009157</td>\n",
       "      <td>0.000286</td>\n",
       "      <td>0.372243</td>\n",
       "      <td>0.000882</td>\n",
       "      <td>0.098478</td>\n",
       "      <td>...</td>\n",
       "      <td>0.000734</td>\n",
       "      <td>0.965758</td>\n",
       "      <td>0.013244</td>\n",
       "      <td>0.002784</td>\n",
       "      <td>8.000000e-07</td>\n",
       "      <td>0.019666</td>\n",
       "      <td>0.002323</td>\n",
       "      <td>0.004965</td>\n",
       "      <td>0.956896</td>\n",
       "      <td>0.000120</td>\n",
       "    </tr>\n",
       "    <tr>\n",
       "      <th>2</th>\n",
       "      <td>186915</td>\n",
       "      <td>0.057924</td>\n",
       "      <td>0.002755</td>\n",
       "      <td>0.000063</td>\n",
       "      <td>0.002482</td>\n",
       "      <td>0.002392</td>\n",
       "      <td>0.000102</td>\n",
       "      <td>0.001242</td>\n",
       "      <td>0.000675</td>\n",
       "      <td>0.013308</td>\n",
       "      <td>...</td>\n",
       "      <td>0.002389</td>\n",
       "      <td>0.933597</td>\n",
       "      <td>0.000191</td>\n",
       "      <td>0.001015</td>\n",
       "      <td>6.463573e-01</td>\n",
       "      <td>0.099765</td>\n",
       "      <td>0.005735</td>\n",
       "      <td>0.224456</td>\n",
       "      <td>0.022409</td>\n",
       "      <td>0.000072</td>\n",
       "    </tr>\n",
       "    <tr>\n",
       "      <th>3</th>\n",
       "      <td>412396</td>\n",
       "      <td>0.058561</td>\n",
       "      <td>0.002759</td>\n",
       "      <td>0.000063</td>\n",
       "      <td>0.002485</td>\n",
       "      <td>0.002395</td>\n",
       "      <td>0.000102</td>\n",
       "      <td>0.001243</td>\n",
       "      <td>0.000674</td>\n",
       "      <td>0.013332</td>\n",
       "      <td>...</td>\n",
       "      <td>0.002398</td>\n",
       "      <td>0.933965</td>\n",
       "      <td>0.000190</td>\n",
       "      <td>0.001015</td>\n",
       "      <td>6.502231e-01</td>\n",
       "      <td>0.097776</td>\n",
       "      <td>0.005651</td>\n",
       "      <td>0.223204</td>\n",
       "      <td>0.021870</td>\n",
       "      <td>0.000071</td>\n",
       "    </tr>\n",
       "    <tr>\n",
       "      <th>4</th>\n",
       "      <td>427740</td>\n",
       "      <td>0.000459</td>\n",
       "      <td>0.015215</td>\n",
       "      <td>0.000142</td>\n",
       "      <td>0.000264</td>\n",
       "      <td>0.003094</td>\n",
       "      <td>0.000145</td>\n",
       "      <td>0.023989</td>\n",
       "      <td>0.000053</td>\n",
       "      <td>0.018626</td>\n",
       "      <td>...</td>\n",
       "      <td>0.000846</td>\n",
       "      <td>0.993008</td>\n",
       "      <td>0.015002</td>\n",
       "      <td>0.002917</td>\n",
       "      <td>8.300000e-06</td>\n",
       "      <td>0.848026</td>\n",
       "      <td>0.000187</td>\n",
       "      <td>0.087558</td>\n",
       "      <td>0.046257</td>\n",
       "      <td>0.000046</td>\n",
       "    </tr>\n",
       "  </tbody>\n",
       "</table>\n",
       "<p>5 rows × 105 columns</p>\n",
       "</div>"
      ],
      "text/plain": [
       "   Unnamed: 0  Function__Aides Compensation  \\\n",
       "0      180042                      0.003283   \n",
       "1       28872                      0.000119   \n",
       "2      186915                      0.057924   \n",
       "3      412396                      0.058561   \n",
       "4      427740                      0.000459   \n",
       "\n",
       "   Function__Career & Academic Counseling  Function__Communications  \\\n",
       "0                                0.000518                  0.000011   \n",
       "1                                0.001974                  0.000316   \n",
       "2                                0.002755                  0.000063   \n",
       "3                                0.002759                  0.000063   \n",
       "4                                0.015215                  0.000142   \n",
       "\n",
       "   Function__Curriculum Development  \\\n",
       "0                          0.000254   \n",
       "1                          0.002526   \n",
       "2                          0.002482   \n",
       "3                          0.002485   \n",
       "4                          0.000264   \n",
       "\n",
       "   Function__Data Processing & Information Services  \\\n",
       "0                                          0.000604   \n",
       "1                                          0.009157   \n",
       "2                                          0.002392   \n",
       "3                                          0.002395   \n",
       "4                                          0.003094   \n",
       "\n",
       "   Function__Development & Fundraising  Function__Enrichment  \\\n",
       "0                             0.000052              0.003436   \n",
       "1                             0.000286              0.372243   \n",
       "2                             0.000102              0.001242   \n",
       "3                             0.000102              0.001243   \n",
       "4                             0.000145              0.023989   \n",
       "\n",
       "   Function__Extended Time & Tutoring  Function__Facilities & Maintenance  \\\n",
       "0                            0.000141                            0.006110   \n",
       "1                            0.000882                            0.098478   \n",
       "2                            0.000675                            0.013308   \n",
       "3                            0.000674                            0.013332   \n",
       "4                            0.000053                            0.018626   \n",
       "\n",
       "                ...                 Student_Type__Special Education  \\\n",
       "0               ...                                        0.001721   \n",
       "1               ...                                        0.000734   \n",
       "2               ...                                        0.002389   \n",
       "3               ...                                        0.002398   \n",
       "4               ...                                        0.000846   \n",
       "\n",
       "   Student_Type__Unspecified  Use__Business Services  Use__ISPD  \\\n",
       "0                   0.924427                0.000143   0.000068   \n",
       "1                   0.965758                0.013244   0.002784   \n",
       "2                   0.933597                0.000191   0.001015   \n",
       "3                   0.933965                0.000190   0.001015   \n",
       "4                   0.993008                0.015002   0.002917   \n",
       "\n",
       "   Use__Instruction  Use__Leadership  Use__NO_LABEL  Use__O&M  \\\n",
       "0      6.153240e-02         0.001846       0.008714  0.926854   \n",
       "1      8.000000e-07         0.019666       0.002323  0.004965   \n",
       "2      6.463573e-01         0.099765       0.005735  0.224456   \n",
       "3      6.502231e-01         0.097776       0.005651  0.223204   \n",
       "4      8.300000e-06         0.848026       0.000187  0.087558   \n",
       "\n",
       "   Use__Pupil Services & Enrichment  Use__Untracked Budget Set-Aside  \n",
       "0                          0.000552                         0.000291  \n",
       "1                          0.956896                         0.000120  \n",
       "2                          0.022409                         0.000072  \n",
       "3                          0.021870                         0.000071  \n",
       "4                          0.046257                         0.000046  \n",
       "\n",
       "[5 rows x 105 columns]"
      ]
     },
     "execution_count": 14,
     "metadata": {},
     "output_type": "execute_result"
    }
   ],
   "source": [
    "# submission sample:\n",
    "initial_submission = pd.read_csv('../data/initial_submission.csv')\n",
    "\n",
    "initial_submission.head(5)"
   ]
  },
  {
   "cell_type": "markdown",
   "metadata": {},
   "source": [
    "## Part 3: Model Tuning/Stacking/Boosting Methods to improve log loss scores"
   ]
  },
  {
   "cell_type": "markdown",
   "metadata": {},
   "source": [
    "### Gridsearch to tune C\n",
    "After finding the baseline scores, I did a gridsearch for best C values and found that C=10.0 decreased the log_scores slightly for each label.  However, when I combined the predict_proba for a second submission, **the total log_loss score went up to 1.0779** and I'm not sure why this is the case. "
   ]
  },
  {
   "cell_type": "code",
   "execution_count": 9,
   "metadata": {
    "scrolled": true
   },
   "outputs": [
    {
     "data": {
      "text/html": [
       "<div>\n",
       "<table border=\"1\" class=\"dataframe\">\n",
       "  <thead>\n",
       "    <tr style=\"text-align: right;\">\n",
       "      <th></th>\n",
       "      <th>log_loss</th>\n",
       "      <th>target</th>\n",
       "      <th>train_score</th>\n",
       "      <th>val_score</th>\n",
       "    </tr>\n",
       "  </thead>\n",
       "  <tbody>\n",
       "    <tr>\n",
       "      <th>0</th>\n",
       "      <td>0.136228</td>\n",
       "      <td>Function</td>\n",
       "      <td>0.965305</td>\n",
       "      <td>0.959566</td>\n",
       "    </tr>\n",
       "    <tr>\n",
       "      <th>1</th>\n",
       "      <td>0.106920</td>\n",
       "      <td>Use</td>\n",
       "      <td>0.972104</td>\n",
       "      <td>0.968122</td>\n",
       "    </tr>\n",
       "    <tr>\n",
       "      <th>2</th>\n",
       "      <td>0.086858</td>\n",
       "      <td>Sharing</td>\n",
       "      <td>0.976001</td>\n",
       "      <td>0.974243</td>\n",
       "    </tr>\n",
       "    <tr>\n",
       "      <th>3</th>\n",
       "      <td>0.058025</td>\n",
       "      <td>Reporting</td>\n",
       "      <td>0.982924</td>\n",
       "      <td>0.981838</td>\n",
       "    </tr>\n",
       "    <tr>\n",
       "      <th>4</th>\n",
       "      <td>0.069994</td>\n",
       "      <td>Student_Type</td>\n",
       "      <td>0.980107</td>\n",
       "      <td>0.977191</td>\n",
       "    </tr>\n",
       "    <tr>\n",
       "      <th>5</th>\n",
       "      <td>0.056051</td>\n",
       "      <td>Position_Type</td>\n",
       "      <td>0.986003</td>\n",
       "      <td>0.983274</td>\n",
       "    </tr>\n",
       "    <tr>\n",
       "      <th>6</th>\n",
       "      <td>0.047173</td>\n",
       "      <td>Object_Type</td>\n",
       "      <td>0.987262</td>\n",
       "      <td>0.985123</td>\n",
       "    </tr>\n",
       "    <tr>\n",
       "      <th>7</th>\n",
       "      <td>0.029622</td>\n",
       "      <td>Pre_K</td>\n",
       "      <td>0.990685</td>\n",
       "      <td>0.989695</td>\n",
       "    </tr>\n",
       "    <tr>\n",
       "      <th>8</th>\n",
       "      <td>0.044087</td>\n",
       "      <td>Operating_Status</td>\n",
       "      <td>0.986309</td>\n",
       "      <td>0.985098</td>\n",
       "    </tr>\n",
       "  </tbody>\n",
       "</table>\n",
       "</div>"
      ],
      "text/plain": [
       "   log_loss            target  train_score  val_score\n",
       "0  0.136228          Function     0.965305   0.959566\n",
       "1  0.106920               Use     0.972104   0.968122\n",
       "2  0.086858           Sharing     0.976001   0.974243\n",
       "3  0.058025         Reporting     0.982924   0.981838\n",
       "4  0.069994      Student_Type     0.980107   0.977191\n",
       "5  0.056051     Position_Type     0.986003   0.983274\n",
       "6  0.047173       Object_Type     0.987262   0.985123\n",
       "7  0.029622             Pre_K     0.990685   0.989695\n",
       "8  0.044087  Operating_Status     0.986309   0.985098"
      ]
     },
     "execution_count": 9,
     "metadata": {},
     "output_type": "execute_result"
    }
   ],
   "source": [
    "pd.read_pickle('../ipynb/models/lrc_results.pkl')"
   ]
  },
  {
   "cell_type": "markdown",
   "metadata": {},
   "source": [
    "### XGB-Boosting\n",
    "Since the baseline model and the model with C=10 already produced pretty decent scores, I decided to do some extreme boosting methods to see if I could improve the scores even more. The pipelines for XGB-boost were built with the same method as above."
   ]
  },
  {
   "cell_type": "code",
   "execution_count": null,
   "metadata": {
    "collapsed": true
   },
   "outputs": [],
   "source": [
    "def xgb_pipe(target_name,X, y):\n",
    "     \n",
    "    X_train, X_val, y_train, y_val = train_test_split(X, \n",
    "                                                    y, \n",
    "                                                    test_size=.2, \n",
    "                                                    random_state=42)\n",
    "        \n",
    "    pipeline = Pipeline([\n",
    "    (\"union\", FeatureUnion(transformer_list=transformer_list)),\n",
    "    (\"clf\", xgb.XGBClassifier())])\n",
    "\n",
    "    \n",
    "    model = pipeline.fit(X_train, y_train)\n",
    "   \n",
    "    val_proba = model.predict_proba(X_val)\n",
    "    \n",
    "    log_loss_score = log_loss(y_val, val_proba)\n",
    "    \n",
    "    results = {'target': target_name,\n",
    "               'train_score': model.score(X_train, y_train),\n",
    "               'val_score': model.score(X_val, y_val),\n",
    "              'log_loss': log_loss_score}\n",
    "    \n",
    "    return model, results"
   ]
  },
  {
   "cell_type": "markdown",
   "metadata": {},
   "source": [
    "Surprisingly, XGB-boost increased the log_scores for all models. This is an area that I want to explore further to better understand why boosting method did not improve overall scores."
   ]
  },
  {
   "cell_type": "code",
   "execution_count": 8,
   "metadata": {},
   "outputs": [
    {
     "data": {
      "text/html": [
       "<div>\n",
       "<table border=\"1\" class=\"dataframe\">\n",
       "  <thead>\n",
       "    <tr style=\"text-align: right;\">\n",
       "      <th></th>\n",
       "      <th>log_loss</th>\n",
       "      <th>target</th>\n",
       "      <th>train_score</th>\n",
       "      <th>val_score</th>\n",
       "    </tr>\n",
       "  </thead>\n",
       "  <tbody>\n",
       "    <tr>\n",
       "      <th>0</th>\n",
       "      <td>0.340313</td>\n",
       "      <td>Function</td>\n",
       "      <td>0.928665</td>\n",
       "      <td>0.925640</td>\n",
       "    </tr>\n",
       "    <tr>\n",
       "      <th>1</th>\n",
       "      <td>0.390550</td>\n",
       "      <td>Use</td>\n",
       "      <td>0.898817</td>\n",
       "      <td>0.895748</td>\n",
       "    </tr>\n",
       "    <tr>\n",
       "      <th>2</th>\n",
       "      <td>0.325791</td>\n",
       "      <td>Sharing</td>\n",
       "      <td>0.912535</td>\n",
       "      <td>0.912224</td>\n",
       "    </tr>\n",
       "    <tr>\n",
       "      <th>3</th>\n",
       "      <td>0.230643</td>\n",
       "      <td>Reporting</td>\n",
       "      <td>0.943914</td>\n",
       "      <td>0.943352</td>\n",
       "    </tr>\n",
       "    <tr>\n",
       "      <th>4</th>\n",
       "      <td>0.236016</td>\n",
       "      <td>Student_Type</td>\n",
       "      <td>0.944935</td>\n",
       "      <td>0.943227</td>\n",
       "    </tr>\n",
       "    <tr>\n",
       "      <th>5</th>\n",
       "      <td>0.186560</td>\n",
       "      <td>Position_Type</td>\n",
       "      <td>0.959731</td>\n",
       "      <td>0.957805</td>\n",
       "    </tr>\n",
       "    <tr>\n",
       "      <th>6</th>\n",
       "      <td>0.193116</td>\n",
       "      <td>Object_Type</td>\n",
       "      <td>0.965212</td>\n",
       "      <td>0.963788</td>\n",
       "    </tr>\n",
       "    <tr>\n",
       "      <th>7</th>\n",
       "      <td>0.071374</td>\n",
       "      <td>Pre_K</td>\n",
       "      <td>0.982490</td>\n",
       "      <td>0.981750</td>\n",
       "    </tr>\n",
       "    <tr>\n",
       "      <th>8</th>\n",
       "      <td>0.100120</td>\n",
       "      <td>Operating_Status</td>\n",
       "      <td>0.972606</td>\n",
       "      <td>0.972095</td>\n",
       "    </tr>\n",
       "  </tbody>\n",
       "</table>\n",
       "</div>"
      ],
      "text/plain": [
       "   log_loss            target  train_score  val_score\n",
       "0  0.340313          Function     0.928665   0.925640\n",
       "1  0.390550               Use     0.898817   0.895748\n",
       "2  0.325791           Sharing     0.912535   0.912224\n",
       "3  0.230643         Reporting     0.943914   0.943352\n",
       "4  0.236016      Student_Type     0.944935   0.943227\n",
       "5  0.186560     Position_Type     0.959731   0.957805\n",
       "6  0.193116       Object_Type     0.965212   0.963788\n",
       "7  0.071374             Pre_K     0.982490   0.981750\n",
       "8  0.100120  Operating_Status     0.972606   0.972095"
      ]
     },
     "execution_count": 8,
     "metadata": {},
     "output_type": "execute_result"
    }
   ],
   "source": [
    "pd.read_pickle('../ipynb/models/xgb_results.pkl')"
   ]
  },
  {
   "cell_type": "markdown",
   "metadata": {},
   "source": [
    "## Blended Models"
   ]
  },
  {
   "cell_type": "markdown",
   "metadata": {},
   "source": [
    "After running a few tests with other ensemble methods (RandomForest, Adaboost), I found that the two logistic regression models still produced the lowest log loss scores. Therefore, I decided to try to blend the results through a RandomForest model. As a result of the blended models, the log_loss scores decreased for all columns."
   ]
  },
  {
   "cell_type": "markdown",
   "metadata": {},
   "source": [
    "**I couldn't build this blended model as a function due to limited computing power/memory space so I ran each model individually in separate Jupyter notebooks**.\n",
    "Below is an example of the codes on how I built the blended models for one label."
   ]
  },
  {
   "cell_type": "code",
   "execution_count": null,
   "metadata": {
    "collapsed": true
   },
   "outputs": [],
   "source": [
    "#Example of blended model for Operating Status\n",
    "label = LabelEncoder()\n",
    "X_test = budget_test\n",
    "\n",
    "#create sub data sets for blendedmodels\n",
    "X_train = budget_train[word_predictors] \n",
    "y_train = label.fit_transform(budget_train['Operating_Status'])\n",
    "X_sub_1, X_sub_2, y_sub_1, y_sub_2 = train_test_split(X_train,y_train, test_size = .5, random_state = 42)\n",
    "X_test = budget_test\n",
    "\n",
    "#first layer models\n",
    "lr_pipe_1 = Pipeline([\n",
    "    (\"union\", FeatureUnion(transformer_list=transformer_list)),\n",
    "    (\"clf\", LogisticRegression())])\n",
    "\n",
    "lr_pipe_2 = Pipeline([\n",
    "    (\"union\", FeatureUnion(transformer_list=transformer_list)),\n",
    "    (\"clf\", LogisticRegression(C=10))])\n",
    "\n",
    "#fit models on first subset \n",
    "lr_pipe_1.fit(X_sub_1,y_sub_1)\n",
    "lr_pipe_2.fit(X_sub_1,y_sub_1)\n",
    "   \n",
    "#predict proba on second subset of data and blend the results together \n",
    "lr1_train_predict = lr_pipe_1.predict_proba(X_sub_2)\n",
    "lr2_train_predict = lr_pipe_2.predict_proba(X_sub_2)\n",
    "blended = np.concatenate([lr1_train_predict, lr2_train_predict], axis=1)\n",
    "\n",
    "\n",
    "# get predict_proba test_set and combine results together \n",
    "lr1_test_predict = lr_pipe_1.predict_proba(X_test)\n",
    "lr2_test_predict = lr_pipe_2.predict_proba(X_test)\n",
    "test_combine_pred = np.concatenate([lr1_test_predict, lr2_test_predict], axis=1)\n",
    "\n",
    "#fit blended predict_probas and y_sub_2 in blender model\n",
    "blender = RandomForestClassifier()\n",
    "blender.fit(blended, y_sub_2)\n",
    "\n",
    "# get predict proba of the blended result from blender model\n",
    "train_prediction = blender.predict_proba(blended)\n",
    "\n",
    "log_loss_score = log_loss(y_sub_2, train_prediction)\n",
    "\n",
    "# get predict_proba of blended test set from blender model\n",
    "test_blended_proba = blender.predict_proba(test_combine_pred)"
   ]
  },
  {
   "cell_type": "markdown",
   "metadata": {},
   "source": [
    "**Below is the log_loss scores of the blended models**"
   ]
  },
  {
   "cell_type": "code",
   "execution_count": 15,
   "metadata": {},
   "outputs": [
    {
     "data": {
      "text/html": [
       "<div>\n",
       "<table border=\"1\" class=\"dataframe\">\n",
       "  <thead>\n",
       "    <tr style=\"text-align: right;\">\n",
       "      <th></th>\n",
       "      <th>log_loss</th>\n",
       "      <th>target</th>\n",
       "    </tr>\n",
       "  </thead>\n",
       "  <tbody>\n",
       "    <tr>\n",
       "      <th>0</th>\n",
       "      <td>0.023484</td>\n",
       "      <td>Operating_Status</td>\n",
       "    </tr>\n",
       "    <tr>\n",
       "      <th>1</th>\n",
       "      <td>0.013780</td>\n",
       "      <td>Pre_K</td>\n",
       "    </tr>\n",
       "    <tr>\n",
       "      <th>2</th>\n",
       "      <td>0.039473</td>\n",
       "      <td>Use</td>\n",
       "    </tr>\n",
       "    <tr>\n",
       "      <th>3</th>\n",
       "      <td>0.035260</td>\n",
       "      <td>Sharing</td>\n",
       "    </tr>\n",
       "    <tr>\n",
       "      <th>4</th>\n",
       "      <td>0.030682</td>\n",
       "      <td>Reporting</td>\n",
       "    </tr>\n",
       "    <tr>\n",
       "      <th>5</th>\n",
       "      <td>0.063606</td>\n",
       "      <td>Function</td>\n",
       "    </tr>\n",
       "    <tr>\n",
       "      <th>6</th>\n",
       "      <td>0.032353</td>\n",
       "      <td>Student_Type</td>\n",
       "    </tr>\n",
       "    <tr>\n",
       "      <th>7</th>\n",
       "      <td>0.022934</td>\n",
       "      <td>Object_Type</td>\n",
       "    </tr>\n",
       "    <tr>\n",
       "      <th>8</th>\n",
       "      <td>0.021866</td>\n",
       "      <td>Position_Type</td>\n",
       "    </tr>\n",
       "  </tbody>\n",
       "</table>\n",
       "</div>"
      ],
      "text/plain": [
       "   log_loss            target\n",
       "0  0.023484  Operating_Status\n",
       "1  0.013780             Pre_K\n",
       "2  0.039473               Use\n",
       "3  0.035260           Sharing\n",
       "4  0.030682         Reporting\n",
       "5  0.063606          Function\n",
       "6  0.032353      Student_Type\n",
       "7  0.022934       Object_Type\n",
       "8  0.021866     Position_Type"
      ]
     },
     "execution_count": 15,
     "metadata": {},
     "output_type": "execute_result"
    }
   ],
   "source": [
    "pd.read_pickle('../ipynb/blended_scores.pkl')"
   ]
  },
  {
   "cell_type": "markdown",
   "metadata": {},
   "source": [
    "## Further Explorations"
   ]
  },
  {
   "cell_type": "markdown",
   "metadata": {},
   "source": [
    "While my validation sets show lower log_loss scores with the blended models, when I tried the same method for the test_set for submission to the competition, the total log_loss scores went up. I need the further explore why the blended models are not performing as well on the test set. Some initial thoughts of why this happened is that my model could be overfitting with Randomforest so a few thoughts for next steps:\n",
    "-  try a simpler model for the blender to avoid over-fitting\n",
    "-  try to diversify base models (instead of two logistic regression)\n",
    "-  try a wider range of C values of the two base logistic regression models\n",
    "- try sklearn multi-layer perceptron"
   ]
  }
 ],
 "metadata": {
  "kernelspec": {
   "display_name": "Python 3",
   "language": "python",
   "name": "python3"
  },
  "language_info": {
   "codemirror_mode": {
    "name": "ipython",
    "version": 3
   },
   "file_extension": ".py",
   "mimetype": "text/x-python",
   "name": "python",
   "nbconvert_exporter": "python",
   "pygments_lexer": "ipython3",
   "version": "3.6.1"
  }
 },
 "nbformat": 4,
 "nbformat_minor": 2
}
