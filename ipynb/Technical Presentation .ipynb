{
 "cells": [
  {
   "cell_type": "markdown",
   "metadata": {},
   "source": [
    "# DrivenData: Box-Plots for Education\n",
    "\n",
    "Uyen Truong"
   ]
  },
  {
   "cell_type": "markdown",
   "metadata": {},
   "source": [
    "## Goal of the Competition:\n",
    "\"Budgets for schools and school districts are huge, complex, and unwieldy. It's no easy task to digest where and how schools are using their resources. Education Resource Strategies is a non-profit that tackles just this task with the goal of letting districts be smarter, more strategic, and more effective in their spending.\n",
    "\n",
    "The task is a multi-class-multi-label classification problem with the goal of attaching canonical labels to the freeform text in budget line items. These labels let ERS understand how schools are spending money and tailor their strategy recommendations to improve outcomes for students, teachers, and administrators.\""
   ]
  },
  {
   "cell_type": "markdown",
   "metadata": {},
   "source": [
    "## Part 1: EDA & Data Preprocessing "
   ]
  },
  {
   "cell_type": "markdown",
   "metadata": {},
   "source": [
    "The training dataset consists of 1In original data, there was a lot of null values for FTE and even with values that were in training data, it was filled incorrectly. For example, values for for FTE column should be between 0-1 yet there were over 3000 values greater than 0."
   ]
  },
  {
   "cell_type": "markdown",
   "metadata": {},
   "source": [
    "Null values: \n",
    "\n",
    "![](../ipynb/null_value.png)"
   ]
  },
  {
   "cell_type": "code",
   "execution_count": null,
   "metadata": {},
   "outputs": [],
   "source": [
    "../ipynb/label_per.png"
   ]
  },
  {
   "cell_type": "markdown",
   "metadata": {},
   "source": [
    "target percentage shows high class inbalance \n",
    "![](../ipynb/label_per.png)"
   ]
  },
  {
   "cell_type": "markdown",
   "metadata": {},
   "source": [
    "## Part 2: Create Baseline Model Pipeline"
   ]
  },
  {
   "cell_type": "code",
   "execution_count": 2,
   "metadata": {},
   "outputs": [],
   "source": [
    "%run ../__init__.py"
   ]
  },
  {
   "cell_type": "markdown",
   "metadata": {},
   "source": [
    "Used feature union with TfiDIF Vectorizor with ngrams of (1,2)  dropped the numeric columns as it decreased the training scores (even after scaling). In original data, there was a lot of null values for FTE and even with values that were in training data, it was filled incorrectly. For example, values for for FTE column should be between 0-1 yet there were over 3000 values greater than 0.\n",
    "\n",
    "Built 9 model pipelines, one for each label and treated each target problem as its own multi-class classification problem.  \n",
    " dropped the numeric columns as it decreased the training scores (even after scaling). \n",
    " \n",
    "When ran the model ran with all features including the numeric columns, scores were lower so I decided to not include numeric columns in model prediction. In the original data, the numerical columns contained a lot of was a lot of null values, particularly in the FTE column. Many of the values in the data were also incorrect values. For example, values for FTE column should be between 0-1 yet there were over 3000 values greater than 1.\n"
   ]
  },
  {
   "cell_type": "code",
   "execution_count": null,
   "metadata": {},
   "outputs": [],
   "source": []
  },
  {
   "cell_type": "code",
   "execution_count": 3,
   "metadata": {},
   "outputs": [
    {
     "data": {
      "text/html": [
       "<div>\n",
       "<table border=\"1\" class=\"dataframe\">\n",
       "  <thead>\n",
       "    <tr style=\"text-align: right;\">\n",
       "      <th></th>\n",
       "      <th>log_loss</th>\n",
       "      <th>target</th>\n",
       "      <th>train_score</th>\n",
       "      <th>val_score</th>\n",
       "    </tr>\n",
       "  </thead>\n",
       "  <tbody>\n",
       "    <tr>\n",
       "      <th>0</th>\n",
       "      <td>0.162338</td>\n",
       "      <td>Function</td>\n",
       "      <td>0.959334</td>\n",
       "      <td>0.955106</td>\n",
       "    </tr>\n",
       "    <tr>\n",
       "      <th>1</th>\n",
       "      <td>0.122412</td>\n",
       "      <td>Use</td>\n",
       "      <td>0.967894</td>\n",
       "      <td>0.965187</td>\n",
       "    </tr>\n",
       "    <tr>\n",
       "      <th>2</th>\n",
       "      <td>0.098230</td>\n",
       "      <td>Sharing</td>\n",
       "      <td>0.972385</td>\n",
       "      <td>0.971095</td>\n",
       "    </tr>\n",
       "    <tr>\n",
       "      <th>3</th>\n",
       "      <td>0.064400</td>\n",
       "      <td>Reporting</td>\n",
       "      <td>0.981047</td>\n",
       "      <td>0.980301</td>\n",
       "    </tr>\n",
       "    <tr>\n",
       "      <th>4</th>\n",
       "      <td>0.079315</td>\n",
       "      <td>Student_Type</td>\n",
       "      <td>0.977956</td>\n",
       "      <td>0.975405</td>\n",
       "    </tr>\n",
       "    <tr>\n",
       "      <th>5</th>\n",
       "      <td>0.070038</td>\n",
       "      <td>Position_Type</td>\n",
       "      <td>0.983090</td>\n",
       "      <td>0.981138</td>\n",
       "    </tr>\n",
       "    <tr>\n",
       "      <th>6</th>\n",
       "      <td>0.055530</td>\n",
       "      <td>Object_Type</td>\n",
       "      <td>0.985635</td>\n",
       "      <td>0.983949</td>\n",
       "    </tr>\n",
       "    <tr>\n",
       "      <th>7</th>\n",
       "      <td>0.032124</td>\n",
       "      <td>Pre_K</td>\n",
       "      <td>0.989944</td>\n",
       "      <td>0.989183</td>\n",
       "    </tr>\n",
       "    <tr>\n",
       "      <th>8</th>\n",
       "      <td>0.047490</td>\n",
       "      <td>Operating_Status</td>\n",
       "      <td>0.985282</td>\n",
       "      <td>0.984461</td>\n",
       "    </tr>\n",
       "  </tbody>\n",
       "</table>\n",
       "</div>"
      ],
      "text/plain": [
       "   log_loss            target  train_score  val_score\n",
       "0  0.162338          Function     0.959334   0.955106\n",
       "1  0.122412               Use     0.967894   0.965187\n",
       "2  0.098230           Sharing     0.972385   0.971095\n",
       "3  0.064400         Reporting     0.981047   0.980301\n",
       "4  0.079315      Student_Type     0.977956   0.975405\n",
       "5  0.070038     Position_Type     0.983090   0.981138\n",
       "6  0.055530       Object_Type     0.985635   0.983949\n",
       "7  0.032124             Pre_K     0.989944   0.989183\n",
       "8  0.047490  Operating_Status     0.985282   0.984461"
      ]
     },
     "execution_count": 3,
     "metadata": {},
     "output_type": "execute_result"
    }
   ],
   "source": [
    "pd.read_pickle('../ipynb/baseline_results.pkl')"
   ]
  },
  {
   "cell_type": "markdown",
   "metadata": {},
   "source": [
    "## Part 3: Model Tuning/Stacking/Boosting Methods to improve log loss scores"
   ]
  },
  {
   "cell_type": "markdown",
   "metadata": {},
   "source": [
    "Adjusted the C value using gridsearch and founnd that alpha of 10.0 decrease score slightly "
   ]
  }
 ],
 "metadata": {
  "kernelspec": {
   "display_name": "Python 3",
   "language": "python",
   "name": "python3"
  },
  "language_info": {
   "codemirror_mode": {
    "name": "ipython",
    "version": 3
   },
   "file_extension": ".py",
   "mimetype": "text/x-python",
   "name": "python",
   "nbconvert_exporter": "python",
   "pygments_lexer": "ipython3",
   "version": "3.6.2"
  }
 },
 "nbformat": 4,
 "nbformat_minor": 2
}
