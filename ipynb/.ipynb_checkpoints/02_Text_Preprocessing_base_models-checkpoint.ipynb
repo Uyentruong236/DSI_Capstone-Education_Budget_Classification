{
 "cells": [
  {
   "cell_type": "code",
   "execution_count": 1,
   "metadata": {},
   "outputs": [],
   "source": [
    "%run ../__init__.py"
   ]
  },
  {
   "cell_type": "markdown",
   "metadata": {},
   "source": [
    "## Data preprocessing with Tfidf"
   ]
  },
  {
   "cell_type": "code",
   "execution_count": 2,
   "metadata": {},
   "outputs": [],
   "source": [
    "budget_df = pd.read_csv('../data/budget_df_cleaned1.csv', index_col=0)"
   ]
  },
  {
   "cell_type": "code",
   "execution_count": 18,
   "metadata": {},
   "outputs": [
    {
     "data": {
      "text/html": [
       "<div>\n",
       "<table border=\"1\" class=\"dataframe\">\n",
       "  <thead>\n",
       "    <tr style=\"text-align: right;\">\n",
       "      <th></th>\n",
       "      <th>Function</th>\n",
       "      <th>Use</th>\n",
       "      <th>Sharing</th>\n",
       "      <th>Reporting</th>\n",
       "      <th>Student_Type</th>\n",
       "      <th>Position_Type</th>\n",
       "      <th>Object_Type</th>\n",
       "      <th>Pre_K</th>\n",
       "      <th>Operating_Status</th>\n",
       "      <th>Object_Description</th>\n",
       "      <th>...</th>\n",
       "      <th>Location_Description</th>\n",
       "      <th>FTE</th>\n",
       "      <th>Function_Description</th>\n",
       "      <th>Facility_or_Department</th>\n",
       "      <th>Position_Extra</th>\n",
       "      <th>Total</th>\n",
       "      <th>Program_Description</th>\n",
       "      <th>Fund_Description</th>\n",
       "      <th>Text_1</th>\n",
       "      <th>combined_text</th>\n",
       "    </tr>\n",
       "  </thead>\n",
       "  <tbody>\n",
       "    <tr>\n",
       "      <th>0</th>\n",
       "      <td>Function__Teacher Compensation</td>\n",
       "      <td>Use__Instruction</td>\n",
       "      <td>Sharing__School Reported</td>\n",
       "      <td>Reporting__School</td>\n",
       "      <td>Student_Type__NO_LABEL</td>\n",
       "      <td>Position_Type__Teacher</td>\n",
       "      <td>Object_Type__NO_LABEL</td>\n",
       "      <td>Pre_K__NO_LABEL</td>\n",
       "      <td>Operating_Status__PreK-12 Operating</td>\n",
       "      <td></td>\n",
       "      <td>...</td>\n",
       "      <td></td>\n",
       "      <td>1.000000</td>\n",
       "      <td></td>\n",
       "      <td></td>\n",
       "      <td>kindergarten</td>\n",
       "      <td>50471.810</td>\n",
       "      <td>kindergarten</td>\n",
       "      <td>general fund</td>\n",
       "      <td></td>\n",
       "      <td>teacher elementary             kindergar...</td>\n",
       "    </tr>\n",
       "    <tr>\n",
       "      <th>1</th>\n",
       "      <td>Function__NO_LABEL</td>\n",
       "      <td>Use__NO_LABEL</td>\n",
       "      <td>Sharing__NO_LABEL</td>\n",
       "      <td>Reporting__NO_LABEL</td>\n",
       "      <td>Student_Type__NO_LABEL</td>\n",
       "      <td>Position_Type__NO_LABEL</td>\n",
       "      <td>Object_Type__NO_LABEL</td>\n",
       "      <td>Pre_K__NO_LABEL</td>\n",
       "      <td>Operating_Status__Non-Operating</td>\n",
       "      <td>contractor service</td>\n",
       "      <td>...</td>\n",
       "      <td></td>\n",
       "      <td>0.420663</td>\n",
       "      <td>rgn gob</td>\n",
       "      <td></td>\n",
       "      <td>undesignated</td>\n",
       "      <td>3477.860</td>\n",
       "      <td>building improvement service</td>\n",
       "      <td></td>\n",
       "      <td>building improvement service</td>\n",
       "      <td>contractor service bond expenditure building f...</td>\n",
       "    </tr>\n",
       "    <tr>\n",
       "      <th>2</th>\n",
       "      <td>Function__Teacher Compensation</td>\n",
       "      <td>Use__Instruction</td>\n",
       "      <td>Sharing__School Reported</td>\n",
       "      <td>Reporting__School</td>\n",
       "      <td>Student_Type__Unspecified</td>\n",
       "      <td>Position_Type__Teacher</td>\n",
       "      <td>Object_Type__Base Salary/Compensation</td>\n",
       "      <td>Pre_K__Non PreK</td>\n",
       "      <td>Operating_Status__PreK-12 Operating</td>\n",
       "      <td>personal service teacher</td>\n",
       "      <td>...</td>\n",
       "      <td></td>\n",
       "      <td>1.000000</td>\n",
       "      <td></td>\n",
       "      <td></td>\n",
       "      <td>teacher</td>\n",
       "      <td>62237.130</td>\n",
       "      <td>instruction regular</td>\n",
       "      <td>general purpose school</td>\n",
       "      <td></td>\n",
       "      <td>personal service teacher     tcher 2nd grade  ...</td>\n",
       "    </tr>\n",
       "    <tr>\n",
       "      <th>3</th>\n",
       "      <td>Function__Substitute Compensation</td>\n",
       "      <td>Use__Instruction</td>\n",
       "      <td>Sharing__School Reported</td>\n",
       "      <td>Reporting__School</td>\n",
       "      <td>Student_Type__Unspecified</td>\n",
       "      <td>Position_Type__Substitute</td>\n",
       "      <td>Object_Type__Benefits</td>\n",
       "      <td>Pre_K__NO_LABEL</td>\n",
       "      <td>Operating_Status__PreK-12 Operating</td>\n",
       "      <td>employee benefit</td>\n",
       "      <td>...</td>\n",
       "      <td></td>\n",
       "      <td>0.420663</td>\n",
       "      <td>unalloc budget school</td>\n",
       "      <td></td>\n",
       "      <td>professional instructional</td>\n",
       "      <td>22.300</td>\n",
       "      <td>general middle junior high sch</td>\n",
       "      <td></td>\n",
       "      <td>regular instruction</td>\n",
       "      <td>employee benefit teacher sub general fund teac...</td>\n",
       "    </tr>\n",
       "    <tr>\n",
       "      <th>4</th>\n",
       "      <td>Function__Substitute Compensation</td>\n",
       "      <td>Use__Instruction</td>\n",
       "      <td>Sharing__School Reported</td>\n",
       "      <td>Reporting__School</td>\n",
       "      <td>Student_Type__Unspecified</td>\n",
       "      <td>Position_Type__Teacher</td>\n",
       "      <td>Object_Type__Substitute Compensation</td>\n",
       "      <td>Pre_K__NO_LABEL</td>\n",
       "      <td>Operating_Status__PreK-12 Operating</td>\n",
       "      <td>teacher coverage teacher</td>\n",
       "      <td>...</td>\n",
       "      <td></td>\n",
       "      <td>0.420663</td>\n",
       "      <td>non project</td>\n",
       "      <td></td>\n",
       "      <td>professional instructional</td>\n",
       "      <td>54.166</td>\n",
       "      <td>general high school education</td>\n",
       "      <td></td>\n",
       "      <td>regular instruction</td>\n",
       "      <td>teacher coverage teacher teacher sub general f...</td>\n",
       "    </tr>\n",
       "  </tbody>\n",
       "</table>\n",
       "<p>5 rows × 26 columns</p>\n",
       "</div>"
      ],
      "text/plain": [
       "                            Function               Use  \\\n",
       "0     Function__Teacher Compensation  Use__Instruction   \n",
       "1                 Function__NO_LABEL     Use__NO_LABEL   \n",
       "2     Function__Teacher Compensation  Use__Instruction   \n",
       "3  Function__Substitute Compensation  Use__Instruction   \n",
       "4  Function__Substitute Compensation  Use__Instruction   \n",
       "\n",
       "                    Sharing            Reporting               Student_Type  \\\n",
       "0  Sharing__School Reported    Reporting__School     Student_Type__NO_LABEL   \n",
       "1         Sharing__NO_LABEL  Reporting__NO_LABEL     Student_Type__NO_LABEL   \n",
       "2  Sharing__School Reported    Reporting__School  Student_Type__Unspecified   \n",
       "3  Sharing__School Reported    Reporting__School  Student_Type__Unspecified   \n",
       "4  Sharing__School Reported    Reporting__School  Student_Type__Unspecified   \n",
       "\n",
       "               Position_Type                            Object_Type  \\\n",
       "0     Position_Type__Teacher                  Object_Type__NO_LABEL   \n",
       "1    Position_Type__NO_LABEL                  Object_Type__NO_LABEL   \n",
       "2     Position_Type__Teacher  Object_Type__Base Salary/Compensation   \n",
       "3  Position_Type__Substitute                  Object_Type__Benefits   \n",
       "4     Position_Type__Teacher   Object_Type__Substitute Compensation   \n",
       "\n",
       "             Pre_K                     Operating_Status  \\\n",
       "0  Pre_K__NO_LABEL  Operating_Status__PreK-12 Operating   \n",
       "1  Pre_K__NO_LABEL      Operating_Status__Non-Operating   \n",
       "2  Pre_K__Non PreK  Operating_Status__PreK-12 Operating   \n",
       "3  Pre_K__NO_LABEL  Operating_Status__PreK-12 Operating   \n",
       "4  Pre_K__NO_LABEL  Operating_Status__PreK-12 Operating   \n",
       "\n",
       "         Object_Description  \\\n",
       "0                             \n",
       "1        contractor service   \n",
       "2  personal service teacher   \n",
       "3          employee benefit   \n",
       "4  teacher coverage teacher   \n",
       "\n",
       "                         ...                         Location_Description  \\\n",
       "0                        ...                                                \n",
       "1                        ...                                                \n",
       "2                        ...                                                \n",
       "3                        ...                                                \n",
       "4                        ...                                                \n",
       "\n",
       "        FTE   Function_Description Facility_or_Department  \\\n",
       "0  1.000000                                                 \n",
       "1  0.420663                rgn gob                          \n",
       "2  1.000000                                                 \n",
       "3  0.420663  unalloc budget school                          \n",
       "4  0.420663            non project                          \n",
       "\n",
       "               Position_Extra      Total             Program_Description  \\\n",
       "0                kindergarten  50471.810                    kindergarten   \n",
       "1                undesignated   3477.860    building improvement service   \n",
       "2                     teacher  62237.130             instruction regular   \n",
       "3  professional instructional     22.300  general middle junior high sch   \n",
       "4  professional instructional     54.166   general high school education   \n",
       "\n",
       "         Fund_Description                        Text_1  \\\n",
       "0            general fund                                 \n",
       "1                          building improvement service   \n",
       "2  general purpose school                                 \n",
       "3                                   regular instruction   \n",
       "4                                   regular instruction   \n",
       "\n",
       "                                       combined_text  \n",
       "0        teacher elementary             kindergar...  \n",
       "1  contractor service bond expenditure building f...  \n",
       "2  personal service teacher     tcher 2nd grade  ...  \n",
       "3  employee benefit teacher sub general fund teac...  \n",
       "4  teacher coverage teacher teacher sub general f...  \n",
       "\n",
       "[5 rows x 26 columns]"
      ]
     },
     "execution_count": 18,
     "metadata": {},
     "output_type": "execute_result"
    }
   ],
   "source": [
    "budget_df.head()"
   ]
  },
  {
   "cell_type": "code",
   "execution_count": 4,
   "metadata": {},
   "outputs": [],
   "source": [
    "for col in budget_df[word_predictors]:\n",
    "    budget_df[col] = budget_df[word_predictors].loc[:,[col]].fillna(' ')"
   ]
  },
  {
   "cell_type": "code",
   "execution_count": 5,
   "metadata": {},
   "outputs": [],
   "source": [
    "def create_tfidf(word_column):\n",
    "    tfidf = TfidfVectorizer(ngram_range=(1,2), token_pattern='(?u)\\\\b\\\\w\\\\w+\\\\b',min_df=100)\n",
    "    col_tfidf = tfidf.fit_transform(budget_df[word_column])\n",
    "    \n",
    "    return col_tfidf"
   ]
  },
  {
   "cell_type": "code",
   "execution_count": 88,
   "metadata": {},
   "outputs": [],
   "source": [
    "Object_Description_tfidf = create_tfidf('Object_Description')\n",
    "Text_2_tfidf= create_tfidf('Text_2')\n",
    "SubFund_Description_tfidf = create_tfidf('SubFund_Description')\n",
    "Job_Title_Description_tfidf = create_tfidf('Job_Title_Description')\n",
    "Text_3_tfidf = create_tfidf('Text_3')\n",
    "Text_4_tfidf= create_tfidf('Text_4')\n",
    "Sub_Object_Description_tfidf= create_tfidf('Sub_Object_Description')\n",
    "Location_Description_tfidf= create_tfidf('Location_Description')\n",
    "Function_Description_tfidf= create_tfidf('Function_Description')\n",
    "Facility_or_Department_tfidf= create_tfidf('Facility_or_Department')\n",
    "Position_Extra_tfidf= create_tfidf('Position_Extra')\n",
    "Program_Description_tfidf= create_tfidf('Program_Description')\n",
    "Fund_Description_tfidf= create_tfidf('Fund_Description')\n",
    "Text_1_tfidf= create_tfidf('Text_1')"
   ]
  },
  {
   "cell_type": "code",
   "execution_count": 92,
   "metadata": {},
   "outputs": [
    {
     "data": {
      "text/plain": [
       "(15, 15)"
      ]
     },
     "execution_count": 92,
     "metadata": {},
     "output_type": "execute_result"
    }
   ],
   "source": [
    "len(word_predictors), len(tfidf_list)"
   ]
  },
  {
   "cell_type": "code",
   "execution_count": 93,
   "metadata": {
    "scrolled": true
   },
   "outputs": [],
   "source": [
    "# word_predictors.append('combined_tfidif')"
   ]
  },
  {
   "cell_type": "code",
   "execution_count": 7,
   "metadata": {},
   "outputs": [],
   "source": [
    "# combined_text_tfidf= create_tfidf('combined_text')\n",
    "\n",
    "# combined_text_tfidf.get_shape()"
   ]
  },
  {
   "cell_type": "code",
   "execution_count": 91,
   "metadata": {},
   "outputs": [],
   "source": [
    "tfidf_list = [Object_Description_tfidf, Text_2_tfidf, SubFund_Description_tfidf, Job_Title_Description_tfidf, Text_3_tfidf,\\\n",
    "              Text_4_tfidf,Sub_Object_Description_tfidf, Location_Description_tfidf, Function_Description_tfidf,\\\n",
    "              Facility_or_Department_tfidf, Position_Extra_tfidf, Program_Description_tfidf,\\\n",
    "              Fund_Description_tfidf, Text_1_tfidf, combined_tfidf]"
   ]
  },
  {
   "cell_type": "code",
   "execution_count": 77,
   "metadata": {},
   "outputs": [],
   "source": [
    "from scipy import sparse\n",
    "from scipy.sparse import hstack\n",
    "\n",
    "combined_tfidf = hstack([Object_Description_tfidf, Text_2_tfidf, SubFund_Description_tfidf, Job_Title_Description_tfidf,\\\n",
    "                         Text_3_tfidf, Text_4_tfidf,Sub_Object_Description_tfidf, Location_Description_tfidf,\\\n",
    "                         Function_Description_tfidf,Facility_or_Department_tfidf, Position_Extra_tfidf,\\ \n",
    "                         Program_Description_tfidf, Fund_Description_tfidf, Text_1_tfidf])"
   ]
  },
  {
   "cell_type": "code",
   "execution_count": 11,
   "metadata": {
    "scrolled": true
   },
   "outputs": [
    {
     "data": {
      "text/plain": [
       "(400277, 4717)"
      ]
     },
     "execution_count": 11,
     "metadata": {},
     "output_type": "execute_result"
    }
   ],
   "source": [
    "budget_tfidf.get_shape()"
   ]
  },
  {
   "cell_type": "markdown",
   "metadata": {},
   "source": [
    "## Model Predictions for Operating_status"
   ]
  },
  {
   "cell_type": "code",
   "execution_count": 94,
   "metadata": {},
   "outputs": [],
   "source": [
    "from sklearn.linear_model import LogisticRegression\n",
    "from sklearn.model_selection import train_test_split\n",
    "from sklearn.pipeline import Pipeline\n",
    "from sklearn.preprocessing import LabelEncoder\n",
    "le = LabelEncoder()"
   ]
  },
  {
   "cell_type": "code",
   "execution_count": 95,
   "metadata": {},
   "outputs": [],
   "source": [
    "def nlp_pipe(target_name, predictor_name, X, y):\n",
    "     \n",
    "    X_train, X_val, y_train, y_val = train_test_split(X, \n",
    "                                                    y, \n",
    "                                                    test_size=.2, \n",
    "                                                    random_state=42)\n",
    "    \n",
    "    for predictor in word_predictors:\n",
    "        precitor_name = predictor\n",
    "        \n",
    "    nlp_pipe = Pipeline([\n",
    "    ('clf', LogisticRegression(random_state=42, multi_class='ovr'))])\n",
    "\n",
    "    \n",
    "    model = nlp_pipe.fit(X_train, y_train)\n",
    "    \n",
    "    results = {'target': target_name,\n",
    "               'predictor': predictor_name,\n",
    "               'train_score': nlp_pipe.score(X_train, y_train),\n",
    "               'val_score': nlp_pipe.score(X_val, y_val)}\n",
    "    \n",
    "    return model, results"
   ]
  },
  {
   "cell_type": "code",
   "execution_count": 96,
   "metadata": {},
   "outputs": [],
   "source": [
    "op_status_results = []\n",
    "for tfidf, predictor in zip(tfidf_list, word_predictors):  \n",
    "    results = nlp_pipe('Operating Status', predictor, tfidf, le.fit_transform(budget_df['Operating_Status']))\n",
    "    op_status_results.append(results)"
   ]
  },
  {
   "cell_type": "code",
   "execution_count": 99,
   "metadata": {},
   "outputs": [
    {
     "data": {
      "text/plain": [
       "[(Pipeline(steps=[('clf', LogisticRegression(C=1.0, class_weight=None, dual=False, fit_intercept=True,\n",
       "            intercept_scaling=1, max_iter=100, multi_class='ovr', n_jobs=1,\n",
       "            penalty='l2', random_state=42, solver='liblinear', tol=0.0001,\n",
       "            verbose=0, warm_start=False))]),\n",
       "  {'predictor': 'Object_Description',\n",
       "   'target': 'Operating Status',\n",
       "   'train_score': 0.91974917322723992,\n",
       "   'val_score': 0.91823223743379634}),\n",
       " (Pipeline(steps=[('clf', LogisticRegression(C=1.0, class_weight=None, dual=False, fit_intercept=True,\n",
       "            intercept_scaling=1, max_iter=100, multi_class='ovr', n_jobs=1,\n",
       "            penalty='l2', random_state=42, solver='liblinear', tol=0.0001,\n",
       "            verbose=0, warm_start=False))]),\n",
       "  {'predictor': 'Text_2',\n",
       "   'target': 'Operating Status',\n",
       "   'train_score': 0.87587634789723345,\n",
       "   'val_score': 0.8744378934745678}),\n",
       " (Pipeline(steps=[('clf', LogisticRegression(C=1.0, class_weight=None, dual=False, fit_intercept=True,\n",
       "            intercept_scaling=1, max_iter=100, multi_class='ovr', n_jobs=1,\n",
       "            penalty='l2', random_state=42, solver='liblinear', tol=0.0001,\n",
       "            verbose=0, warm_start=False))]),\n",
       "  {'predictor': 'SubFund_Description',\n",
       "   'target': 'Operating Status',\n",
       "   'train_score': 0.93400182998616577,\n",
       "   'val_score': 0.93290946337563707}),\n",
       " (Pipeline(steps=[('clf', LogisticRegression(C=1.0, class_weight=None, dual=False, fit_intercept=True,\n",
       "            intercept_scaling=1, max_iter=100, multi_class='ovr', n_jobs=1,\n",
       "            penalty='l2', random_state=42, solver='liblinear', tol=0.0001,\n",
       "            verbose=0, warm_start=False))]),\n",
       "  {'predictor': 'Job_Title_Description',\n",
       "   'target': 'Operating Status',\n",
       "   'train_score': 0.86541170004465662,\n",
       "   'val_score': 0.8642450284800639}),\n",
       " (Pipeline(steps=[('clf', LogisticRegression(C=1.0, class_weight=None, dual=False, fit_intercept=True,\n",
       "            intercept_scaling=1, max_iter=100, multi_class='ovr', n_jobs=1,\n",
       "            penalty='l2', random_state=42, solver='liblinear', tol=0.0001,\n",
       "            verbose=0, warm_start=False))]),\n",
       "  {'predictor': 'Text_3',\n",
       "   'target': 'Operating Status',\n",
       "   'train_score': 0.85856018187439298,\n",
       "   'val_score': 0.85751224143099836}),\n",
       " (Pipeline(steps=[('clf', LogisticRegression(C=1.0, class_weight=None, dual=False, fit_intercept=True,\n",
       "            intercept_scaling=1, max_iter=100, multi_class='ovr', n_jobs=1,\n",
       "            penalty='l2', random_state=42, solver='liblinear', tol=0.0001,\n",
       "            verbose=0, warm_start=False))]),\n",
       "  {'predictor': 'Text_4',\n",
       "   'target': 'Operating Status',\n",
       "   'train_score': 0.85879751796415604,\n",
       "   'val_score': 0.85786199660237838}),\n",
       " (Pipeline(steps=[('clf', LogisticRegression(C=1.0, class_weight=None, dual=False, fit_intercept=True,\n",
       "            intercept_scaling=1, max_iter=100, multi_class='ovr', n_jobs=1,\n",
       "            penalty='l2', random_state=42, solver='liblinear', tol=0.0001,\n",
       "            verbose=0, warm_start=False))]),\n",
       "  {'predictor': 'Sub_Object_Description',\n",
       "   'target': 'Operating Status',\n",
       "   'train_score': 0.92003022912301191,\n",
       "   'val_score': 0.91899420405716004}),\n",
       " (Pipeline(steps=[('clf', LogisticRegression(C=1.0, class_weight=None, dual=False, fit_intercept=True,\n",
       "            intercept_scaling=1, max_iter=100, multi_class='ovr', n_jobs=1,\n",
       "            penalty='l2', random_state=42, solver='liblinear', tol=0.0001,\n",
       "            verbose=0, warm_start=False))]),\n",
       "  {'predictor': 'Location_Description',\n",
       "   'target': 'Operating Status',\n",
       "   'train_score': 0.87821223467542731,\n",
       "   'val_score': 0.87692365344259016}),\n",
       " (Pipeline(steps=[('clf', LogisticRegression(C=1.0, class_weight=None, dual=False, fit_intercept=True,\n",
       "            intercept_scaling=1, max_iter=100, multi_class='ovr', n_jobs=1,\n",
       "            penalty='l2', random_state=42, solver='liblinear', tol=0.0001,\n",
       "            verbose=0, warm_start=False))]),\n",
       "  {'predictor': 'Function_Description',\n",
       "   'target': 'Operating Status',\n",
       "   'train_score': 0.94203378291867179,\n",
       "   'val_score': 0.94042919956030779}),\n",
       " (Pipeline(steps=[('clf', LogisticRegression(C=1.0, class_weight=None, dual=False, fit_intercept=True,\n",
       "            intercept_scaling=1, max_iter=100, multi_class='ovr', n_jobs=1,\n",
       "            penalty='l2', random_state=42, solver='liblinear', tol=0.0001,\n",
       "            verbose=0, warm_start=False))]),\n",
       "  {'predictor': 'Facility_or_Department',\n",
       "   'target': 'Operating Status',\n",
       "   'train_score': 0.85951889476330412,\n",
       "   'val_score': 0.85858648945737981}),\n",
       " (Pipeline(steps=[('clf', LogisticRegression(C=1.0, class_weight=None, dual=False, fit_intercept=True,\n",
       "            intercept_scaling=1, max_iter=100, multi_class='ovr', n_jobs=1,\n",
       "            penalty='l2', random_state=42, solver='liblinear', tol=0.0001,\n",
       "            verbose=0, warm_start=False))]),\n",
       "  {'predictor': 'Position_Extra',\n",
       "   'target': 'Operating Status',\n",
       "   'train_score': 0.85900674846434177,\n",
       "   'val_score': 0.85778704906565406}),\n",
       " (Pipeline(steps=[('clf', LogisticRegression(C=1.0, class_weight=None, dual=False, fit_intercept=True,\n",
       "            intercept_scaling=1, max_iter=100, multi_class='ovr', n_jobs=1,\n",
       "            penalty='l2', random_state=42, solver='liblinear', tol=0.0001,\n",
       "            verbose=0, warm_start=False))]),\n",
       "  {'predictor': 'Program_Description',\n",
       "   'target': 'Operating Status',\n",
       "   'train_score': 0.86927778003316458,\n",
       "   'val_score': 0.86805486159688217}),\n",
       " (Pipeline(steps=[('clf', LogisticRegression(C=1.0, class_weight=None, dual=False, fit_intercept=True,\n",
       "            intercept_scaling=1, max_iter=100, multi_class='ovr', n_jobs=1,\n",
       "            penalty='l2', random_state=42, solver='liblinear', tol=0.0001,\n",
       "            verbose=0, warm_start=False))]),\n",
       "  {'predictor': 'Fund_Description',\n",
       "   'target': 'Operating Status',\n",
       "   'train_score': 0.94142482847783249,\n",
       "   'val_score': 0.94069151593884281}),\n",
       " (Pipeline(steps=[('clf', LogisticRegression(C=1.0, class_weight=None, dual=False, fit_intercept=True,\n",
       "            intercept_scaling=1, max_iter=100, multi_class='ovr', n_jobs=1,\n",
       "            penalty='l2', random_state=42, solver='liblinear', tol=0.0001,\n",
       "            verbose=0, warm_start=False))]),\n",
       "  {'predictor': 'Text_1',\n",
       "   'target': 'Operating Status',\n",
       "   'train_score': 0.93284325512692801,\n",
       "   'val_score': 0.932035075447187}),\n",
       " (Pipeline(steps=[('clf', LogisticRegression(C=1.0, class_weight=None, dual=False, fit_intercept=True,\n",
       "            intercept_scaling=1, max_iter=100, multi_class='ovr', n_jobs=1,\n",
       "            penalty='l2', random_state=42, solver='liblinear', tol=0.0001,\n",
       "            verbose=0, warm_start=False))]),\n",
       "  {'predictor': 'combined_tfidif',\n",
       "   'target': 'Operating Status',\n",
       "   'train_score': 0.98564116656933809,\n",
       "   'val_score': 0.98474817627660638})]"
      ]
     },
     "execution_count": 99,
     "metadata": {},
     "output_type": "execute_result"
    }
   ],
   "source": [
    "op_status_results"
   ]
  },
  {
   "cell_type": "code",
   "execution_count": 109,
   "metadata": {},
   "outputs": [],
   "source": [
    "X = combined_tfidf\n",
    "y = le.fit_transform(budget_df['Operating_Status'])\n",
    "X_train, X_val, y_train, y_val = train_test_split(X,y,random_state = 42)"
   ]
  },
  {
   "cell_type": "code",
   "execution_count": 114,
   "metadata": {},
   "outputs": [
    {
     "data": {
      "text/plain": [
       "array([2, 2, 2, ..., 2, 2, 2])"
      ]
     },
     "execution_count": 114,
     "metadata": {},
     "output_type": "execute_result"
    }
   ],
   "source": [
    "op_status_results[14][0].predict(X_val)"
   ]
  },
  {
   "cell_type": "code",
   "execution_count": 115,
   "metadata": {},
   "outputs": [
    {
     "data": {
      "text/plain": [
       "array([[  7.25347365e-06,   3.01896778e-06,   9.99989728e-01],\n",
       "       [  9.41986109e-03,   4.00630513e-06,   9.90576133e-01],\n",
       "       [  1.97701610e-03,   4.20370782e-02,   9.55985906e-01],\n",
       "       ..., \n",
       "       [  1.67098796e-05,   9.64624297e-06,   9.99973644e-01],\n",
       "       [  8.08675730e-05,   3.55247292e-04,   9.99563885e-01],\n",
       "       [  8.41233440e-02,   3.08556778e-06,   9.15873570e-01]])"
      ]
     },
     "execution_count": 115,
     "metadata": {},
     "output_type": "execute_result"
    }
   ],
   "source": [
    "op_status_results[14][0].predict_proba(X_val)"
   ]
  },
  {
   "cell_type": "code",
   "execution_count": 116,
   "metadata": {},
   "outputs": [
    {
     "data": {
      "text/plain": [
       "['Operating_Status__Non-Operating',\n",
       " 'Operating_Status__Operating, Not PreK-12',\n",
       " 'Operating_Status__PreK-12 Operating']"
      ]
     },
     "execution_count": 116,
     "metadata": {},
     "output_type": "execute_result"
    }
   ],
   "source": [
    "list(le.classes_)\n",
    "list(le.inverse_transform([0, 1, 2]))"
   ]
  },
  {
   "cell_type": "code",
   "execution_count": 68,
   "metadata": {
    "scrolled": true
   },
   "outputs": [],
   "source": [
    "# import itertools\n",
    "\n",
    "# model_results = []\n",
    "# for tfidf, target in itertools.product(tfidf_list, targets):  \n",
    "#     y = le.fit_transform(budget_df[target])\n",
    "#     X = tfidf\n",
    "#     results = nlp_pipe(X, y, target)\n",
    "#     model_results.append(results)\n",
    "    \n",
    "    \n",
    "# # for item in tfidf_list:\n",
    "# #     X = item\n",
    "    \n",
    "# # for col in targets:\n",
    "# #     col = col\n",
    "# #     results = nlp_pipe(X, y, col)\n",
    "# #     model_results.append(results)"
   ]
  },
  {
   "cell_type": "markdown",
   "metadata": {},
   "source": [
    "## Model with combined sparse matrix"
   ]
  },
  {
   "cell_type": "code",
   "execution_count": null,
   "metadata": {},
   "outputs": [],
   "source": [
    "# le = LabelEncoder()\n",
    "# budget_df['Operating_status_num'] = le.fit_transform(budget_df['Operating_Status'])"
   ]
  },
  {
   "cell_type": "code",
   "execution_count": 34,
   "metadata": {},
   "outputs": [],
   "source": [
    "X = budget_tfidf\n",
    "y = le.fit_transform(budget_df['Operating_Status'])\n",
    "X_train, X_val, y_train, y_val = train_test_split(X,y,random_state = 42)"
   ]
  },
  {
   "cell_type": "code",
   "execution_count": 38,
   "metadata": {},
   "outputs": [
    {
     "data": {
      "text/plain": [
       "array([2, 2, 2, ..., 2, 2, 0])"
      ]
     },
     "execution_count": 38,
     "metadata": {},
     "output_type": "execute_result"
    }
   ],
   "source": [
    "y_train"
   ]
  },
  {
   "cell_type": "code",
   "execution_count": 21,
   "metadata": {},
   "outputs": [
    {
     "data": {
      "text/plain": [
       "0.98564657053299887"
      ]
     },
     "execution_count": 21,
     "metadata": {},
     "output_type": "execute_result"
    }
   ],
   "source": [
    "logreg.score(X_train,y_train)"
   ]
  },
  {
   "cell_type": "code",
   "execution_count": null,
   "metadata": {},
   "outputs": [],
   "source": [
    "logreg.score(X_test,y_test)"
   ]
  },
  {
   "cell_type": "code",
   "execution_count": 23,
   "metadata": {},
   "outputs": [],
   "source": [
    "y_predicted = logreg.predict(X_test)"
   ]
  },
  {
   "cell_type": "code",
   "execution_count": 24,
   "metadata": {},
   "outputs": [
    {
     "data": {
      "text/plain": [
       "array([2, 2, 2, 2, 2, 2, 2, 0, 2, 2, 2, 2, 2, 2, 2, 2, 2, 2, 0, 2, 2, 2, 2,\n",
       "       0, 2, 2, 2, 2, 2, 2, 2, 0, 2, 2, 2, 2, 0, 2, 0, 2, 2, 2, 2, 2, 2, 2,\n",
       "       2, 0, 2, 2])"
      ]
     },
     "execution_count": 24,
     "metadata": {},
     "output_type": "execute_result"
    }
   ],
   "source": [
    "y_predicted[:50]"
   ]
  },
  {
   "cell_type": "code",
   "execution_count": 25,
   "metadata": {
    "scrolled": true
   },
   "outputs": [
    {
     "data": {
      "text/plain": [
       "['Operating_Status__PreK-12 Operating',\n",
       " 'Operating_Status__Non-Operating',\n",
       " 'Operating_Status__Operating, Not PreK-12']"
      ]
     },
     "execution_count": 25,
     "metadata": {},
     "output_type": "execute_result"
    }
   ],
   "source": [
    "list(le.classes_)\n",
    "list(le.inverse_transform([2, 0, 1]))"
   ]
  },
  {
   "cell_type": "markdown",
   "metadata": {},
   "source": [
    "## Figure out how to combine model of categorical columns and numerical"
   ]
  },
  {
   "cell_type": "markdown",
   "metadata": {},
   "source": [
    "### running into memory issue for get_dummies for the 9 cat"
   ]
  },
  {
   "cell_type": "code",
   "execution_count": 28,
   "metadata": {},
   "outputs": [],
   "source": [
    "from sklearn.multiclass import OneVsRestClassifier"
   ]
  },
  {
   "cell_type": "code",
   "execution_count": null,
   "metadata": {},
   "outputs": [],
   "source": [
    "OneVsRestClassifier()"
   ]
  },
  {
   "cell_type": "code",
   "execution_count": null,
   "metadata": {},
   "outputs": [],
   "source": [
    "pl = Pipeline([\n",
    "        ('union', FeatureUnion(\n",
    "            transformer_list = [\n",
    "                ('numeric_features', Pipeline([\n",
    "                    ('selector', get_numeric_data),\n",
    "                    ('imputer', Imputer())\n",
    "                ])),\n",
    "                ('text_features', Pipeline([\n",
    "                    ('selector', get_text_data),\n",
    "                    ('vectorizer', HashingVectorizer(token_pattern=TOKENS_ALPHANUMERIC,\n",
    "                                                     non_negative=True, norm=None, binary=False,\n",
    "                                                     ngram_range=(1, 2))),\n",
    "                    ('dim_red', SelectKBest(chi2, chi_k))\n",
    "                ]))\n",
    "             ]\n",
    "        )),\n",
    "        ('int', SparseInteractions(degree=2)),\n",
    "        ('scale', MaxAbsScaler()),\n",
    "        ('clf', OneVsRestClassifier(LogisticRegression()))\n",
    "    ])\n"
   ]
  }
 ],
 "metadata": {
  "kernelspec": {
   "display_name": "Python 3",
   "language": "python",
   "name": "python3"
  },
  "language_info": {
   "codemirror_mode": {
    "name": "ipython",
    "version": 3
   },
   "file_extension": ".py",
   "mimetype": "text/x-python",
   "name": "python",
   "nbconvert_exporter": "python",
   "pygments_lexer": "ipython3",
   "version": "3.6.2"
  }
 },
 "nbformat": 4,
 "nbformat_minor": 2
}
