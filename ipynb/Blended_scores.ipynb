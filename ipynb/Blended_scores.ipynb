{
 "cells": [
  {
   "cell_type": "code",
   "execution_count": 1,
   "metadata": {},
   "outputs": [],
   "source": [
    "%run ../__init__.py"
   ]
  },
  {
   "cell_type": "code",
   "execution_count": 7,
   "metadata": {},
   "outputs": [],
   "source": [
    "ops = pd.read_csv('../ipynb/op_blended.csv', index_col=0)\n",
    "\n",
    "pre_K = pd.read_csv('../ipynb/prek_blended.csv', index_col=0)\n",
    "\n",
    "use = pd.read_csv('../ipynb/use_blended.csv', index_col=0)\n",
    "\n",
    "sharing = pd.read_csv('../ipynb/Sharing_blended.csv', index_col=0)\n",
    "\n",
    "reporting = pd.read_csv('../ipynb/Reporting_blended.csv', index_col=0)\n",
    "\n",
    "function = pd.read_csv('../ipynb/func_blended.csv', index_col=0)\n",
    "\n",
    "student = pd.read_csv('../ipynb/Student_Type_blended.csv', index_col=0)\n",
    "\n",
    "object_type = pd.read_csv('../ipynb/Object_Type_blended.csv', index_col=0)\n",
    "\n",
    "position = pd.read_csv('../ipynb/Position_Type_blended.csv', index_col=0)"
   ]
  },
  {
   "cell_type": "code",
   "execution_count": 8,
   "metadata": {},
   "outputs": [],
   "source": [
    "blended_scores = pd.concat([ops, pre_K, use, sharing, reporting, function, student, object_type, position], axis=0, ignore_index=True)"
   ]
  },
  {
   "cell_type": "code",
   "execution_count": 9,
   "metadata": {},
   "outputs": [
    {
     "data": {
      "text/html": [
       "<div>\n",
       "<table border=\"1\" class=\"dataframe\">\n",
       "  <thead>\n",
       "    <tr style=\"text-align: right;\">\n",
       "      <th></th>\n",
       "      <th>log_loss</th>\n",
       "      <th>target</th>\n",
       "    </tr>\n",
       "  </thead>\n",
       "  <tbody>\n",
       "    <tr>\n",
       "      <th>0</th>\n",
       "      <td>0.026717</td>\n",
       "      <td>Operation_Status</td>\n",
       "    </tr>\n",
       "    <tr>\n",
       "      <th>1</th>\n",
       "      <td>0.016793</td>\n",
       "      <td>Pre_K</td>\n",
       "    </tr>\n",
       "    <tr>\n",
       "      <th>2</th>\n",
       "      <td>0.042977</td>\n",
       "      <td>Use</td>\n",
       "    </tr>\n",
       "    <tr>\n",
       "      <th>3</th>\n",
       "      <td>0.039766</td>\n",
       "      <td>Sharing</td>\n",
       "    </tr>\n",
       "    <tr>\n",
       "      <th>4</th>\n",
       "      <td>0.034473</td>\n",
       "      <td>Reporting</td>\n",
       "    </tr>\n",
       "    <tr>\n",
       "      <th>5</th>\n",
       "      <td>0.068747</td>\n",
       "      <td>Function</td>\n",
       "    </tr>\n",
       "    <tr>\n",
       "      <th>6</th>\n",
       "      <td>0.035715</td>\n",
       "      <td>Student_Type</td>\n",
       "    </tr>\n",
       "    <tr>\n",
       "      <th>7</th>\n",
       "      <td>0.025598</td>\n",
       "      <td>Object_Type</td>\n",
       "    </tr>\n",
       "    <tr>\n",
       "      <th>8</th>\n",
       "      <td>0.025829</td>\n",
       "      <td>Position_Type</td>\n",
       "    </tr>\n",
       "  </tbody>\n",
       "</table>\n",
       "</div>"
      ],
      "text/plain": [
       "   log_loss            target\n",
       "0  0.026717  Operation_Status\n",
       "1  0.016793             Pre_K\n",
       "2  0.042977               Use\n",
       "3  0.039766           Sharing\n",
       "4  0.034473         Reporting\n",
       "5  0.068747          Function\n",
       "6  0.035715      Student_Type\n",
       "7  0.025598       Object_Type\n",
       "8  0.025829     Position_Type"
      ]
     },
     "execution_count": 9,
     "metadata": {},
     "output_type": "execute_result"
    }
   ],
   "source": [
    "blended_scores"
   ]
  },
  {
   "cell_type": "code",
   "execution_count": 10,
   "metadata": {},
   "outputs": [],
   "source": [
    "blended_scores.to_pickle('blended_scores.pkl')"
   ]
  },
  {
   "cell_type": "code",
   "execution_count": null,
   "metadata": {},
   "outputs": [],
   "source": []
  }
 ],
 "metadata": {
  "kernelspec": {
   "display_name": "Python 3",
   "language": "python",
   "name": "python3"
  },
  "language_info": {
   "codemirror_mode": {
    "name": "ipython",
    "version": 3
   },
   "file_extension": ".py",
   "mimetype": "text/x-python",
   "name": "python",
   "nbconvert_exporter": "python",
   "pygments_lexer": "ipython3",
   "version": "3.6.2"
  }
 },
 "nbformat": 4,
 "nbformat_minor": 2
}
