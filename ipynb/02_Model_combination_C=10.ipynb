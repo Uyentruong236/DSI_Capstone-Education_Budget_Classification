{
 "cells": [
  {
   "cell_type": "code",
   "execution_count": 1,
   "metadata": {},
   "outputs": [],
   "source": [
    "%run ../__init__.py"
   ]
  },
  {
   "cell_type": "markdown",
   "metadata": {},
   "source": [
    "## Data preprocessing with Tfidf"
   ]
  },
  {
   "cell_type": "code",
   "execution_count": 2,
   "metadata": {},
   "outputs": [
    {
     "name": "stderr",
     "output_type": "stream",
     "text": [
      "/opt/conda/lib/python3.6/site-packages/IPython/core/interactiveshell.py:2728: DtypeWarning: Columns (6,12) have mixed types. Specify dtype option on import or set low_memory=False.\n",
      "  interactivity=interactivity, compiler=compiler, result=result)\n"
     ]
    }
   ],
   "source": [
    "budget_train = pd.read_csv('../data/train_cleaned.csv', index_col=0)\n",
    "budget_test = pd.read_csv('../data/test_clean.csv', index_col=0)"
   ]
  },
  {
   "cell_type": "code",
   "execution_count": 6,
   "metadata": {},
   "outputs": [
    {
     "data": {
      "text/plain": [
       "Function                  0\n",
       "Use                       0\n",
       "Sharing                   0\n",
       "Reporting                 0\n",
       "Student_Type              0\n",
       "Position_Type             0\n",
       "Object_Type               0\n",
       "Pre_K                     0\n",
       "Operating_Status          0\n",
       "Object_Description        0\n",
       "Text_2                    0\n",
       "SubFund_Description       0\n",
       "Job_Title_Description     0\n",
       "Text_3                    0\n",
       "Text_4                    0\n",
       "Sub_Object_Description    0\n",
       "Location_Description      0\n",
       "FTE                       0\n",
       "Function_Description      0\n",
       "Facility_or_Department    0\n",
       "Position_Extra            0\n",
       "Total                     0\n",
       "Program_Description       0\n",
       "Fund_Description          0\n",
       "Text_1                    0\n",
       "combined_text             0\n",
       "dtype: int64"
      ]
     },
     "execution_count": 6,
     "metadata": {},
     "output_type": "execute_result"
    }
   ],
   "source": [
    "budget_train.isnull().sum()"
   ]
  },
  {
   "cell_type": "code",
   "execution_count": 7,
   "metadata": {},
   "outputs": [
    {
     "data": {
      "text/plain": [
       "ID                        0\n",
       "Object_Description        0\n",
       "Program_Description       0\n",
       "SubFund_Description       0\n",
       "Job_Title_Description     0\n",
       "Facility_or_Department    0\n",
       "Sub_Object_Description    0\n",
       "Location_Description      0\n",
       "FTE                       0\n",
       "Function_Description      0\n",
       "Position_Extra            0\n",
       "Text_4                    0\n",
       "Total                     0\n",
       "Text_2                    0\n",
       "Text_3                    0\n",
       "Fund_Description          0\n",
       "Text_1                    0\n",
       "dtype: int64"
      ]
     },
     "execution_count": 7,
     "metadata": {},
     "output_type": "execute_result"
    }
   ],
   "source": [
    "budget_test.isnull().sum()"
   ]
  },
  {
   "cell_type": "code",
   "execution_count": 4,
   "metadata": {},
   "outputs": [],
   "source": [
    "for col in budget_test[word_predictors]:\n",
    "    budget_test[col] = budget_test[word_predictors].loc[:,[col]].fillna(' ')"
   ]
  },
  {
   "cell_type": "code",
   "execution_count": 5,
   "metadata": {},
   "outputs": [],
   "source": [
    "for col in budget_train[word_predictors]:\n",
    "    budget_train[col] = budget_train[word_predictors].loc[:,[col]].fillna(' ')"
   ]
  },
  {
   "cell_type": "code",
   "execution_count": 8,
   "metadata": {},
   "outputs": [],
   "source": [
    "label = LabelEncoder()"
   ]
  },
  {
   "cell_type": "code",
   "execution_count": 9,
   "metadata": {},
   "outputs": [],
   "source": [
    "class ItemSelector(BaseEstimator, TransformerMixin):\n",
    "    \"\"\"For data grouped by feature, select subset of data at a provided key.\n",
    "\n",
    "    The data is expected to be stored in a 2D data structure, where the first\n",
    "    index is over features and the second is over samples.  i.e.\n",
    "\n",
    "    >> len(data[key]) == n_samples\n",
    "\n",
    "    Please note that this is the opposite convention to scikit-learn feature\n",
    "    matrixes (where the first index corresponds to sample).\n",
    "\n",
    "    ItemSelector only requires that the collection implement getitem\n",
    "    (data[key]).  Examples include: a dict of lists, 2D numpy array, Pandas\n",
    "    DataFrame, numpy record array, etc.\n",
    "\n",
    "    >> data = {'a': [1, 5, 2, 5, 2, 8],\n",
    "               'b': [9, 4, 1, 4, 1, 3]}\n",
    "    >> ds = ItemSelector(key='a')\n",
    "    >> data['a'] == ds.transform(data)\n",
    "\n",
    "    Parameters\n",
    "     ----------\n",
    "    key : hashable, required\n",
    "        The key corresponding to the desired value in a mappable.\n",
    "    \"\"\"\n",
    "    def __init__(self, key):\n",
    "        self.key = key\n",
    "\n",
    "    def fit(self, x, y=None):\n",
    "        return self\n",
    "\n",
    "    def transform(self, data_dict):\n",
    "        return data_dict[self.key]\n",
    "    "
   ]
  },
  {
   "cell_type": "code",
   "execution_count": 10,
   "metadata": {},
   "outputs": [],
   "source": [
    "class ArrayCaster(BaseEstimator, TransformerMixin):\n",
    "    def fit(self, x, y=None):\n",
    "        return self\n",
    "\n",
    "    def transform(self, data):\n",
    "        return np.transpose(np.matrix(data))"
   ]
  },
  {
   "cell_type": "code",
   "execution_count": 11,
   "metadata": {},
   "outputs": [],
   "source": [
    "# feature union transformer list \n",
    "transformer_list = [\n",
    "    ('Object_Description', Pipeline([\n",
    "                ('selector', ItemSelector(key='Object_Description')),\n",
    "                ('tfidf', TfidfVectorizer(ngram_range=(1,2), token_pattern='(?u)\\\\b\\\\w\\\\w+\\\\b',min_df=100)),\n",
    "            ])),\n",
    "    ('Text_2', Pipeline([\n",
    "                ('selector', ItemSelector(key='Text_2')),\n",
    "                ('tfidf', TfidfVectorizer(ngram_range=(1,2), token_pattern='(?u)\\\\b\\\\w\\\\w+\\\\b',min_df=100)),\n",
    "            ])),\n",
    "    ('SubFund_Description', Pipeline([\n",
    "                ('selector', ItemSelector(key='SubFund_Description')),\n",
    "                ('tfidf', TfidfVectorizer(ngram_range=(1,2), token_pattern='(?u)\\\\b\\\\w\\\\w+\\\\b',min_df=100)),\n",
    "            ])),\n",
    "    ('Job_Title_Description', Pipeline([\n",
    "                ('selector', ItemSelector(key='Job_Title_Description')),\n",
    "                ('tfidf', TfidfVectorizer(ngram_range=(1,2), token_pattern='(?u)\\\\b\\\\w\\\\w+\\\\b',min_df=100)),\n",
    "            ])),\n",
    "    ('Text_3', Pipeline([\n",
    "                ('selector', ItemSelector(key='Text_3')),\n",
    "                ('tfidf', TfidfVectorizer(ngram_range=(1,2), token_pattern='(?u)\\\\b\\\\w\\\\w+\\\\b',min_df=100)),\n",
    "            ])),\n",
    "    ('Text_4', Pipeline([\n",
    "                ('selector', ItemSelector(key='Text_4')),\n",
    "                ('tfidf', TfidfVectorizer(ngram_range=(1,2), token_pattern='(?u)\\\\b\\\\w\\\\w+\\\\b',min_df=100)),\n",
    "            ])),\n",
    "    ('Sub_Object_Description', Pipeline([\n",
    "                ('selector', ItemSelector(key='Sub_Object_Description')),\n",
    "                ('tfidf', TfidfVectorizer(ngram_range=(1,2), token_pattern='(?u)\\\\b\\\\w\\\\w+\\\\b',min_df=100)),\n",
    "            ])),\n",
    "    ('Location_Description', Pipeline([\n",
    "                ('selector', ItemSelector(key='Location_Description')),\n",
    "                ('tfidf', TfidfVectorizer(ngram_range=(1,2), token_pattern='(?u)\\\\b\\\\w\\\\w+\\\\b',min_df=100)),\n",
    "            ])),\n",
    "    ('Function_Description', Pipeline([\n",
    "                ('selector', ItemSelector(key='Function_Description')),\n",
    "                ('tfidf', TfidfVectorizer(ngram_range=(1,2), token_pattern='(?u)\\\\b\\\\w\\\\w+\\\\b',min_df=100)),\n",
    "            ])),\n",
    "    ('Facility_or_Department', Pipeline([\n",
    "                ('selector', ItemSelector(key='Facility_or_Department')),\n",
    "                ('tfidf', TfidfVectorizer(ngram_range=(1,2), token_pattern='(?u)\\\\b\\\\w\\\\w+\\\\b',min_df=100)),\n",
    "            ])),\n",
    "    ('Position_Extra', Pipeline([\n",
    "                ('selector', ItemSelector(key='Position_Extra')),\n",
    "                ('tfidf', TfidfVectorizer(ngram_range=(1,2), token_pattern='(?u)\\\\b\\\\w\\\\w+\\\\b',min_df=100)),\n",
    "            ])),\n",
    "    ('Program_Description', Pipeline([\n",
    "                ('selector', ItemSelector(key='Program_Description')),\n",
    "                ('tfidf', TfidfVectorizer(ngram_range=(1,2), token_pattern='(?u)\\\\b\\\\w\\\\w+\\\\b',min_df=100)),\n",
    "            ])),\n",
    "    ('Fund_Description', Pipeline([\n",
    "                ('selector', ItemSelector(key='Fund_Description')),\n",
    "                ('tfidf', TfidfVectorizer(ngram_range=(1,2), token_pattern='(?u)\\\\b\\\\w\\\\w+\\\\b',min_df=100)),\n",
    "            ])),\n",
    "    ('Text_1', Pipeline([\n",
    "                ('selector', ItemSelector(key='Text_1')),\n",
    "                ('tfidf', TfidfVectorizer(ngram_range=(1,2), token_pattern='(?u)\\\\b\\\\w\\\\w+\\\\b',min_df=100)),\n",
    "            ])),\n",
    "#     ('FTE', Pipeline([\n",
    "#                 ('selector', ItemSelector(key='FTE')),\n",
    "#                 ('scaler', StandardScaler()),\n",
    "#                 ('caster', ArrayCaster()),\n",
    "#             ])),\n",
    "#     ('Total', Pipeline([\n",
    "#                 ('selector', ItemSelector(key='Total')),\n",
    "#                 ('scaler', StandardScaler()),\n",
    "#                 ('caster', ArrayCaster()),\n",
    "#             ])),\n",
    "]"
   ]
  },
  {
   "cell_type": "code",
   "execution_count": 12,
   "metadata": {},
   "outputs": [],
   "source": [
    "def nlp_pipe(target_name,X, y):\n",
    "     \n",
    "    X_train, X_val, y_train, y_val = train_test_split(X, \n",
    "                                                    y, \n",
    "                                                    test_size=.2, \n",
    "                                                    random_state=42)\n",
    "        \n",
    "    pipeline = Pipeline([\n",
    "    (\"union\", FeatureUnion(transformer_list=transformer_list)),\n",
    "    (\"clf\", LogisticRegression(C=10))])\n",
    "\n",
    "    \n",
    "    model = pipeline.fit(X_train, y_train)\n",
    "#   \n",
    "    val_proba = model.predict_proba(X_val)\n",
    "    \n",
    "    log_loss_score = log_loss(y_val, val_proba)\n",
    "    \n",
    "    results = {'target': target_name,\n",
    "               'train_score': model.score(X_train, y_train),\n",
    "               'val_score': model.score(X_val, y_val),\n",
    "              'log_loss': log_loss_score}\n",
    "    \n",
    "    return model, results"
   ]
  },
  {
   "cell_type": "code",
   "execution_count": 15,
   "metadata": {},
   "outputs": [
    {
     "name": "stdout",
     "output_type": "stream",
     "text": [
      "Function\n",
      "Use\n",
      "Sharing\n",
      "Reporting\n",
      "Student_Type\n",
      "Position_Type\n",
      "Object_Type\n",
      "Pre_K\n",
      "Operating_Status\n"
     ]
    }
   ],
   "source": [
    "model_results = []\n",
    "for target in budget_train[targets]:\n",
    "    X = budget_train[word_predictors] \n",
    "    y = label.fit_transform(budget_train[target])\n",
    "    results = nlp_pipe(target,X, y)\n",
    "    print(target)\n",
    "    model_results.append(results)"
   ]
  },
  {
   "cell_type": "code",
   "execution_count": 17,
   "metadata": {},
   "outputs": [],
   "source": [
    "lrc_results = []\n",
    "for item in model_results:\n",
    "    scores = item[1]\n",
    "    lrc_results.append(scores)"
   ]
  },
  {
   "cell_type": "code",
   "execution_count": 18,
   "metadata": {},
   "outputs": [],
   "source": [
    "lrc_scores_results = pd.DataFrame(lrc_results)"
   ]
  },
  {
   "cell_type": "code",
   "execution_count": 19,
   "metadata": {},
   "outputs": [
    {
     "data": {
      "text/html": [
       "<div>\n",
       "<table border=\"1\" class=\"dataframe\">\n",
       "  <thead>\n",
       "    <tr style=\"text-align: right;\">\n",
       "      <th></th>\n",
       "      <th>log_loss</th>\n",
       "      <th>target</th>\n",
       "      <th>train_score</th>\n",
       "      <th>val_score</th>\n",
       "    </tr>\n",
       "  </thead>\n",
       "  <tbody>\n",
       "    <tr>\n",
       "      <th>0</th>\n",
       "      <td>0.136228</td>\n",
       "      <td>Function</td>\n",
       "      <td>0.965305</td>\n",
       "      <td>0.959566</td>\n",
       "    </tr>\n",
       "    <tr>\n",
       "      <th>1</th>\n",
       "      <td>0.106920</td>\n",
       "      <td>Use</td>\n",
       "      <td>0.972104</td>\n",
       "      <td>0.968122</td>\n",
       "    </tr>\n",
       "    <tr>\n",
       "      <th>2</th>\n",
       "      <td>0.086858</td>\n",
       "      <td>Sharing</td>\n",
       "      <td>0.976001</td>\n",
       "      <td>0.974243</td>\n",
       "    </tr>\n",
       "    <tr>\n",
       "      <th>3</th>\n",
       "      <td>0.058025</td>\n",
       "      <td>Reporting</td>\n",
       "      <td>0.982924</td>\n",
       "      <td>0.981838</td>\n",
       "    </tr>\n",
       "    <tr>\n",
       "      <th>4</th>\n",
       "      <td>0.069994</td>\n",
       "      <td>Student_Type</td>\n",
       "      <td>0.980107</td>\n",
       "      <td>0.977191</td>\n",
       "    </tr>\n",
       "    <tr>\n",
       "      <th>5</th>\n",
       "      <td>0.056051</td>\n",
       "      <td>Position_Type</td>\n",
       "      <td>0.986003</td>\n",
       "      <td>0.983274</td>\n",
       "    </tr>\n",
       "    <tr>\n",
       "      <th>6</th>\n",
       "      <td>0.047173</td>\n",
       "      <td>Object_Type</td>\n",
       "      <td>0.987262</td>\n",
       "      <td>0.985123</td>\n",
       "    </tr>\n",
       "    <tr>\n",
       "      <th>7</th>\n",
       "      <td>0.029622</td>\n",
       "      <td>Pre_K</td>\n",
       "      <td>0.990685</td>\n",
       "      <td>0.989695</td>\n",
       "    </tr>\n",
       "    <tr>\n",
       "      <th>8</th>\n",
       "      <td>0.044087</td>\n",
       "      <td>Operating_Status</td>\n",
       "      <td>0.986309</td>\n",
       "      <td>0.985098</td>\n",
       "    </tr>\n",
       "  </tbody>\n",
       "</table>\n",
       "</div>"
      ],
      "text/plain": [
       "   log_loss            target  train_score  val_score\n",
       "0  0.136228          Function     0.965305   0.959566\n",
       "1  0.106920               Use     0.972104   0.968122\n",
       "2  0.086858           Sharing     0.976001   0.974243\n",
       "3  0.058025         Reporting     0.982924   0.981838\n",
       "4  0.069994      Student_Type     0.980107   0.977191\n",
       "5  0.056051     Position_Type     0.986003   0.983274\n",
       "6  0.047173       Object_Type     0.987262   0.985123\n",
       "7  0.029622             Pre_K     0.990685   0.989695\n",
       "8  0.044087  Operating_Status     0.986309   0.985098"
      ]
     },
     "execution_count": 19,
     "metadata": {},
     "output_type": "execute_result"
    }
   ],
   "source": [
    "lrc_scores_results"
   ]
  },
  {
   "cell_type": "code",
   "execution_count": 31,
   "metadata": {},
   "outputs": [
    {
     "data": {
      "text/plain": [
       "Pipeline(steps=[('union', FeatureUnion(n_jobs=1,\n",
       "       transformer_list=[('Object_Description', Pipeline(steps=[('selector', ItemSelector(key='Object_Description')), ('tfidf', TfidfVectorizer(analyzer='word', binary=False, decode_error='strict',\n",
       "        dtype=<class 'numpy.int64'>, encoding='utf-8', input='...ty='l2', random_state=None, solver='liblinear', tol=0.0001,\n",
       "          verbose=0, warm_start=False))])"
      ]
     },
     "execution_count": 31,
     "metadata": {},
     "output_type": "execute_result"
    }
   ],
   "source": [
    "model_results[8][0]"
   ]
  },
  {
   "cell_type": "code",
   "execution_count": 61,
   "metadata": {},
   "outputs": [],
   "source": [
    "func_lrc = model_results[0][0]\n",
    "use_lrc = model_results[1][0]\n",
    "sharing_lrc = model_results[2][0]\n",
    "reporting_lrc = model_results[3][0]\n",
    "student_lrc = model_results[4][0]\n",
    "pos_type_lrc = model_results[5][0]\n",
    "ob_type_lrc = model_results[6][0]\n",
    "pre_K_lrc = model_results[7][0]\n",
    "op_stat_lrc = model_results[8][0]"
   ]
  },
  {
   "cell_type": "code",
   "execution_count": 34,
   "metadata": {},
   "outputs": [],
   "source": [
    "lrc_scores_results.to_pickle('lrc_results.pkl')"
   ]
  },
  {
   "cell_type": "code",
   "execution_count": 36,
   "metadata": {},
   "outputs": [],
   "source": [
    "X_test = budget_test"
   ]
  },
  {
   "cell_type": "code",
   "execution_count": 40,
   "metadata": {},
   "outputs": [],
   "source": [
    "func_proba = pd.DataFrame(func_lrc.predict_proba(X_test))"
   ]
  },
  {
   "cell_type": "code",
   "execution_count": 44,
   "metadata": {},
   "outputs": [],
   "source": [
    "func_classes = ['Function__Aides Compensation',\n",
    "       'Function__Career & Academic Counseling',\n",
    "       'Function__Communications', 'Function__Curriculum Development',\n",
    "       'Function__Data Processing & Information Services',\n",
    "       'Function__Development & Fundraising', 'Function__Enrichment',\n",
    "       'Function__Extended Time & Tutoring',\n",
    "       'Function__Facilities & Maintenance',\n",
    "       'Function__Facilities Planning',\n",
    "       'Function__Finance, Budget, Purchasing & Distribution',\n",
    "       'Function__Food Services', 'Function__Governance',\n",
    "       'Function__Human Resources',\n",
    "       'Function__Instructional Materials & Supplies',\n",
    "       'Function__Insurance', 'Function__Legal',\n",
    "       'Function__Library & Media', 'Function__NO_LABEL',\n",
    "       'Function__Other Compensation', 'Function__Other Non-Compensation',\n",
    "       'Function__Parent & Community Relations',\n",
    "       'Function__Physical Health & Services',\n",
    "       'Function__Professional Development', 'Function__Recruitment',\n",
    "       'Function__Research & Accountability',\n",
    "       'Function__School Administration', 'Function__School Supervision',\n",
    "       'Function__Security & Safety', 'Function__Social & Emotional',\n",
    "       'Function__Special Population Program Management & Support',\n",
    "       'Function__Student Assignment', 'Function__Student Transportation',\n",
    "       'Function__Substitute Compensation',\n",
    "       'Function__Teacher Compensation',\n",
    "       'Function__Untracked Budget Set-Aside', 'Function__Utilities']"
   ]
  },
  {
   "cell_type": "code",
   "execution_count": 45,
   "metadata": {},
   "outputs": [],
   "source": [
    "func_proba.columns = func_classes"
   ]
  },
  {
   "cell_type": "code",
   "execution_count": null,
   "metadata": {},
   "outputs": [],
   "source": [
    "func_proba.to_csv('func_proba.csv')"
   ]
  },
  {
   "cell_type": "code",
   "execution_count": 48,
   "metadata": {},
   "outputs": [],
   "source": [
    "use_proba = pd.DataFrame(use_lrc.predict_proba(X_test))\n",
    "use_classes = ['Use__Business Services', 'Use__ISPD', 'Use__Instruction',\n",
    "       'Use__Leadership', 'Use__NO_LABEL', 'Use__O&M',\n",
    "       'Use__Pupil Services & Enrichment',\n",
    "       'Use__Untracked Budget Set-Aside']\n",
    "use_proba.columns = use_classes"
   ]
  },
  {
   "cell_type": "code",
   "execution_count": 50,
   "metadata": {},
   "outputs": [],
   "source": [
    "use_proba.to_csv('use_proba.csv')"
   ]
  },
  {
   "cell_type": "code",
   "execution_count": 51,
   "metadata": {},
   "outputs": [],
   "source": [
    "sharing_proba = pd.DataFrame(sharing_lrc.predict_proba(X_test))\n",
    "sharing_classes = ['Sharing__Leadership & Management', 'Sharing__NO_LABEL',\n",
    "       'Sharing__School Reported', 'Sharing__School on Central Budgets',\n",
    "       'Sharing__Shared Services']\n",
    "sharing_proba.columns = sharing_classes"
   ]
  },
  {
   "cell_type": "code",
   "execution_count": 53,
   "metadata": {},
   "outputs": [],
   "source": [
    "sharing_proba.to_csv('sharing_proba.csv')"
   ]
  },
  {
   "cell_type": "code",
   "execution_count": 54,
   "metadata": {},
   "outputs": [],
   "source": [
    "reporting_proba = pd.DataFrame(reporting_lrc.predict_proba(X_test))\n",
    "reporting_classes = ['Reporting__NO_LABEL', 'Reporting__Non-School', 'Reporting__School']\n",
    "reporting_proba.columns = reporting_classes"
   ]
  },
  {
   "cell_type": "code",
   "execution_count": 56,
   "metadata": {},
   "outputs": [],
   "source": [
    "reporting_proba.to_csv('reporting_proba.csv')"
   ]
  },
  {
   "cell_type": "code",
   "execution_count": 57,
   "metadata": {},
   "outputs": [],
   "source": [
    "student_proba = pd.DataFrame(student_lrc.predict_proba(X_test))\n",
    "student_classes = ['Student_Type__Alternative', 'Student_Type__At Risk',\n",
    "       'Student_Type__ELL', 'Student_Type__Gifted',\n",
    "       'Student_Type__NO_LABEL', 'Student_Type__Poverty',\n",
    "       'Student_Type__PreK', 'Student_Type__Special Education',\n",
    "       'Student_Type__Unspecified']\n",
    "student_proba.columns = student_classes"
   ]
  },
  {
   "cell_type": "code",
   "execution_count": 59,
   "metadata": {},
   "outputs": [],
   "source": [
    "student_proba.to_csv('student_proba.csv')"
   ]
  },
  {
   "cell_type": "code",
   "execution_count": 62,
   "metadata": {},
   "outputs": [],
   "source": [
    "pos_proba = pd.DataFrame(pos_type_lrc.predict_proba(X_test))\n",
    "pos_classes = ['Position_Type__(Exec) Director', 'Position_Type__Area Officers',\n",
    "       'Position_Type__Club Advisor/Coach',\n",
    "       'Position_Type__Coordinator/Manager', 'Position_Type__Custodian',\n",
    "       'Position_Type__Guidance Counselor',\n",
    "       'Position_Type__Instructional Coach', 'Position_Type__Librarian',\n",
    "       'Position_Type__NO_LABEL', 'Position_Type__Non-Position',\n",
    "       'Position_Type__Nurse', 'Position_Type__Nurse Aide',\n",
    "       'Position_Type__Occupational Therapist', 'Position_Type__Other',\n",
    "       'Position_Type__Physical Therapist', 'Position_Type__Principal',\n",
    "       'Position_Type__Psychologist',\n",
    "       'Position_Type__School Monitor/Security',\n",
    "       'Position_Type__Sec/Clerk/Other Admin',\n",
    "       'Position_Type__Social Worker', 'Position_Type__Speech Therapist',\n",
    "       'Position_Type__Substitute', 'Position_Type__TA',\n",
    "       'Position_Type__Teacher', 'Position_Type__Vice Principal']\n",
    "pos_proba.columns = pos_classes"
   ]
  },
  {
   "cell_type": "code",
   "execution_count": 64,
   "metadata": {},
   "outputs": [],
   "source": [
    "pos_proba.to_csv('pos_proba.csv')"
   ]
  },
  {
   "cell_type": "code",
   "execution_count": 66,
   "metadata": {},
   "outputs": [],
   "source": [
    "ob_proba = pd.DataFrame(ob_type_lrc.predict_proba(X_test))\n",
    "ob_classes = ['Object_Type__Base Salary/Compensation', 'Object_Type__Benefits',\n",
    "       'Object_Type__Contracted Services',\n",
    "       'Object_Type__Equipment & Equipment Lease', 'Object_Type__NO_LABEL',\n",
    "       'Object_Type__Other Compensation/Stipend',\n",
    "       'Object_Type__Other Non-Compensation',\n",
    "       'Object_Type__Rent/Utilities',\n",
    "       'Object_Type__Substitute Compensation',\n",
    "       'Object_Type__Supplies/Materials',\n",
    "       'Object_Type__Travel & Conferences']\n",
    "ob_proba.columns = ob_classes"
   ]
  },
  {
   "cell_type": "code",
   "execution_count": 68,
   "metadata": {},
   "outputs": [],
   "source": [
    "ob_proba.to_csv('object_proba.csv')"
   ]
  },
  {
   "cell_type": "code",
   "execution_count": 70,
   "metadata": {},
   "outputs": [],
   "source": [
    "pre_k_proba = pd.DataFrame(pre_K_lrc.predict_proba(X_test))\n",
    "pre_k_classes = ['Pre_K__NO_LABEL', 'Pre_K__Non PreK', 'Pre_K__PreK']\n",
    "pre_k_proba.columns = pre_k_classes"
   ]
  },
  {
   "cell_type": "code",
   "execution_count": 72,
   "metadata": {},
   "outputs": [],
   "source": [
    "pre_k_proba.to_csv('pre_k_proba.csv')"
   ]
  },
  {
   "cell_type": "code",
   "execution_count": 73,
   "metadata": {},
   "outputs": [],
   "source": [
    "op_stat_proba = pd.DataFrame(op_stat_lrc.predict_proba(X_test))\n",
    "op_stat_classes = ['Operating_Status__Non-Operating',\n",
    "       'Operating_Status__Operating, Not PreK-12',\n",
    "       'Operating_Status__PreK-12 Operating']\n",
    "op_stat_proba.columns = op_stat_classes"
   ]
  },
  {
   "cell_type": "code",
   "execution_count": 75,
   "metadata": {},
   "outputs": [],
   "source": [
    "op_stat_proba.to_csv('op_stat_proba.csv')"
   ]
  },
  {
   "cell_type": "code",
   "execution_count": null,
   "metadata": {},
   "outputs": [],
   "source": []
  }
 ],
 "metadata": {
  "kernelspec": {
   "display_name": "Python 3",
   "language": "python",
   "name": "python3"
  },
  "language_info": {
   "codemirror_mode": {
    "name": "ipython",
    "version": 3
   },
   "file_extension": ".py",
   "mimetype": "text/x-python",
   "name": "python",
   "nbconvert_exporter": "python",
   "pygments_lexer": "ipython3",
   "version": "3.6.2"
  }
 },
 "nbformat": 4,
 "nbformat_minor": 2
}
