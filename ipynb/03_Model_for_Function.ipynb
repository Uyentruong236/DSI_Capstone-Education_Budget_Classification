{
 "cells": [
  {
   "cell_type": "code",
   "execution_count": 1,
   "metadata": {},
   "outputs": [],
   "source": [
    "%run ../__init__.py"
   ]
  },
  {
   "cell_type": "markdown",
   "metadata": {},
   "source": [
    "## Data preprocessing with Tfidf"
   ]
  },
  {
   "cell_type": "code",
   "execution_count": 2,
   "metadata": {},
   "outputs": [
    {
     "name": "stderr",
     "output_type": "stream",
     "text": [
      "/opt/conda/lib/python3.6/site-packages/IPython/core/interactiveshell.py:2728: DtypeWarning: Columns (6,12) have mixed types. Specify dtype option on import or set low_memory=False.\n",
      "  interactivity=interactivity, compiler=compiler, result=result)\n"
     ]
    }
   ],
   "source": [
    "budget_train = pd.read_csv('../data/train_cleaned.csv', index_col=0)\n",
    "budget_test = pd.read_csv('../data/test_clean.csv', index_col=0)"
   ]
  },
  {
   "cell_type": "code",
   "execution_count": 3,
   "metadata": {},
   "outputs": [
    {
     "data": {
      "text/plain": [
       "Function                      0\n",
       "Use                           0\n",
       "Sharing                       0\n",
       "Reporting                     0\n",
       "Student_Type                  0\n",
       "Position_Type                 0\n",
       "Object_Type                   0\n",
       "Pre_K                         0\n",
       "Operating_Status              0\n",
       "Object_Description          423\n",
       "Text_2                       17\n",
       "SubFund_Description           0\n",
       "Job_Title_Description         0\n",
       "Text_3                    70814\n",
       "Text_4                       18\n",
       "Sub_Object_Description        0\n",
       "Location_Description          0\n",
       "FTE                           0\n",
       "Function_Description          5\n",
       "Facility_or_Department        0\n",
       "Position_Extra              611\n",
       "Total                         0\n",
       "Program_Description           2\n",
       "Fund_Description              0\n",
       "Text_1                      422\n",
       "combined_text                 0\n",
       "dtype: int64"
      ]
     },
     "execution_count": 3,
     "metadata": {},
     "output_type": "execute_result"
    }
   ],
   "source": [
    "budget_train.isnull().sum()"
   ]
  },
  {
   "cell_type": "code",
   "execution_count": 4,
   "metadata": {},
   "outputs": [
    {
     "data": {
      "text/plain": [
       "ID                            0\n",
       "Object_Description         1752\n",
       "Program_Description        5253\n",
       "SubFund_Description       33953\n",
       "Job_Title_Description     17747\n",
       "Facility_or_Department    47225\n",
       "Sub_Object_Description    16452\n",
       "Location_Description      12748\n",
       "FTE                           0\n",
       "Function_Description       3198\n",
       "Position_Extra            36279\n",
       "Text_4                    47252\n",
       "Total                         0\n",
       "Text_2                    45426\n",
       "Text_3                    44281\n",
       "Fund_Description          10478\n",
       "Text_1                    34717\n",
       "dtype: int64"
      ]
     },
     "execution_count": 4,
     "metadata": {},
     "output_type": "execute_result"
    }
   ],
   "source": [
    "budget_test.isnull().sum()"
   ]
  },
  {
   "cell_type": "code",
   "execution_count": 5,
   "metadata": {},
   "outputs": [],
   "source": [
    "for col in budget_test[word_predictors]:\n",
    "    budget_test[col] = budget_test[word_predictors].loc[:,[col]].fillna(' ')"
   ]
  },
  {
   "cell_type": "code",
   "execution_count": 6,
   "metadata": {},
   "outputs": [],
   "source": [
    "for col in budget_train[word_predictors]:\n",
    "    budget_train[col] = budget_train[word_predictors].loc[:,[col]].fillna(' ')"
   ]
  },
  {
   "cell_type": "code",
   "execution_count": 7,
   "metadata": {},
   "outputs": [],
   "source": [
    "label = LabelEncoder()"
   ]
  },
  {
   "cell_type": "code",
   "execution_count": 8,
   "metadata": {},
   "outputs": [],
   "source": [
    "class ItemSelector(BaseEstimator, TransformerMixin):\n",
    "    \"\"\"For data grouped by feature, select subset of data at a provided key.\n",
    "\n",
    "    The data is expected to be stored in a 2D data structure, where the first\n",
    "    index is over features and the second is over samples.  i.e.\n",
    "\n",
    "    >> len(data[key]) == n_samples\n",
    "\n",
    "    Please note that this is the opposite convention to scikit-learn feature\n",
    "    matrixes (where the first index corresponds to sample).\n",
    "\n",
    "    ItemSelector only requires that the collection implement getitem\n",
    "    (data[key]).  Examples include: a dict of lists, 2D numpy array, Pandas\n",
    "    DataFrame, numpy record array, etc.\n",
    "\n",
    "    >> data = {'a': [1, 5, 2, 5, 2, 8],\n",
    "               'b': [9, 4, 1, 4, 1, 3]}\n",
    "    >> ds = ItemSelector(key='a')\n",
    "    >> data['a'] == ds.transform(data)\n",
    "\n",
    "    Parameters\n",
    "     ----------\n",
    "    key : hashable, required\n",
    "        The key corresponding to the desired value in a mappable.\n",
    "    \"\"\"\n",
    "    def __init__(self, key):\n",
    "        self.key = key\n",
    "\n",
    "    def fit(self, x, y=None):\n",
    "        return self\n",
    "\n",
    "    def transform(self, data_dict):\n",
    "        return data_dict[self.key]\n",
    "    "
   ]
  },
  {
   "cell_type": "code",
   "execution_count": 9,
   "metadata": {},
   "outputs": [],
   "source": [
    "class ArrayCaster(BaseEstimator, TransformerMixin):\n",
    "    def fit(self, x, y=None):\n",
    "        return self\n",
    "\n",
    "    def transform(self, data):\n",
    "        return np.transpose(np.matrix(data))"
   ]
  },
  {
   "cell_type": "code",
   "execution_count": 10,
   "metadata": {},
   "outputs": [
    {
     "data": {
      "text/plain": [
       "['Function',\n",
       " 'Use',\n",
       " 'Sharing',\n",
       " 'Reporting',\n",
       " 'Student_Type',\n",
       " 'Position_Type',\n",
       " 'Object_Type',\n",
       " 'Pre_K',\n",
       " 'Operating_Status']"
      ]
     },
     "execution_count": 10,
     "metadata": {},
     "output_type": "execute_result"
    }
   ],
   "source": [
    "targets"
   ]
  },
  {
   "cell_type": "code",
   "execution_count": 11,
   "metadata": {},
   "outputs": [],
   "source": [
    "# 400,000+ examples, 14 features\n",
    "X = budget_train[predictors] \n",
    "y = label.fit_transform(budget_train['Function'])\n",
    "\n",
    "X_train, X_val, y_train, y_val = train_test_split(X, y, test_size = .2, random_state=42)\n",
    "                                                "
   ]
  },
  {
   "cell_type": "code",
   "execution_count": 12,
   "metadata": {},
   "outputs": [],
   "source": [
    "# feature union transformer list \n",
    "transformer_list = [\n",
    "    ('Object_Description', Pipeline([\n",
    "                ('selector', ItemSelector(key='Object_Description')),\n",
    "                ('tfidf', TfidfVectorizer(ngram_range=(1,2), token_pattern='(?u)\\\\b\\\\w\\\\w+\\\\b',min_df=100)),\n",
    "            ])),\n",
    "    ('Text_2', Pipeline([\n",
    "                ('selector', ItemSelector(key='Text_2')),\n",
    "                ('tfidf', TfidfVectorizer(ngram_range=(1,2), token_pattern='(?u)\\\\b\\\\w\\\\w+\\\\b',min_df=100)),\n",
    "            ])),\n",
    "    ('SubFund_Description', Pipeline([\n",
    "                ('selector', ItemSelector(key='SubFund_Description')),\n",
    "                ('tfidf', TfidfVectorizer(ngram_range=(1,2), token_pattern='(?u)\\\\b\\\\w\\\\w+\\\\b',min_df=100)),\n",
    "            ])),\n",
    "    ('Job_Title_Description', Pipeline([\n",
    "                ('selector', ItemSelector(key='Job_Title_Description')),\n",
    "                ('tfidf', TfidfVectorizer(ngram_range=(1,2), token_pattern='(?u)\\\\b\\\\w\\\\w+\\\\b',min_df=100)),\n",
    "            ])),\n",
    "    ('Text_3', Pipeline([\n",
    "                ('selector', ItemSelector(key='Text_3')),\n",
    "                ('tfidf', TfidfVectorizer(ngram_range=(1,2), token_pattern='(?u)\\\\b\\\\w\\\\w+\\\\b',min_df=100)),\n",
    "            ])),\n",
    "    ('Text_4', Pipeline([\n",
    "                ('selector', ItemSelector(key='Text_4')),\n",
    "                ('tfidf', TfidfVectorizer(ngram_range=(1,2), token_pattern='(?u)\\\\b\\\\w\\\\w+\\\\b',min_df=100)),\n",
    "            ])),\n",
    "    ('Sub_Object_Description', Pipeline([\n",
    "                ('selector', ItemSelector(key='Sub_Object_Description')),\n",
    "                ('tfidf', TfidfVectorizer(ngram_range=(1,2), token_pattern='(?u)\\\\b\\\\w\\\\w+\\\\b',min_df=100)),\n",
    "            ])),\n",
    "    ('Location_Description', Pipeline([\n",
    "                ('selector', ItemSelector(key='Location_Description')),\n",
    "                ('tfidf', TfidfVectorizer(ngram_range=(1,2), token_pattern='(?u)\\\\b\\\\w\\\\w+\\\\b',min_df=100)),\n",
    "            ])),\n",
    "    ('Function_Description', Pipeline([\n",
    "                ('selector', ItemSelector(key='Function_Description')),\n",
    "                ('tfidf', TfidfVectorizer(ngram_range=(1,2), token_pattern='(?u)\\\\b\\\\w\\\\w+\\\\b',min_df=100)),\n",
    "            ])),\n",
    "    ('Facility_or_Department', Pipeline([\n",
    "                ('selector', ItemSelector(key='Facility_or_Department')),\n",
    "                ('tfidf', TfidfVectorizer(ngram_range=(1,2), token_pattern='(?u)\\\\b\\\\w\\\\w+\\\\b',min_df=100)),\n",
    "            ])),\n",
    "    ('Position_Extra', Pipeline([\n",
    "                ('selector', ItemSelector(key='Position_Extra')),\n",
    "                ('tfidf', TfidfVectorizer(ngram_range=(1,2), token_pattern='(?u)\\\\b\\\\w\\\\w+\\\\b',min_df=100)),\n",
    "            ])),\n",
    "    ('Program_Description', Pipeline([\n",
    "                ('selector', ItemSelector(key='Program_Description')),\n",
    "                ('tfidf', TfidfVectorizer(ngram_range=(1,2), token_pattern='(?u)\\\\b\\\\w\\\\w+\\\\b',min_df=100)),\n",
    "            ])),\n",
    "    ('Fund_Description', Pipeline([\n",
    "                ('selector', ItemSelector(key='Fund_Description')),\n",
    "                ('tfidf', TfidfVectorizer(ngram_range=(1,2), token_pattern='(?u)\\\\b\\\\w\\\\w+\\\\b',min_df=100)),\n",
    "            ])),\n",
    "    ('Text_1', Pipeline([\n",
    "                ('selector', ItemSelector(key='Text_1')),\n",
    "                ('tfidf', TfidfVectorizer(ngram_range=(1,2), token_pattern='(?u)\\\\b\\\\w\\\\w+\\\\b',min_df=100)),\n",
    "            ])),\n",
    "#     ('FTE', Pipeline([\n",
    "#                 ('selector', ItemSelector(key='FTE')),\n",
    "#                 ('scaler', StandardScaler()),\n",
    "#                 ('caster', ArrayCaster()),\n",
    "#             ])),\n",
    "#     ('Total', Pipeline([\n",
    "#                 ('selector', ItemSelector(key='Total')),\n",
    "#                 ('scaler', StandardScaler()),\n",
    "#                 ('caster', ArrayCaster()),\n",
    "#             ])),\n",
    "]"
   ]
  },
  {
   "cell_type": "markdown",
   "metadata": {},
   "source": [
    "### Don't include numerical columns in final feature union since it decreased scores and increased log loss- in general, in the original data, numerical features had a lot of missing values and some incorrect values for data that were there"
   ]
  },
  {
   "cell_type": "code",
   "execution_count": 13,
   "metadata": {},
   "outputs": [],
   "source": [
    "# create pipeline\n",
    "model_pipeline = Pipeline([\n",
    "    (\"union\", FeatureUnion(transformer_list=transformer_list)),\n",
    "    (\"clf\", LogisticRegression()),\n",
    "])"
   ]
  },
  {
   "cell_type": "code",
   "execution_count": 14,
   "metadata": {},
   "outputs": [],
   "source": [
    "X_test = budget_test"
   ]
  },
  {
   "cell_type": "code",
   "execution_count": 15,
   "metadata": {},
   "outputs": [],
   "source": [
    "function_model = model_pipeline.fit(X_train, y_train)"
   ]
  },
  {
   "cell_type": "code",
   "execution_count": 16,
   "metadata": {},
   "outputs": [
    {
     "data": {
      "text/plain": [
       "0.95933433472508045"
      ]
     },
     "execution_count": 16,
     "metadata": {},
     "output_type": "execute_result"
    }
   ],
   "source": [
    "function_model.score(X_train, y_train)"
   ]
  },
  {
   "cell_type": "code",
   "execution_count": 17,
   "metadata": {},
   "outputs": [],
   "source": [
    "val_proba = function_model.predict_proba(X_val)"
   ]
  },
  {
   "cell_type": "code",
   "execution_count": 18,
   "metadata": {},
   "outputs": [],
   "source": [
    "predict_proba = function_model.predict_proba(X_test)"
   ]
  },
  {
   "cell_type": "code",
   "execution_count": 12,
   "metadata": {},
   "outputs": [
    {
     "data": {
      "text/plain": [
       "array(['Function__Aides Compensation',\n",
       "       'Function__Career & Academic Counseling',\n",
       "       'Function__Communications', 'Function__Curriculum Development',\n",
       "       'Function__Data Processing & Information Services',\n",
       "       'Function__Development & Fundraising', 'Function__Enrichment',\n",
       "       'Function__Extended Time & Tutoring',\n",
       "       'Function__Facilities & Maintenance',\n",
       "       'Function__Facilities Planning',\n",
       "       'Function__Finance, Budget, Purchasing & Distribution',\n",
       "       'Function__Food Services', 'Function__Governance',\n",
       "       'Function__Human Resources',\n",
       "       'Function__Instructional Materials & Supplies',\n",
       "       'Function__Insurance', 'Function__Legal',\n",
       "       'Function__Library & Media', 'Function__NO_LABEL',\n",
       "       'Function__Other Compensation', 'Function__Other Non-Compensation',\n",
       "       'Function__Parent & Community Relations',\n",
       "       'Function__Physical Health & Services',\n",
       "       'Function__Professional Development', 'Function__Recruitment',\n",
       "       'Function__Research & Accountability',\n",
       "       'Function__School Administration', 'Function__School Supervision',\n",
       "       'Function__Security & Safety', 'Function__Social & Emotional',\n",
       "       'Function__Special Population Program Management & Support',\n",
       "       'Function__Student Assignment', 'Function__Student Transportation',\n",
       "       'Function__Substitute Compensation',\n",
       "       'Function__Teacher Compensation',\n",
       "       'Function__Untracked Budget Set-Aside', 'Function__Utilities'], dtype=object)"
      ]
     },
     "execution_count": 12,
     "metadata": {},
     "output_type": "execute_result"
    }
   ],
   "source": [
    "label.classes_"
   ]
  },
  {
   "cell_type": "code",
   "execution_count": 21,
   "metadata": {},
   "outputs": [
    {
     "data": {
      "text/plain": [
       "0.16233774848612828"
      ]
     },
     "execution_count": 21,
     "metadata": {},
     "output_type": "execute_result"
    }
   ],
   "source": [
    "log_loss(y_val, val_proba)"
   ]
  },
  {
   "cell_type": "code",
   "execution_count": 22,
   "metadata": {},
   "outputs": [],
   "source": [
    "from sklearn.externals import joblib"
   ]
  },
  {
   "cell_type": "code",
   "execution_count": 25,
   "metadata": {},
   "outputs": [
    {
     "data": {
      "text/plain": [
       "['function_model.pkl']"
      ]
     },
     "execution_count": 25,
     "metadata": {},
     "output_type": "execute_result"
    }
   ],
   "source": [
    "joblib.dump(function_model, 'function_model.pkl')"
   ]
  },
  {
   "cell_type": "code",
   "execution_count": 26,
   "metadata": {},
   "outputs": [],
   "source": [
    "def score_eval(model, X_val, y_val):\n",
    "    preds = model.predict(X_val)\n",
    "    proba = model.predict_proba(X_val)\n",
    "    return {\n",
    "        'log_loss': log_loss(y_val, proba),\n",
    "        'accuracy': accuracy_score(y_val, preds),\n",
    "        'confmat': confusion_matrix(y_val, preds),\n",
    "        'clf_rep': classification_report(y_val, preds)\n",
    "    }"
   ]
  },
  {
   "cell_type": "code",
   "execution_count": 28,
   "metadata": {},
   "outputs": [
    {
     "name": "stdout",
     "output_type": "stream",
     "text": [
      "------------------------------------------------------------\n",
      "log_loss\n",
      "0.162337748486\n",
      "------------------------------------------------------------\n",
      "accuracy\n",
      "0.955106425502\n",
      "------------------------------------------------------------\n",
      "confmat\n",
      "[[ 3925     0     0 ...,     4     0     0]\n",
      " [    2   493     0 ...,    24     1     0]\n",
      " [    0     0    45 ...,     1     0     0]\n",
      " ..., \n",
      " [   15     0     0 ..., 16947     0     0]\n",
      " [    0     0     0 ...,    15    15     0]\n",
      " [    0     0     1 ...,     0     0   342]]\n",
      "------------------------------------------------------------\n",
      "clf_rep\n",
      "             precision    recall  f1-score   support\n",
      "\n",
      "          0       0.97      0.99      0.98      3956\n",
      "          1       0.86      0.87      0.86       566\n",
      "          2       0.83      0.80      0.82        56\n",
      "          3       0.91      0.86      0.88      1514\n",
      "          4       0.94      0.88      0.91       678\n",
      "          5       0.80      0.44      0.57        18\n",
      "          6       0.95      0.85      0.90      2197\n",
      "          7       0.84      0.87      0.86      1740\n",
      "          8       0.96      0.96      0.96      3980\n",
      "          9       0.40      0.40      0.40         5\n",
      "         10       0.83      0.89      0.86       477\n",
      "         11       0.97      0.99      0.98      2861\n",
      "         12       0.81      0.63      0.71       125\n",
      "         13       0.82      0.89      0.85       261\n",
      "         14       0.92      0.98      0.95      3977\n",
      "         15       0.92      1.00      0.96        11\n",
      "         16       1.00      0.83      0.91        24\n",
      "         17       0.96      0.97      0.97       856\n",
      "         18       0.96      0.93      0.95     12003\n",
      "         19       0.92      0.91      0.92       146\n",
      "         20       0.79      0.84      0.81       376\n",
      "         21       0.95      0.90      0.92       424\n",
      "         22       0.98      0.95      0.96      1151\n",
      "         23       0.93      0.90      0.92      3751\n",
      "         24       0.98      0.93      0.96       104\n",
      "         25       0.91      0.88      0.90       280\n",
      "         26       0.94      0.95      0.94      2601\n",
      "         27       0.79      0.83      0.81       513\n",
      "         28       0.96      0.94      0.95       578\n",
      "         29       0.91      0.86      0.89      1055\n",
      "         30       0.87      0.82      0.84       906\n",
      "         31       0.98      0.76      0.86        67\n",
      "         32       0.98      0.99      0.99      2912\n",
      "         33       1.00      1.00      1.00     12373\n",
      "         34       0.97      0.99      0.98     17059\n",
      "         35       0.88      0.19      0.32        78\n",
      "         36       0.96      0.91      0.93       377\n",
      "\n",
      "avg / total       0.96      0.96      0.95     80056\n",
      "\n",
      "------------------------------------------------------------\n"
     ]
    }
   ],
   "source": [
    "results = score_eval(function_model, X_val, y_val)\n",
    "\n",
    "print('-'*60)\n",
    "for key, value in results.items():\n",
    "    print(key)\n",
    "    print(value)\n",
    "    print('-'*60)"
   ]
  },
  {
   "cell_type": "code",
   "execution_count": 13,
   "metadata": {},
   "outputs": [],
   "source": [
    "classes = label.classes_"
   ]
  },
  {
   "cell_type": "code",
   "execution_count": 14,
   "metadata": {},
   "outputs": [
    {
     "data": {
      "text/plain": [
       "array(['Function__Aides Compensation',\n",
       "       'Function__Career & Academic Counseling',\n",
       "       'Function__Communications', 'Function__Curriculum Development',\n",
       "       'Function__Data Processing & Information Services',\n",
       "       'Function__Development & Fundraising', 'Function__Enrichment',\n",
       "       'Function__Extended Time & Tutoring',\n",
       "       'Function__Facilities & Maintenance',\n",
       "       'Function__Facilities Planning',\n",
       "       'Function__Finance, Budget, Purchasing & Distribution',\n",
       "       'Function__Food Services', 'Function__Governance',\n",
       "       'Function__Human Resources',\n",
       "       'Function__Instructional Materials & Supplies',\n",
       "       'Function__Insurance', 'Function__Legal',\n",
       "       'Function__Library & Media', 'Function__NO_LABEL',\n",
       "       'Function__Other Compensation', 'Function__Other Non-Compensation',\n",
       "       'Function__Parent & Community Relations',\n",
       "       'Function__Physical Health & Services',\n",
       "       'Function__Professional Development', 'Function__Recruitment',\n",
       "       'Function__Research & Accountability',\n",
       "       'Function__School Administration', 'Function__School Supervision',\n",
       "       'Function__Security & Safety', 'Function__Social & Emotional',\n",
       "       'Function__Special Population Program Management & Support',\n",
       "       'Function__Student Assignment', 'Function__Student Transportation',\n",
       "       'Function__Substitute Compensation',\n",
       "       'Function__Teacher Compensation',\n",
       "       'Function__Untracked Budget Set-Aside', 'Function__Utilities'], dtype=object)"
      ]
     },
     "execution_count": 14,
     "metadata": {},
     "output_type": "execute_result"
    }
   ],
   "source": [
    "classes"
   ]
  },
  {
   "cell_type": "code",
   "execution_count": 32,
   "metadata": {},
   "outputs": [],
   "source": [
    "function_probability = pd.DataFrame(predict_proba, columns=classes)"
   ]
  },
  {
   "cell_type": "code",
   "execution_count": 36,
   "metadata": {},
   "outputs": [
    {
     "data": {
      "text/html": [
       "<div>\n",
       "<table border=\"1\" class=\"dataframe\">\n",
       "  <thead>\n",
       "    <tr style=\"text-align: right;\">\n",
       "      <th></th>\n",
       "      <th>Function__Aides Compensation</th>\n",
       "      <th>Function__Career &amp; Academic Counseling</th>\n",
       "      <th>Function__Communications</th>\n",
       "      <th>Function__Curriculum Development</th>\n",
       "      <th>Function__Data Processing &amp; Information Services</th>\n",
       "      <th>Function__Development &amp; Fundraising</th>\n",
       "      <th>Function__Enrichment</th>\n",
       "      <th>Function__Extended Time &amp; Tutoring</th>\n",
       "      <th>Function__Facilities &amp; Maintenance</th>\n",
       "      <th>Function__Facilities Planning</th>\n",
       "      <th>...</th>\n",
       "      <th>Function__School Supervision</th>\n",
       "      <th>Function__Security &amp; Safety</th>\n",
       "      <th>Function__Social &amp; Emotional</th>\n",
       "      <th>Function__Special Population Program Management &amp; Support</th>\n",
       "      <th>Function__Student Assignment</th>\n",
       "      <th>Function__Student Transportation</th>\n",
       "      <th>Function__Substitute Compensation</th>\n",
       "      <th>Function__Teacher Compensation</th>\n",
       "      <th>Function__Untracked Budget Set-Aside</th>\n",
       "      <th>Function__Utilities</th>\n",
       "    </tr>\n",
       "  </thead>\n",
       "  <tbody>\n",
       "    <tr>\n",
       "      <th>0</th>\n",
       "      <td>0.003283</td>\n",
       "      <td>0.000519</td>\n",
       "      <td>0.000011</td>\n",
       "      <td>0.000254</td>\n",
       "      <td>0.000604</td>\n",
       "      <td>0.000052</td>\n",
       "      <td>0.003436</td>\n",
       "      <td>0.000141</td>\n",
       "      <td>0.006110</td>\n",
       "      <td>0.000064</td>\n",
       "      <td>...</td>\n",
       "      <td>0.000135</td>\n",
       "      <td>0.000216</td>\n",
       "      <td>0.000291</td>\n",
       "      <td>0.001048</td>\n",
       "      <td>0.000217</td>\n",
       "      <td>0.275061</td>\n",
       "      <td>0.000459</td>\n",
       "      <td>0.006293</td>\n",
       "      <td>0.001564</td>\n",
       "      <td>0.006130</td>\n",
       "    </tr>\n",
       "    <tr>\n",
       "      <th>1</th>\n",
       "      <td>0.000119</td>\n",
       "      <td>0.001974</td>\n",
       "      <td>0.000316</td>\n",
       "      <td>0.002526</td>\n",
       "      <td>0.009157</td>\n",
       "      <td>0.000285</td>\n",
       "      <td>0.372242</td>\n",
       "      <td>0.000882</td>\n",
       "      <td>0.098478</td>\n",
       "      <td>0.000367</td>\n",
       "      <td>...</td>\n",
       "      <td>0.000081</td>\n",
       "      <td>0.008704</td>\n",
       "      <td>0.011119</td>\n",
       "      <td>0.007580</td>\n",
       "      <td>0.000534</td>\n",
       "      <td>0.000131</td>\n",
       "      <td>0.000086</td>\n",
       "      <td>0.002834</td>\n",
       "      <td>0.001556</td>\n",
       "      <td>0.002551</td>\n",
       "    </tr>\n",
       "    <tr>\n",
       "      <th>2</th>\n",
       "      <td>0.057924</td>\n",
       "      <td>0.002755</td>\n",
       "      <td>0.000062</td>\n",
       "      <td>0.002482</td>\n",
       "      <td>0.002392</td>\n",
       "      <td>0.000102</td>\n",
       "      <td>0.001242</td>\n",
       "      <td>0.000675</td>\n",
       "      <td>0.013308</td>\n",
       "      <td>0.000255</td>\n",
       "      <td>...</td>\n",
       "      <td>0.000094</td>\n",
       "      <td>0.002743</td>\n",
       "      <td>0.004124</td>\n",
       "      <td>0.000926</td>\n",
       "      <td>0.000438</td>\n",
       "      <td>0.001982</td>\n",
       "      <td>0.002469</td>\n",
       "      <td>0.008120</td>\n",
       "      <td>0.002062</td>\n",
       "      <td>0.003788</td>\n",
       "    </tr>\n",
       "    <tr>\n",
       "      <th>3</th>\n",
       "      <td>0.058561</td>\n",
       "      <td>0.002759</td>\n",
       "      <td>0.000063</td>\n",
       "      <td>0.002485</td>\n",
       "      <td>0.002395</td>\n",
       "      <td>0.000102</td>\n",
       "      <td>0.001243</td>\n",
       "      <td>0.000674</td>\n",
       "      <td>0.013332</td>\n",
       "      <td>0.000255</td>\n",
       "      <td>...</td>\n",
       "      <td>0.000094</td>\n",
       "      <td>0.002747</td>\n",
       "      <td>0.004130</td>\n",
       "      <td>0.000928</td>\n",
       "      <td>0.000438</td>\n",
       "      <td>0.001984</td>\n",
       "      <td>0.002463</td>\n",
       "      <td>0.008024</td>\n",
       "      <td>0.002066</td>\n",
       "      <td>0.003794</td>\n",
       "    </tr>\n",
       "    <tr>\n",
       "      <th>4</th>\n",
       "      <td>0.000459</td>\n",
       "      <td>0.015215</td>\n",
       "      <td>0.000142</td>\n",
       "      <td>0.000264</td>\n",
       "      <td>0.003094</td>\n",
       "      <td>0.000145</td>\n",
       "      <td>0.023989</td>\n",
       "      <td>0.000053</td>\n",
       "      <td>0.018626</td>\n",
       "      <td>0.000131</td>\n",
       "      <td>...</td>\n",
       "      <td>0.000206</td>\n",
       "      <td>0.000959</td>\n",
       "      <td>0.000245</td>\n",
       "      <td>0.000519</td>\n",
       "      <td>0.000271</td>\n",
       "      <td>0.000871</td>\n",
       "      <td>0.000017</td>\n",
       "      <td>0.000452</td>\n",
       "      <td>0.000268</td>\n",
       "      <td>0.000237</td>\n",
       "    </tr>\n",
       "  </tbody>\n",
       "</table>\n",
       "<p>5 rows × 37 columns</p>\n",
       "</div>"
      ],
      "text/plain": [
       "   Function__Aides Compensation  Function__Career & Academic Counseling  \\\n",
       "0                      0.003283                                0.000519   \n",
       "1                      0.000119                                0.001974   \n",
       "2                      0.057924                                0.002755   \n",
       "3                      0.058561                                0.002759   \n",
       "4                      0.000459                                0.015215   \n",
       "\n",
       "   Function__Communications  Function__Curriculum Development  \\\n",
       "0                  0.000011                          0.000254   \n",
       "1                  0.000316                          0.002526   \n",
       "2                  0.000062                          0.002482   \n",
       "3                  0.000063                          0.002485   \n",
       "4                  0.000142                          0.000264   \n",
       "\n",
       "   Function__Data Processing & Information Services  \\\n",
       "0                                          0.000604   \n",
       "1                                          0.009157   \n",
       "2                                          0.002392   \n",
       "3                                          0.002395   \n",
       "4                                          0.003094   \n",
       "\n",
       "   Function__Development & Fundraising  Function__Enrichment  \\\n",
       "0                             0.000052              0.003436   \n",
       "1                             0.000285              0.372242   \n",
       "2                             0.000102              0.001242   \n",
       "3                             0.000102              0.001243   \n",
       "4                             0.000145              0.023989   \n",
       "\n",
       "   Function__Extended Time & Tutoring  Function__Facilities & Maintenance  \\\n",
       "0                            0.000141                            0.006110   \n",
       "1                            0.000882                            0.098478   \n",
       "2                            0.000675                            0.013308   \n",
       "3                            0.000674                            0.013332   \n",
       "4                            0.000053                            0.018626   \n",
       "\n",
       "   Function__Facilities Planning         ...           \\\n",
       "0                       0.000064         ...            \n",
       "1                       0.000367         ...            \n",
       "2                       0.000255         ...            \n",
       "3                       0.000255         ...            \n",
       "4                       0.000131         ...            \n",
       "\n",
       "   Function__School Supervision  Function__Security & Safety  \\\n",
       "0                      0.000135                     0.000216   \n",
       "1                      0.000081                     0.008704   \n",
       "2                      0.000094                     0.002743   \n",
       "3                      0.000094                     0.002747   \n",
       "4                      0.000206                     0.000959   \n",
       "\n",
       "   Function__Social & Emotional  \\\n",
       "0                      0.000291   \n",
       "1                      0.011119   \n",
       "2                      0.004124   \n",
       "3                      0.004130   \n",
       "4                      0.000245   \n",
       "\n",
       "   Function__Special Population Program Management & Support  \\\n",
       "0                                           0.001048           \n",
       "1                                           0.007580           \n",
       "2                                           0.000926           \n",
       "3                                           0.000928           \n",
       "4                                           0.000519           \n",
       "\n",
       "   Function__Student Assignment  Function__Student Transportation  \\\n",
       "0                      0.000217                          0.275061   \n",
       "1                      0.000534                          0.000131   \n",
       "2                      0.000438                          0.001982   \n",
       "3                      0.000438                          0.001984   \n",
       "4                      0.000271                          0.000871   \n",
       "\n",
       "   Function__Substitute Compensation  Function__Teacher Compensation  \\\n",
       "0                           0.000459                        0.006293   \n",
       "1                           0.000086                        0.002834   \n",
       "2                           0.002469                        0.008120   \n",
       "3                           0.002463                        0.008024   \n",
       "4                           0.000017                        0.000452   \n",
       "\n",
       "   Function__Untracked Budget Set-Aside  Function__Utilities  \n",
       "0                              0.001564             0.006130  \n",
       "1                              0.001556             0.002551  \n",
       "2                              0.002062             0.003788  \n",
       "3                              0.002066             0.003794  \n",
       "4                              0.000268             0.000237  \n",
       "\n",
       "[5 rows x 37 columns]"
      ]
     },
     "execution_count": 36,
     "metadata": {},
     "output_type": "execute_result"
    }
   ],
   "source": [
    "function_probability.head()"
   ]
  },
  {
   "cell_type": "code",
   "execution_count": 37,
   "metadata": {},
   "outputs": [],
   "source": [
    "function_probability.to_csv('function_probability.csv')"
   ]
  },
  {
   "cell_type": "code",
   "execution_count": null,
   "metadata": {},
   "outputs": [],
   "source": []
  }
 ],
 "metadata": {
  "kernelspec": {
   "display_name": "Python 3",
   "language": "python",
   "name": "python3"
  },
  "language_info": {
   "codemirror_mode": {
    "name": "ipython",
    "version": 3
   },
   "file_extension": ".py",
   "mimetype": "text/x-python",
   "name": "python",
   "nbconvert_exporter": "python",
   "pygments_lexer": "ipython3",
   "version": "3.6.2"
  }
 },
 "nbformat": 4,
 "nbformat_minor": 2
}
